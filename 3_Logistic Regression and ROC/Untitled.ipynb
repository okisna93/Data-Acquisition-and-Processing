{
 "cells": [
  {
   "cell_type": "code",
   "execution_count": 1,
   "id": "6ae39e95",
   "metadata": {},
   "outputs": [],
   "source": [
    "from sklearn import metrics\n",
    "from sklearn.linear_model import LogisticRegression\n",
    "from sklearn.model_selection import train_test_split\n",
    "import numpy as np\n",
    "import pandas as pd\n",
    "import matplotlib.pyplot as plt"
   ]
  },
  {
   "cell_type": "code",
   "execution_count": 2,
   "id": "f7b78731",
   "metadata": {},
   "outputs": [
    {
     "data": {
      "text/html": [
       "<div>\n",
       "<style scoped>\n",
       "    .dataframe tbody tr th:only-of-type {\n",
       "        vertical-align: middle;\n",
       "    }\n",
       "\n",
       "    .dataframe tbody tr th {\n",
       "        vertical-align: top;\n",
       "    }\n",
       "\n",
       "    .dataframe thead th {\n",
       "        text-align: right;\n",
       "    }\n",
       "</style>\n",
       "<table border=\"1\" class=\"dataframe\">\n",
       "  <thead>\n",
       "    <tr style=\"text-align: right;\">\n",
       "      <th></th>\n",
       "      <th>5.5986</th>\n",
       "      <th>5.5986.1</th>\n",
       "      <th>5.534</th>\n",
       "      <th>5.534.1</th>\n",
       "      <th>289.37</th>\n",
       "      <th>289.82</th>\n",
       "      <th>289.3</th>\n",
       "      <th>289.66</th>\n",
       "      <th>289.37.1</th>\n",
       "      <th>289.82.1</th>\n",
       "      <th>...</th>\n",
       "      <th>21.206</th>\n",
       "      <th>41.042</th>\n",
       "      <th>42.338</th>\n",
       "      <th>41.042.1</th>\n",
       "      <th>42.108</th>\n",
       "      <th>2.133</th>\n",
       "      <th>2.1744</th>\n",
       "      <th>2.1175</th>\n",
       "      <th>2.1175.1</th>\n",
       "      <th>1</th>\n",
       "    </tr>\n",
       "  </thead>\n",
       "  <tbody>\n",
       "    <tr>\n",
       "      <th>3994</th>\n",
       "      <td>4.3152</td>\n",
       "      <td>4.3203</td>\n",
       "      <td>4.3152</td>\n",
       "      <td>4.3177</td>\n",
       "      <td>290.45</td>\n",
       "      <td>290.55</td>\n",
       "      <td>290.25</td>\n",
       "      <td>290.45</td>\n",
       "      <td>290.45</td>\n",
       "      <td>290.55</td>\n",
       "      <td>...</td>\n",
       "      <td>22.289</td>\n",
       "      <td>43.479</td>\n",
       "      <td>43.479</td>\n",
       "      <td>43.479</td>\n",
       "      <td>43.479</td>\n",
       "      <td>3.0343</td>\n",
       "      <td>3.0343</td>\n",
       "      <td>3.0343</td>\n",
       "      <td>3.0343</td>\n",
       "      <td>0</td>\n",
       "    </tr>\n",
       "    <tr>\n",
       "      <th>3995</th>\n",
       "      <td>4.3126</td>\n",
       "      <td>4.3152</td>\n",
       "      <td>4.3074</td>\n",
       "      <td>4.3100</td>\n",
       "      <td>290.36</td>\n",
       "      <td>290.51</td>\n",
       "      <td>290.18</td>\n",
       "      <td>290.31</td>\n",
       "      <td>290.36</td>\n",
       "      <td>290.51</td>\n",
       "      <td>...</td>\n",
       "      <td>22.319</td>\n",
       "      <td>43.479</td>\n",
       "      <td>43.479</td>\n",
       "      <td>43.479</td>\n",
       "      <td>43.479</td>\n",
       "      <td>3.0343</td>\n",
       "      <td>3.0343</td>\n",
       "      <td>3.0343</td>\n",
       "      <td>3.0343</td>\n",
       "      <td>0</td>\n",
       "    </tr>\n",
       "    <tr>\n",
       "      <th>3996</th>\n",
       "      <td>4.3100</td>\n",
       "      <td>4.3152</td>\n",
       "      <td>4.3022</td>\n",
       "      <td>4.3048</td>\n",
       "      <td>290.41</td>\n",
       "      <td>290.41</td>\n",
       "      <td>290.12</td>\n",
       "      <td>290.15</td>\n",
       "      <td>290.41</td>\n",
       "      <td>290.41</td>\n",
       "      <td>...</td>\n",
       "      <td>22.350</td>\n",
       "      <td>43.479</td>\n",
       "      <td>43.554</td>\n",
       "      <td>43.479</td>\n",
       "      <td>43.479</td>\n",
       "      <td>3.0343</td>\n",
       "      <td>3.0343</td>\n",
       "      <td>3.0291</td>\n",
       "      <td>3.0291</td>\n",
       "      <td>0</td>\n",
       "    </tr>\n",
       "    <tr>\n",
       "      <th>3997</th>\n",
       "      <td>4.3048</td>\n",
       "      <td>4.3048</td>\n",
       "      <td>4.2790</td>\n",
       "      <td>4.2842</td>\n",
       "      <td>290.18</td>\n",
       "      <td>290.41</td>\n",
       "      <td>290.18</td>\n",
       "      <td>290.27</td>\n",
       "      <td>290.18</td>\n",
       "      <td>290.41</td>\n",
       "      <td>...</td>\n",
       "      <td>22.340</td>\n",
       "      <td>43.479</td>\n",
       "      <td>43.632</td>\n",
       "      <td>43.479</td>\n",
       "      <td>43.632</td>\n",
       "      <td>3.0291</td>\n",
       "      <td>3.0291</td>\n",
       "      <td>3.0240</td>\n",
       "      <td>3.0291</td>\n",
       "      <td>1</td>\n",
       "    </tr>\n",
       "    <tr>\n",
       "      <th>3998</th>\n",
       "      <td>4.2764</td>\n",
       "      <td>4.2790</td>\n",
       "      <td>4.2661</td>\n",
       "      <td>4.2764</td>\n",
       "      <td>290.40</td>\n",
       "      <td>290.49</td>\n",
       "      <td>290.29</td>\n",
       "      <td>290.41</td>\n",
       "      <td>290.40</td>\n",
       "      <td>290.49</td>\n",
       "      <td>...</td>\n",
       "      <td>22.350</td>\n",
       "      <td>43.707</td>\n",
       "      <td>43.784</td>\n",
       "      <td>43.632</td>\n",
       "      <td>43.632</td>\n",
       "      <td>3.0343</td>\n",
       "      <td>3.0343</td>\n",
       "      <td>3.0343</td>\n",
       "      <td>3.0343</td>\n",
       "      <td>0</td>\n",
       "    </tr>\n",
       "  </tbody>\n",
       "</table>\n",
       "<p>5 rows × 477 columns</p>\n",
       "</div>"
      ],
      "text/plain": [
       "      5.5986  5.5986.1   5.534  5.534.1  289.37  289.82   289.3  289.66  \\\n",
       "3994  4.3152    4.3203  4.3152   4.3177  290.45  290.55  290.25  290.45   \n",
       "3995  4.3126    4.3152  4.3074   4.3100  290.36  290.51  290.18  290.31   \n",
       "3996  4.3100    4.3152  4.3022   4.3048  290.41  290.41  290.12  290.15   \n",
       "3997  4.3048    4.3048  4.2790   4.2842  290.18  290.41  290.18  290.27   \n",
       "3998  4.2764    4.2790  4.2661   4.2764  290.40  290.49  290.29  290.41   \n",
       "\n",
       "      289.37.1  289.82.1  ...  21.206  41.042  42.338  41.042.1  42.108  \\\n",
       "3994    290.45    290.55  ...  22.289  43.479  43.479    43.479  43.479   \n",
       "3995    290.36    290.51  ...  22.319  43.479  43.479    43.479  43.479   \n",
       "3996    290.41    290.41  ...  22.350  43.479  43.554    43.479  43.479   \n",
       "3997    290.18    290.41  ...  22.340  43.479  43.632    43.479  43.632   \n",
       "3998    290.40    290.49  ...  22.350  43.707  43.784    43.632  43.632   \n",
       "\n",
       "       2.133  2.1744  2.1175  2.1175.1  1  \n",
       "3994  3.0343  3.0343  3.0343    3.0343  0  \n",
       "3995  3.0343  3.0343  3.0343    3.0343  0  \n",
       "3996  3.0343  3.0343  3.0291    3.0291  0  \n",
       "3997  3.0291  3.0291  3.0240    3.0291  1  \n",
       "3998  3.0343  3.0343  3.0343    3.0343  0  \n",
       "\n",
       "[5 rows x 477 columns]"
      ]
     },
     "execution_count": 2,
     "metadata": {},
     "output_type": "execute_result"
    }
   ],
   "source": [
    "data2=pd.read_csv('EE627A_HW3_DataSet1.csv')\n",
    "data2.tail()"
   ]
  },
  {
   "cell_type": "code",
   "execution_count": 3,
   "id": "9b0474df",
   "metadata": {},
   "outputs": [],
   "source": [
    "Logistic_Regression=LogisticRegression(solver='liblinear',C=1.0, random_state=0)\n",
    "fitting_model=Logistic_Regression.fit(data2.iloc[:,0:-1],data2.iloc[:,-1])"
   ]
  },
  {
   "cell_type": "code",
   "execution_count": 4,
   "id": "6f253235",
   "metadata": {},
   "outputs": [
    {
     "data": {
      "text/plain": [
       "array([0.90747162, 0.63848316, 0.72817029, ..., 0.33351651, 0.47585259,\n",
       "       0.65740467])"
      ]
     },
     "execution_count": 4,
     "metadata": {},
     "output_type": "execute_result"
    }
   ],
   "source": [
    "prob_y_pred=fitting_model.predict_proba(data2.iloc[:,0:-1])[:,1]\n",
    "prob_y_pred"
   ]
  },
  {
   "cell_type": "code",
   "execution_count": 13,
   "id": "9113f74e",
   "metadata": {},
   "outputs": [],
   "source": [
    "FalsePositiveRate,TruePositiveRate,_= metrics.roc_curve(data2.iloc[:,-1],prob_y_pred)\n",
    "AUC=metrics.roc_auc_score(data2.iloc[:,-1],prob_y_pred,multi_class='ovr',labels=None)"
   ]
  },
  {
   "cell_type": "code",
   "execution_count": 14,
   "id": "335de3bb",
   "metadata": {},
   "outputs": [
    {
     "data": {
      "text/plain": [
       "<function matplotlib.pyplot.show(close=None, block=None)>"
      ]
     },
     "execution_count": 14,
     "metadata": {},
     "output_type": "execute_result"
    },
    {
     "data": {
      "image/png": "[encoded data removed]",
      "text/plain": [
       "<Figure size 432x288 with 1 Axes>"
      ]
     },
     "metadata": {
      "needs_background": "light"
     },
     "output_type": "display_data"
    }
   ],
   "source": [
    "plt.plot(FalsePositiveRate,TruePositiveRate,label='HW3, AUC='+str(AUC),color='r')\n",
    "plt.xlabel('False Positive Rate')\n",
    "plt.ylabel('True Positive Rate')\n",
    "plt.title('ROC Curve')\n",
    "plt.legend(loc=4)\n",
    "plt.show"
   ]
  },
  {
   "cell_type": "code",
   "execution_count": 15,
   "id": "f943126a",
   "metadata": {},
   "outputs": [
    {
     "name": "stdout",
     "output_type": "stream",
     "text": [
      "(2999, 476)\n",
      "(1000, 476)\n",
      "(2999,)\n",
      "(1000,)\n"
     ]
    }
   ],
   "source": [
    "x_train, x_test, y_train, y_test=train_test_split(data2.iloc[:,0:-1], data2.iloc[:,-1], test_size=0.25,random_state=0,shuffle=False)\n",
    "print(np.shape(x_train))\n",
    "print(np.shape(x_test))\n",
    "print(np.shape(y_train))\n",
    "print(np.shape(y_test))"
   ]
  },
  {
   "cell_type": "code",
   "execution_count": 16,
   "id": "fab8015e",
   "metadata": {},
   "outputs": [],
   "source": [
    "Logistic_Regression2=LogisticRegression(solver='liblinear',C=10.0, random_state=0)\n",
    "fitting_model2=Logistic_Regression.fit(x_train,y_train)"
   ]
  },
  {
   "cell_type": "code",
   "execution_count": 17,
   "id": "ce2801eb",
   "metadata": {},
   "outputs": [
    {
     "data": {
      "text/plain": [
       "array([0.99213739, 0.85113728, 0.81946553, ..., 0.89633146, 0.85157403,\n",
       "       0.74315305])"
      ]
     },
     "execution_count": 17,
     "metadata": {},
     "output_type": "execute_result"
    }
   ],
   "source": [
    "prob_y_pred2=fitting_model.predict_proba(x_train.iloc[:,0:])[:,1]\n",
    "prob_y_pred2"
   ]
  },
  {
   "cell_type": "code",
   "execution_count": 18,
   "id": "b2c3292d",
   "metadata": {},
   "outputs": [
    {
     "ename": "ValueError",
     "evalue": "continuous-multioutput format is not supported",
     "output_type": "error",
     "traceback": [
      "\u001b[1;31m---------------------------------------------------------------------------\u001b[0m",
      "\u001b[1;31mValueError\u001b[0m                                Traceback (most recent call last)",
      "\u001b[1;32m~\\AppData\\Local\\Temp/ipykernel_29516/1344659771.py\u001b[0m in \u001b[0;36m<module>\u001b[1;34m\u001b[0m\n\u001b[1;32m----> 1\u001b[1;33m \u001b[0mFP_Rate\u001b[0m\u001b[1;33m,\u001b[0m\u001b[0mTP_Rate\u001b[0m\u001b[1;33m,\u001b[0m\u001b[0m_\u001b[0m \u001b[1;33m=\u001b[0m \u001b[0mmetrics\u001b[0m\u001b[1;33m.\u001b[0m\u001b[0mroc_curve\u001b[0m\u001b[1;33m(\u001b[0m\u001b[0mx_train\u001b[0m\u001b[1;33m.\u001b[0m\u001b[0miloc\u001b[0m\u001b[1;33m[\u001b[0m\u001b[1;33m:\u001b[0m\u001b[1;33m,\u001b[0m\u001b[1;36m0\u001b[0m\u001b[1;33m:\u001b[0m\u001b[1;33m]\u001b[0m\u001b[1;33m,\u001b[0m\u001b[0mprob_y_pred2\u001b[0m\u001b[1;33m)\u001b[0m\u001b[1;33m\u001b[0m\u001b[1;33m\u001b[0m\u001b[0m\n\u001b[0m\u001b[0;32m      2\u001b[0m \u001b[0mAUC_Train\u001b[0m\u001b[1;33m=\u001b[0m\u001b[0mmetrics\u001b[0m\u001b[1;33m.\u001b[0m\u001b[0mroc_auc_score\u001b[0m\u001b[1;33m(\u001b[0m\u001b[0mx_train\u001b[0m\u001b[1;33m.\u001b[0m\u001b[0miloc\u001b[0m\u001b[1;33m[\u001b[0m\u001b[1;33m:\u001b[0m\u001b[1;33m,\u001b[0m\u001b[1;36m0\u001b[0m\u001b[1;33m:\u001b[0m\u001b[1;33m]\u001b[0m\u001b[1;33m,\u001b[0m\u001b[0mprob_y_pred2\u001b[0m\u001b[1;33m,\u001b[0m\u001b[0mmulti_class\u001b[0m\u001b[1;33m=\u001b[0m\u001b[1;34m'ovr'\u001b[0m\u001b[1;33m,\u001b[0m\u001b[0mlabels\u001b[0m\u001b[1;33m=\u001b[0m\u001b[1;32mNone\u001b[0m\u001b[1;33m)\u001b[0m\u001b[1;33m\u001b[0m\u001b[1;33m\u001b[0m\u001b[0m\n",
      "\u001b[1;32m~\\anaconda3\\lib\\site-packages\\sklearn\\utils\\validation.py\u001b[0m in \u001b[0;36minner_f\u001b[1;34m(*args, **kwargs)\u001b[0m\n\u001b[0;32m     61\u001b[0m             \u001b[0mextra_args\u001b[0m \u001b[1;33m=\u001b[0m \u001b[0mlen\u001b[0m\u001b[1;33m(\u001b[0m\u001b[0margs\u001b[0m\u001b[1;33m)\u001b[0m \u001b[1;33m-\u001b[0m \u001b[0mlen\u001b[0m\u001b[1;33m(\u001b[0m\u001b[0mall_args\u001b[0m\u001b[1;33m)\u001b[0m\u001b[1;33m\u001b[0m\u001b[1;33m\u001b[0m\u001b[0m\n\u001b[0;32m     62\u001b[0m             \u001b[1;32mif\u001b[0m \u001b[0mextra_args\u001b[0m \u001b[1;33m<=\u001b[0m \u001b[1;36m0\u001b[0m\u001b[1;33m:\u001b[0m\u001b[1;33m\u001b[0m\u001b[1;33m\u001b[0m\u001b[0m\n\u001b[1;32m---> 63\u001b[1;33m                 \u001b[1;32mreturn\u001b[0m \u001b[0mf\u001b[0m\u001b[1;33m(\u001b[0m\u001b[1;33m*\u001b[0m\u001b[0margs\u001b[0m\u001b[1;33m,\u001b[0m \u001b[1;33m**\u001b[0m\u001b[0mkwargs\u001b[0m\u001b[1;33m)\u001b[0m\u001b[1;33m\u001b[0m\u001b[1;33m\u001b[0m\u001b[0m\n\u001b[0m\u001b[0;32m     64\u001b[0m \u001b[1;33m\u001b[0m\u001b[0m\n\u001b[0;32m     65\u001b[0m             \u001b[1;31m# extra_args > 0\u001b[0m\u001b[1;33m\u001b[0m\u001b[1;33m\u001b[0m\u001b[0m\n",
      "\u001b[1;32m~\\anaconda3\\lib\\site-packages\\sklearn\\metrics\\_ranking.py\u001b[0m in \u001b[0;36mroc_curve\u001b[1;34m(y_true, y_score, pos_label, sample_weight, drop_intermediate)\u001b[0m\n\u001b[0;32m    911\u001b[0m \u001b[1;33m\u001b[0m\u001b[0m\n\u001b[0;32m    912\u001b[0m     \"\"\"\n\u001b[1;32m--> 913\u001b[1;33m     fps, tps, thresholds = _binary_clf_curve(\n\u001b[0m\u001b[0;32m    914\u001b[0m         y_true, y_score, pos_label=pos_label, sample_weight=sample_weight)\n\u001b[0;32m    915\u001b[0m \u001b[1;33m\u001b[0m\u001b[0m\n",
      "\u001b[1;32m~\\anaconda3\\lib\\site-packages\\sklearn\\metrics\\_ranking.py\u001b[0m in \u001b[0;36m_binary_clf_curve\u001b[1;34m(y_true, y_score, pos_label, sample_weight)\u001b[0m\n\u001b[0;32m    689\u001b[0m     if not (y_type == \"binary\" or\n\u001b[0;32m    690\u001b[0m             (y_type == \"multiclass\" and pos_label is not None)):\n\u001b[1;32m--> 691\u001b[1;33m         \u001b[1;32mraise\u001b[0m \u001b[0mValueError\u001b[0m\u001b[1;33m(\u001b[0m\u001b[1;34m\"{0} format is not supported\"\u001b[0m\u001b[1;33m.\u001b[0m\u001b[0mformat\u001b[0m\u001b[1;33m(\u001b[0m\u001b[0my_type\u001b[0m\u001b[1;33m)\u001b[0m\u001b[1;33m)\u001b[0m\u001b[1;33m\u001b[0m\u001b[1;33m\u001b[0m\u001b[0m\n\u001b[0m\u001b[0;32m    692\u001b[0m \u001b[1;33m\u001b[0m\u001b[0m\n\u001b[0;32m    693\u001b[0m     \u001b[0mcheck_consistent_length\u001b[0m\u001b[1;33m(\u001b[0m\u001b[0my_true\u001b[0m\u001b[1;33m,\u001b[0m \u001b[0my_score\u001b[0m\u001b[1;33m,\u001b[0m \u001b[0msample_weight\u001b[0m\u001b[1;33m)\u001b[0m\u001b[1;33m\u001b[0m\u001b[1;33m\u001b[0m\u001b[0m\n",
      "\u001b[1;31mValueError\u001b[0m: continuous-multioutput format is not supported"
     ]
    }
   ],
   "source": [
    "FP_Rate,TP_Rate,_ = metrics.roc_curve(x_train.iloc[:,0:],prob_y_pred2)\n",
    "AUC_Train=metrics.roc_auc_score(x_train.iloc[:,0:],prob_y_pred2,multi_class='ovr',labels=None)"
   ]
  },
  {
   "cell_type": "code",
   "execution_count": null,
   "id": "aeca87dc",
   "metadata": {},
   "outputs": [],
   "source": []
  }
 ],
 "metadata": {
  "kernelspec": {
   "display_name": "Python 3 (ipykernel)",
   "language": "python",
   "name": "python3"
  },
  "language_info": {
   "codemirror_mode": {
    "name": "ipython",
    "version": 3
   },
   "file_extension": ".py",
   "mimetype": "text/x-python",
   "name": "python",
   "nbconvert_exporter": "python",
   "pygments_lexer": "ipython3",
   "version": "3.9.7"
  }
 },
 "nbformat": 4,
 "nbformat_minor": 5
}
