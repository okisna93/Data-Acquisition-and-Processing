{
 "cells": [
  {
   "cell_type": "markdown",
   "id": "ef676a87",
   "metadata": {},
   "source": [
    "### Ismet Okan Celik CWID:10472265"
   ]
  },
  {
   "cell_type": "code",
   "execution_count": 2,
   "id": "b9c11c96",
   "metadata": {},
   "outputs": [],
   "source": [
    "import numpy as np\n",
    "import pandas as pd\n",
    "import matplotlib.pyplot as plt"
   ]
  },
  {
   "cell_type": "markdown",
   "id": "b074f4ba",
   "metadata": {},
   "source": [
    "### Question-1\n",
    "##### Manually Programing and Plotting ROC Curve via calculating True Positive Rate vs. False Positive Rate"
   ]
  },
  {
   "cell_type": "code",
   "execution_count": 31,
   "id": "36fc435a",
   "metadata": {},
   "outputs": [
    {
     "data": {
      "text/html": [
       "<div>\n",
       "<style scoped>\n",
       "    .dataframe tbody tr th:only-of-type {\n",
       "        vertical-align: middle;\n",
       "    }\n",
       "\n",
       "    .dataframe tbody tr th {\n",
       "        vertical-align: top;\n",
       "    }\n",
       "\n",
       "    .dataframe thead th {\n",
       "        text-align: right;\n",
       "    }\n",
       "</style>\n",
       "<table border=\"1\" class=\"dataframe\">\n",
       "  <thead>\n",
       "    <tr style=\"text-align: right;\">\n",
       "      <th></th>\n",
       "      <th>Classes</th>\n",
       "      <th>Prob</th>\n",
       "    </tr>\n",
       "  </thead>\n",
       "  <tbody>\n",
       "    <tr>\n",
       "      <th>0</th>\n",
       "      <td>1</td>\n",
       "      <td>0.967</td>\n",
       "    </tr>\n",
       "    <tr>\n",
       "      <th>1</th>\n",
       "      <td>0</td>\n",
       "      <td>0.448</td>\n",
       "    </tr>\n",
       "    <tr>\n",
       "      <th>2</th>\n",
       "      <td>1</td>\n",
       "      <td>0.568</td>\n",
       "    </tr>\n",
       "    <tr>\n",
       "      <th>3</th>\n",
       "      <td>0</td>\n",
       "      <td>0.879</td>\n",
       "    </tr>\n",
       "    <tr>\n",
       "      <th>4</th>\n",
       "      <td>1</td>\n",
       "      <td>0.015</td>\n",
       "    </tr>\n",
       "    <tr>\n",
       "      <th>5</th>\n",
       "      <td>0</td>\n",
       "      <td>0.780</td>\n",
       "    </tr>\n",
       "    <tr>\n",
       "      <th>6</th>\n",
       "      <td>1</td>\n",
       "      <td>0.978</td>\n",
       "    </tr>\n",
       "    <tr>\n",
       "      <th>7</th>\n",
       "      <td>0</td>\n",
       "      <td>0.004</td>\n",
       "    </tr>\n",
       "  </tbody>\n",
       "</table>\n",
       "</div>"
      ],
      "text/plain": [
       "   Classes   Prob\n",
       "0        1  0.967\n",
       "1        0  0.448\n",
       "2        1  0.568\n",
       "3        0  0.879\n",
       "4        1  0.015\n",
       "5        0  0.780\n",
       "6        1  0.978\n",
       "7        0  0.004"
      ]
     },
     "execution_count": 31,
     "metadata": {},
     "output_type": "execute_result"
    }
   ],
   "source": [
    "Probabilities=np.array([0.967,0.448,0.568,0.879,0.015,0.780,0.978,0.004])\n",
    "Classifications=np.array([1,0,1,0,1,0,1,0])\n",
    "\n",
    "data=pd.DataFrame(Classifications.T,columns=['Classes'])\n",
    "data['Prob']=pd.DataFrame(Probabilities.T)\n",
    "data\n"
   ]
  },
  {
   "cell_type": "code",
   "execution_count": 32,
   "id": "1ddbd5bd",
   "metadata": {},
   "outputs": [
    {
     "name": "stdout",
     "output_type": "stream",
     "text": [
      "Number of Threshold= 50 \n",
      "\n",
      "The List of Threshold Values\n",
      " [0.   0.02 0.04 0.06 0.08 0.1  0.12 0.14 0.16 0.18 0.2  0.22 0.24 0.27\n",
      " 0.29 0.31 0.33 0.35 0.37 0.39 0.41 0.43 0.45 0.47 0.49 0.51 0.53 0.55\n",
      " 0.57 0.59 0.61 0.63 0.65 0.67 0.69 0.71 0.73 0.76 0.78 0.8  0.82 0.84\n",
      " 0.86 0.88 0.9  0.92 0.94 0.96 0.98 1.  ]\n"
     ]
    }
   ],
   "source": [
    "threshold=np.linspace(0,1,50)\n",
    "threshold=[float('{:.2f}'.format(i)) for i in threshold]\n",
    "print('Number of Threshold=',len(threshold),'\\n')\n",
    "print('The List of Threshold Values\\n',np.array(threshold))"
   ]
  },
  {
   "cell_type": "code",
   "execution_count": 33,
   "id": "32054d37",
   "metadata": {},
   "outputs": [],
   "source": [
    "List_TP_FP=[]\n",
    "\n",
    "for z in threshold:\n",
    "    sub_list=[]\n",
    "    for i in Probabilities:\n",
    "        if i>=z:\n",
    "            sub_list.append(1)\n",
    "        else:\n",
    "            sub_list.append(0)\n",
    "    List_TP_FP.append(sub_list)\n"
   ]
  },
  {
   "cell_type": "code",
   "execution_count": 34,
   "id": "236db3b8",
   "metadata": {},
   "outputs": [],
   "source": [
    "List_TP_FP=np.array(List_TP_FP)\n",
    "threshold_df=pd.DataFrame(List_TP_FP.T,columns=[str(i) for i in threshold])"
   ]
  },
  {
   "cell_type": "code",
   "execution_count": 35,
   "id": "45a3f0ed",
   "metadata": {},
   "outputs": [
    {
     "data": {
      "text/html": [
       "<div>\n",
       "<style scoped>\n",
       "    .dataframe tbody tr th:only-of-type {\n",
       "        vertical-align: middle;\n",
       "    }\n",
       "\n",
       "    .dataframe tbody tr th {\n",
       "        vertical-align: top;\n",
       "    }\n",
       "\n",
       "    .dataframe thead th {\n",
       "        text-align: right;\n",
       "    }\n",
       "</style>\n",
       "<table border=\"1\" class=\"dataframe\">\n",
       "  <thead>\n",
       "    <tr style=\"text-align: right;\">\n",
       "      <th></th>\n",
       "      <th>Classes</th>\n",
       "      <th>Prob</th>\n",
       "      <th>0.0</th>\n",
       "      <th>0.02</th>\n",
       "      <th>0.04</th>\n",
       "      <th>0.06</th>\n",
       "      <th>0.08</th>\n",
       "      <th>0.1</th>\n",
       "      <th>0.12</th>\n",
       "      <th>0.14</th>\n",
       "      <th>...</th>\n",
       "      <th>0.82</th>\n",
       "      <th>0.84</th>\n",
       "      <th>0.86</th>\n",
       "      <th>0.88</th>\n",
       "      <th>0.9</th>\n",
       "      <th>0.92</th>\n",
       "      <th>0.94</th>\n",
       "      <th>0.96</th>\n",
       "      <th>0.98</th>\n",
       "      <th>1.0</th>\n",
       "    </tr>\n",
       "  </thead>\n",
       "  <tbody>\n",
       "    <tr>\n",
       "      <th>0</th>\n",
       "      <td>1</td>\n",
       "      <td>0.967</td>\n",
       "      <td>1</td>\n",
       "      <td>1</td>\n",
       "      <td>1</td>\n",
       "      <td>1</td>\n",
       "      <td>1</td>\n",
       "      <td>1</td>\n",
       "      <td>1</td>\n",
       "      <td>1</td>\n",
       "      <td>...</td>\n",
       "      <td>1</td>\n",
       "      <td>1</td>\n",
       "      <td>1</td>\n",
       "      <td>1</td>\n",
       "      <td>1</td>\n",
       "      <td>1</td>\n",
       "      <td>1</td>\n",
       "      <td>1</td>\n",
       "      <td>0</td>\n",
       "      <td>0</td>\n",
       "    </tr>\n",
       "    <tr>\n",
       "      <th>1</th>\n",
       "      <td>0</td>\n",
       "      <td>0.448</td>\n",
       "      <td>1</td>\n",
       "      <td>1</td>\n",
       "      <td>1</td>\n",
       "      <td>1</td>\n",
       "      <td>1</td>\n",
       "      <td>1</td>\n",
       "      <td>1</td>\n",
       "      <td>1</td>\n",
       "      <td>...</td>\n",
       "      <td>0</td>\n",
       "      <td>0</td>\n",
       "      <td>0</td>\n",
       "      <td>0</td>\n",
       "      <td>0</td>\n",
       "      <td>0</td>\n",
       "      <td>0</td>\n",
       "      <td>0</td>\n",
       "      <td>0</td>\n",
       "      <td>0</td>\n",
       "    </tr>\n",
       "    <tr>\n",
       "      <th>2</th>\n",
       "      <td>1</td>\n",
       "      <td>0.568</td>\n",
       "      <td>1</td>\n",
       "      <td>1</td>\n",
       "      <td>1</td>\n",
       "      <td>1</td>\n",
       "      <td>1</td>\n",
       "      <td>1</td>\n",
       "      <td>1</td>\n",
       "      <td>1</td>\n",
       "      <td>...</td>\n",
       "      <td>0</td>\n",
       "      <td>0</td>\n",
       "      <td>0</td>\n",
       "      <td>0</td>\n",
       "      <td>0</td>\n",
       "      <td>0</td>\n",
       "      <td>0</td>\n",
       "      <td>0</td>\n",
       "      <td>0</td>\n",
       "      <td>0</td>\n",
       "    </tr>\n",
       "    <tr>\n",
       "      <th>3</th>\n",
       "      <td>0</td>\n",
       "      <td>0.879</td>\n",
       "      <td>1</td>\n",
       "      <td>1</td>\n",
       "      <td>1</td>\n",
       "      <td>1</td>\n",
       "      <td>1</td>\n",
       "      <td>1</td>\n",
       "      <td>1</td>\n",
       "      <td>1</td>\n",
       "      <td>...</td>\n",
       "      <td>1</td>\n",
       "      <td>1</td>\n",
       "      <td>1</td>\n",
       "      <td>0</td>\n",
       "      <td>0</td>\n",
       "      <td>0</td>\n",
       "      <td>0</td>\n",
       "      <td>0</td>\n",
       "      <td>0</td>\n",
       "      <td>0</td>\n",
       "    </tr>\n",
       "    <tr>\n",
       "      <th>4</th>\n",
       "      <td>1</td>\n",
       "      <td>0.015</td>\n",
       "      <td>1</td>\n",
       "      <td>0</td>\n",
       "      <td>0</td>\n",
       "      <td>0</td>\n",
       "      <td>0</td>\n",
       "      <td>0</td>\n",
       "      <td>0</td>\n",
       "      <td>0</td>\n",
       "      <td>...</td>\n",
       "      <td>0</td>\n",
       "      <td>0</td>\n",
       "      <td>0</td>\n",
       "      <td>0</td>\n",
       "      <td>0</td>\n",
       "      <td>0</td>\n",
       "      <td>0</td>\n",
       "      <td>0</td>\n",
       "      <td>0</td>\n",
       "      <td>0</td>\n",
       "    </tr>\n",
       "    <tr>\n",
       "      <th>5</th>\n",
       "      <td>0</td>\n",
       "      <td>0.780</td>\n",
       "      <td>1</td>\n",
       "      <td>1</td>\n",
       "      <td>1</td>\n",
       "      <td>1</td>\n",
       "      <td>1</td>\n",
       "      <td>1</td>\n",
       "      <td>1</td>\n",
       "      <td>1</td>\n",
       "      <td>...</td>\n",
       "      <td>0</td>\n",
       "      <td>0</td>\n",
       "      <td>0</td>\n",
       "      <td>0</td>\n",
       "      <td>0</td>\n",
       "      <td>0</td>\n",
       "      <td>0</td>\n",
       "      <td>0</td>\n",
       "      <td>0</td>\n",
       "      <td>0</td>\n",
       "    </tr>\n",
       "    <tr>\n",
       "      <th>6</th>\n",
       "      <td>1</td>\n",
       "      <td>0.978</td>\n",
       "      <td>1</td>\n",
       "      <td>1</td>\n",
       "      <td>1</td>\n",
       "      <td>1</td>\n",
       "      <td>1</td>\n",
       "      <td>1</td>\n",
       "      <td>1</td>\n",
       "      <td>1</td>\n",
       "      <td>...</td>\n",
       "      <td>1</td>\n",
       "      <td>1</td>\n",
       "      <td>1</td>\n",
       "      <td>1</td>\n",
       "      <td>1</td>\n",
       "      <td>1</td>\n",
       "      <td>1</td>\n",
       "      <td>1</td>\n",
       "      <td>0</td>\n",
       "      <td>0</td>\n",
       "    </tr>\n",
       "    <tr>\n",
       "      <th>7</th>\n",
       "      <td>0</td>\n",
       "      <td>0.004</td>\n",
       "      <td>1</td>\n",
       "      <td>0</td>\n",
       "      <td>0</td>\n",
       "      <td>0</td>\n",
       "      <td>0</td>\n",
       "      <td>0</td>\n",
       "      <td>0</td>\n",
       "      <td>0</td>\n",
       "      <td>...</td>\n",
       "      <td>0</td>\n",
       "      <td>0</td>\n",
       "      <td>0</td>\n",
       "      <td>0</td>\n",
       "      <td>0</td>\n",
       "      <td>0</td>\n",
       "      <td>0</td>\n",
       "      <td>0</td>\n",
       "      <td>0</td>\n",
       "      <td>0</td>\n",
       "    </tr>\n",
       "  </tbody>\n",
       "</table>\n",
       "<p>8 rows × 52 columns</p>\n",
       "</div>"
      ],
      "text/plain": [
       "   Classes   Prob  0.0  0.02  0.04  0.06  0.08  0.1  0.12  0.14  ...  0.82  \\\n",
       "0        1  0.967    1     1     1     1     1    1     1     1  ...     1   \n",
       "1        0  0.448    1     1     1     1     1    1     1     1  ...     0   \n",
       "2        1  0.568    1     1     1     1     1    1     1     1  ...     0   \n",
       "3        0  0.879    1     1     1     1     1    1     1     1  ...     1   \n",
       "4        1  0.015    1     0     0     0     0    0     0     0  ...     0   \n",
       "5        0  0.780    1     1     1     1     1    1     1     1  ...     0   \n",
       "6        1  0.978    1     1     1     1     1    1     1     1  ...     1   \n",
       "7        0  0.004    1     0     0     0     0    0     0     0  ...     0   \n",
       "\n",
       "   0.84  0.86  0.88  0.9  0.92  0.94  0.96  0.98  1.0  \n",
       "0     1     1     1    1     1     1     1     0    0  \n",
       "1     0     0     0    0     0     0     0     0    0  \n",
       "2     0     0     0    0     0     0     0     0    0  \n",
       "3     1     1     0    0     0     0     0     0    0  \n",
       "4     0     0     0    0     0     0     0     0    0  \n",
       "5     0     0     0    0     0     0     0     0    0  \n",
       "6     1     1     1    1     1     1     1     0    0  \n",
       "7     0     0     0    0     0     0     0     0    0  \n",
       "\n",
       "[8 rows x 52 columns]"
      ]
     },
     "execution_count": 35,
     "metadata": {},
     "output_type": "execute_result"
    }
   ],
   "source": [
    "data=data.join(threshold_df)\n",
    "data"
   ]
  },
  {
   "cell_type": "code",
   "execution_count": 36,
   "id": "73d88eb0",
   "metadata": {},
   "outputs": [
    {
     "name": "stdout",
     "output_type": "stream",
     "text": [
      "Number of True Positive for Every Given Threshold\n",
      " [4, 3, 3, 3, 3, 3, 3, 3, 3, 3, 3, 3, 3, 3, 3, 3, 3, 3, 3, 3, 3, 3, 3, 3, 3, 3, 3, 3, 2, 2, 2, 2, 2, 2, 2, 2, 2, 2, 2, 2, 2, 2, 2, 2, 2, 2, 2, 2, 0, 0] \n",
      "\n",
      "Number of False Positive for Every Given Threshold\n",
      " [4, 3, 3, 3, 3, 3, 3, 3, 3, 3, 3, 3, 3, 3, 3, 3, 3, 3, 3, 3, 3, 3, 2, 2, 2, 2, 2, 2, 2, 2, 2, 2, 2, 2, 2, 2, 2, 2, 2, 1, 1, 1, 1, 0, 0, 0, 0, 0, 0, 0]\n"
     ]
    }
   ],
   "source": [
    "TP_List=[]\n",
    "FP_List=[]\n",
    "for i in range(len(threshold)):\n",
    "    tp=0\n",
    "    fp=0\n",
    "    for k in range(len(Probabilities)):\n",
    "        if data['Classes'].values[k]==1 and threshold_df[str(threshold[i])].values[k]==1:\n",
    "            tp+=1\n",
    "        if threshold_df[str(threshold[i])].values[k]==1 and data['Classes'].values[k]==0:\n",
    "            fp+=1\n",
    "    TP_List.append(tp)\n",
    "    FP_List.append(fp)\n",
    "                \n",
    "print('Number of True Positive for Every Given Threshold\\n',TP_List,'\\n')\n",
    "print('Number of False Positive for Every Given Threshold\\n',FP_List)                       "
   ]
  },
  {
   "cell_type": "code",
   "execution_count": 37,
   "id": "21450fdd",
   "metadata": {},
   "outputs": [
    {
     "name": "stdout",
     "output_type": "stream",
     "text": [
      "[1.   0.75 0.75 0.75 0.75 0.75 0.75 0.75 0.75 0.75 0.75 0.75 0.75 0.75\n",
      " 0.75 0.75 0.75 0.75 0.75 0.75 0.75 0.75 0.75 0.75 0.75 0.75 0.75 0.75\n",
      " 0.5  0.5  0.5  0.5  0.5  0.5  0.5  0.5  0.5  0.5  0.5  0.5  0.5  0.5\n",
      " 0.5  0.5  0.5  0.5  0.5  0.5  0.   0.  ]\n",
      "[1.   0.75 0.75 0.75 0.75 0.75 0.75 0.75 0.75 0.75 0.75 0.75 0.75 0.75\n",
      " 0.75 0.75 0.75 0.75 0.75 0.75 0.75 0.75 0.5  0.5  0.5  0.5  0.5  0.5\n",
      " 0.5  0.5  0.5  0.5  0.5  0.5  0.5  0.5  0.5  0.5  0.5  0.25 0.25 0.25\n",
      " 0.25 0.   0.   0.   0.   0.   0.   0.  ]\n"
     ]
    }
   ],
   "source": [
    "class_1_count=(data['Classes'] == 1).sum()\n",
    "class_0_count=(data['Classes'] == 0).sum()\n",
    "\n",
    "TP_rate=np.array([i/class_1_count for i in TP_List])\n",
    "FP_rate=np.array([i/class_0_count for i in FP_List])\n",
    "print(TP_rate)\n",
    "print(FP_rate)"
   ]
  },
  {
   "cell_type": "code",
   "execution_count": 38,
   "id": "809fbfd1",
   "metadata": {},
   "outputs": [
    {
     "data": {
      "image/png": "[encoded data removed]",
      "text/plain": [
       "<Figure size 432x288 with 1 Axes>"
      ]
     },
     "metadata": {
      "needs_background": "light"
     },
     "output_type": "display_data"
    }
   ],
   "source": [
    "plt.plot(FP_rate,TP_rate)\n",
    "plt.xlabel('False Positive')\n",
    "plt.ylabel('True Positive')\n",
    "plt.title('ROC Curve')\n",
    "plt.show()"
   ]
  },
  {
   "cell_type": "markdown",
   "id": "2acfcdd5",
   "metadata": {},
   "source": [
    "### Question-2\n",
    "##### Task-1"
   ]
  },
  {
   "cell_type": "code",
   "execution_count": 39,
   "id": "0e9365df",
   "metadata": {},
   "outputs": [
    {
     "data": {
      "text/html": [
       "<div>\n",
       "<style scoped>\n",
       "    .dataframe tbody tr th:only-of-type {\n",
       "        vertical-align: middle;\n",
       "    }\n",
       "\n",
       "    .dataframe tbody tr th {\n",
       "        vertical-align: top;\n",
       "    }\n",
       "\n",
       "    .dataframe thead th {\n",
       "        text-align: right;\n",
       "    }\n",
       "</style>\n",
       "<table border=\"1\" class=\"dataframe\">\n",
       "  <thead>\n",
       "    <tr style=\"text-align: right;\">\n",
       "      <th></th>\n",
       "      <th>0</th>\n",
       "      <th>1</th>\n",
       "      <th>2</th>\n",
       "      <th>3</th>\n",
       "      <th>4</th>\n",
       "      <th>5</th>\n",
       "      <th>6</th>\n",
       "      <th>7</th>\n",
       "      <th>8</th>\n",
       "      <th>9</th>\n",
       "      <th>...</th>\n",
       "      <th>467</th>\n",
       "      <th>468</th>\n",
       "      <th>469</th>\n",
       "      <th>470</th>\n",
       "      <th>471</th>\n",
       "      <th>472</th>\n",
       "      <th>473</th>\n",
       "      <th>474</th>\n",
       "      <th>475</th>\n",
       "      <th>476</th>\n",
       "    </tr>\n",
       "  </thead>\n",
       "  <tbody>\n",
       "    <tr>\n",
       "      <th>3995</th>\n",
       "      <td>4.3152</td>\n",
       "      <td>4.3203</td>\n",
       "      <td>4.3152</td>\n",
       "      <td>4.3177</td>\n",
       "      <td>290.45</td>\n",
       "      <td>290.55</td>\n",
       "      <td>290.25</td>\n",
       "      <td>290.45</td>\n",
       "      <td>290.45</td>\n",
       "      <td>290.55</td>\n",
       "      <td>...</td>\n",
       "      <td>22.289</td>\n",
       "      <td>43.479</td>\n",
       "      <td>43.479</td>\n",
       "      <td>43.479</td>\n",
       "      <td>43.479</td>\n",
       "      <td>3.0343</td>\n",
       "      <td>3.0343</td>\n",
       "      <td>3.0343</td>\n",
       "      <td>3.0343</td>\n",
       "      <td>0</td>\n",
       "    </tr>\n",
       "    <tr>\n",
       "      <th>3996</th>\n",
       "      <td>4.3126</td>\n",
       "      <td>4.3152</td>\n",
       "      <td>4.3074</td>\n",
       "      <td>4.3100</td>\n",
       "      <td>290.36</td>\n",
       "      <td>290.51</td>\n",
       "      <td>290.18</td>\n",
       "      <td>290.31</td>\n",
       "      <td>290.36</td>\n",
       "      <td>290.51</td>\n",
       "      <td>...</td>\n",
       "      <td>22.319</td>\n",
       "      <td>43.479</td>\n",
       "      <td>43.479</td>\n",
       "      <td>43.479</td>\n",
       "      <td>43.479</td>\n",
       "      <td>3.0343</td>\n",
       "      <td>3.0343</td>\n",
       "      <td>3.0343</td>\n",
       "      <td>3.0343</td>\n",
       "      <td>0</td>\n",
       "    </tr>\n",
       "    <tr>\n",
       "      <th>3997</th>\n",
       "      <td>4.3100</td>\n",
       "      <td>4.3152</td>\n",
       "      <td>4.3022</td>\n",
       "      <td>4.3048</td>\n",
       "      <td>290.41</td>\n",
       "      <td>290.41</td>\n",
       "      <td>290.12</td>\n",
       "      <td>290.15</td>\n",
       "      <td>290.41</td>\n",
       "      <td>290.41</td>\n",
       "      <td>...</td>\n",
       "      <td>22.350</td>\n",
       "      <td>43.479</td>\n",
       "      <td>43.554</td>\n",
       "      <td>43.479</td>\n",
       "      <td>43.479</td>\n",
       "      <td>3.0343</td>\n",
       "      <td>3.0343</td>\n",
       "      <td>3.0291</td>\n",
       "      <td>3.0291</td>\n",
       "      <td>0</td>\n",
       "    </tr>\n",
       "    <tr>\n",
       "      <th>3998</th>\n",
       "      <td>4.3048</td>\n",
       "      <td>4.3048</td>\n",
       "      <td>4.2790</td>\n",
       "      <td>4.2842</td>\n",
       "      <td>290.18</td>\n",
       "      <td>290.41</td>\n",
       "      <td>290.18</td>\n",
       "      <td>290.27</td>\n",
       "      <td>290.18</td>\n",
       "      <td>290.41</td>\n",
       "      <td>...</td>\n",
       "      <td>22.340</td>\n",
       "      <td>43.479</td>\n",
       "      <td>43.632</td>\n",
       "      <td>43.479</td>\n",
       "      <td>43.632</td>\n",
       "      <td>3.0291</td>\n",
       "      <td>3.0291</td>\n",
       "      <td>3.0240</td>\n",
       "      <td>3.0291</td>\n",
       "      <td>1</td>\n",
       "    </tr>\n",
       "    <tr>\n",
       "      <th>3999</th>\n",
       "      <td>4.2764</td>\n",
       "      <td>4.2790</td>\n",
       "      <td>4.2661</td>\n",
       "      <td>4.2764</td>\n",
       "      <td>290.40</td>\n",
       "      <td>290.49</td>\n",
       "      <td>290.29</td>\n",
       "      <td>290.41</td>\n",
       "      <td>290.40</td>\n",
       "      <td>290.49</td>\n",
       "      <td>...</td>\n",
       "      <td>22.350</td>\n",
       "      <td>43.707</td>\n",
       "      <td>43.784</td>\n",
       "      <td>43.632</td>\n",
       "      <td>43.632</td>\n",
       "      <td>3.0343</td>\n",
       "      <td>3.0343</td>\n",
       "      <td>3.0343</td>\n",
       "      <td>3.0343</td>\n",
       "      <td>0</td>\n",
       "    </tr>\n",
       "  </tbody>\n",
       "</table>\n",
       "<p>5 rows × 477 columns</p>\n",
       "</div>"
      ],
      "text/plain": [
       "         0       1       2       3       4       5       6       7       8    \\\n",
       "3995  4.3152  4.3203  4.3152  4.3177  290.45  290.55  290.25  290.45  290.45   \n",
       "3996  4.3126  4.3152  4.3074  4.3100  290.36  290.51  290.18  290.31  290.36   \n",
       "3997  4.3100  4.3152  4.3022  4.3048  290.41  290.41  290.12  290.15  290.41   \n",
       "3998  4.3048  4.3048  4.2790  4.2842  290.18  290.41  290.18  290.27  290.18   \n",
       "3999  4.2764  4.2790  4.2661  4.2764  290.40  290.49  290.29  290.41  290.40   \n",
       "\n",
       "         9    ...     467     468     469     470     471     472     473  \\\n",
       "3995  290.55  ...  22.289  43.479  43.479  43.479  43.479  3.0343  3.0343   \n",
       "3996  290.51  ...  22.319  43.479  43.479  43.479  43.479  3.0343  3.0343   \n",
       "3997  290.41  ...  22.350  43.479  43.554  43.479  43.479  3.0343  3.0343   \n",
       "3998  290.41  ...  22.340  43.479  43.632  43.479  43.632  3.0291  3.0291   \n",
       "3999  290.49  ...  22.350  43.707  43.784  43.632  43.632  3.0343  3.0343   \n",
       "\n",
       "         474     475  476  \n",
       "3995  3.0343  3.0343    0  \n",
       "3996  3.0343  3.0343    0  \n",
       "3997  3.0291  3.0291    0  \n",
       "3998  3.0240  3.0291    1  \n",
       "3999  3.0343  3.0343    0  \n",
       "\n",
       "[5 rows x 477 columns]"
      ]
     },
     "execution_count": 39,
     "metadata": {},
     "output_type": "execute_result"
    }
   ],
   "source": [
    "data2=pd.read_csv('EE627A_HW3_DataSet1.csv',header=None)\n",
    "data2.tail()"
   ]
  },
  {
   "cell_type": "code",
   "execution_count": 40,
   "id": "d10df1ce",
   "metadata": {},
   "outputs": [],
   "source": [
    "from sklearn import metrics\n",
    "from sklearn.linear_model import LogisticRegression\n",
    "from sklearn.model_selection import train_test_split"
   ]
  },
  {
   "cell_type": "code",
   "execution_count": 41,
   "id": "b4e8c16a",
   "metadata": {},
   "outputs": [],
   "source": [
    "predict=data2.iloc[:,0:476]\n",
    "response=data2[476]"
   ]
  },
  {
   "cell_type": "code",
   "execution_count": 42,
   "id": "47a13aa6",
   "metadata": {},
   "outputs": [],
   "source": [
    "Logistic_Regression=LogisticRegression(solver='liblinear',C=1.0, random_state=0)\n",
    "fitting_model=Logistic_Regression.fit(predict,response)"
   ]
  },
  {
   "cell_type": "code",
   "execution_count": 43,
   "id": "f522e2ad",
   "metadata": {},
   "outputs": [
    {
     "data": {
      "text/plain": [
       "array([0.89530769, 0.91323699, 0.65207578, ..., 0.33087727, 0.47175371,\n",
       "       0.65063082])"
      ]
     },
     "execution_count": 43,
     "metadata": {},
     "output_type": "execute_result"
    }
   ],
   "source": [
    "prob_y_pred=fitting_model.predict_proba(predict)[:,1]\n",
    "prob_y_pred"
   ]
  },
  {
   "cell_type": "code",
   "execution_count": 44,
   "id": "67ec2044",
   "metadata": {},
   "outputs": [],
   "source": [
    "FalsePositiveRate,TruePositiveRate,_= metrics.roc_curve(response,prob_y_pred)\n",
    "AUC=metrics.roc_auc_score(response,prob_y_pred)"
   ]
  },
  {
   "cell_type": "code",
   "execution_count": 45,
   "id": "2ae2cdb7",
   "metadata": {},
   "outputs": [
    {
     "data": {
      "text/plain": [
       "<function matplotlib.pyplot.show(close=None, block=None)>"
      ]
     },
     "execution_count": 45,
     "metadata": {},
     "output_type": "execute_result"
    },
    {
     "data": {
      "image/png": "[encoded data removed]",
      "text/plain": [
       "<Figure size 432x288 with 1 Axes>"
      ]
     },
     "metadata": {
      "needs_background": "light"
     },
     "output_type": "display_data"
    }
   ],
   "source": [
    "plt.plot(FalsePositiveRate,TruePositiveRate,label='HW3, AUC='+str(AUC),color='r')\n",
    "plt.xlabel('False Positive Rate')\n",
    "plt.ylabel('True Positive Rate')\n",
    "plt.title('ROC Curve')\n",
    "plt.legend(loc=4)\n",
    "plt.show"
   ]
  },
  {
   "cell_type": "markdown",
   "id": "ee2cee15",
   "metadata": {},
   "source": [
    "##### Task-2"
   ]
  },
  {
   "cell_type": "code",
   "execution_count": 47,
   "id": "ed9f24f3",
   "metadata": {},
   "outputs": [
    {
     "name": "stdout",
     "output_type": "stream",
     "text": [
      "(3000, 476)\n",
      "(1000, 476)\n",
      "(3000,)\n",
      "(1000,)\n"
     ]
    }
   ],
   "source": [
    "# Splitting Data: First 3000 data will be used as Training Purpose and rest of 1000 data will be used as Test Purpose\n",
    "\n",
    "x_train, x_test, y_train, y_test=train_test_split(data2.iloc[:,0:-1], data2.iloc[:,-1], test_size=0.25,random_state=0,shuffle=False)\n",
    "print(np.shape(x_train))\n",
    "print(np.shape(x_test))\n",
    "print(np.shape(y_train))\n",
    "print(np.shape(y_test))"
   ]
  },
  {
   "cell_type": "code",
   "execution_count": 48,
   "id": "d84cceb7",
   "metadata": {},
   "outputs": [],
   "source": [
    "Logistic_Regression2=LogisticRegression(solver='liblinear',C=10.0, random_state=0)\n",
    "Model2=Logistic_Regression2.fit(x_train,y_train)"
   ]
  },
  {
   "cell_type": "code",
   "execution_count": 49,
   "id": "88549366",
   "metadata": {},
   "outputs": [
    {
     "data": {
      "text/plain": [
       "array([0.99995833, 0.9989204 , 0.90182109, ..., 0.92841773, 0.88061359,\n",
       "       0.76238846])"
      ]
     },
     "execution_count": 49,
     "metadata": {},
     "output_type": "execute_result"
    }
   ],
   "source": [
    "prob_y_pred2=Model2.predict_proba(x_train.iloc[:,0:])[:,1]\n",
    "prob_y_pred2"
   ]
  },
  {
   "cell_type": "code",
   "execution_count": 50,
   "id": "c1de7ed0",
   "metadata": {},
   "outputs": [],
   "source": [
    "FP_Rate_Train,TP_Rate_Train,_ = metrics.roc_curve(y_train,prob_y_pred2)\n",
    "AUC_Train=metrics.roc_auc_score(y_train,prob_y_pred2)"
   ]
  },
  {
   "cell_type": "code",
   "execution_count": 51,
   "id": "0104c186",
   "metadata": {},
   "outputs": [
    {
     "data": {
      "text/plain": [
       "<function matplotlib.pyplot.show(close=None, block=None)>"
      ]
     },
     "execution_count": 51,
     "metadata": {},
     "output_type": "execute_result"
    },
    {
     "data": {
      "image/png": "[encoded data removed]",
      "text/plain": [
       "<Figure size 432x288 with 1 Axes>"
      ]
     },
     "metadata": {
      "needs_background": "light"
     },
     "output_type": "display_data"
    }
   ],
   "source": [
    "plt.plot(FP_Rate_Train,TP_Rate_Train,label='Train, AUC='+str(AUC_Train),color='r')\n",
    "plt.xlabel('False Positive Rate')\n",
    "plt.ylabel('True Positive Rate')\n",
    "plt.title('Training Data ROC Curve')\n",
    "plt.legend(loc=4)\n",
    "plt.show"
   ]
  },
  {
   "cell_type": "code",
   "execution_count": 52,
   "id": "5ef6ea53",
   "metadata": {},
   "outputs": [],
   "source": [
    "prob_y_pred3=Model2.predict_proba(x_test.iloc[:,0:])[:,1]"
   ]
  },
  {
   "cell_type": "code",
   "execution_count": 53,
   "id": "f3e47012",
   "metadata": {},
   "outputs": [],
   "source": [
    "FP_Rate_Test,TP_Rate_Test,_ = metrics.roc_curve(y_test,prob_y_pred3)\n",
    "AUC_Test=metrics.roc_auc_score(y_test,prob_y_pred3)"
   ]
  },
  {
   "cell_type": "code",
   "execution_count": 54,
   "id": "b2fe4559",
   "metadata": {},
   "outputs": [
    {
     "data": {
      "text/plain": [
       "<function matplotlib.pyplot.show(close=None, block=None)>"
      ]
     },
     "execution_count": 54,
     "metadata": {},
     "output_type": "execute_result"
    },
    {
     "data": {
      "image/png": "[encoded data removed]",
      "text/plain": [
       "<Figure size 432x288 with 1 Axes>"
      ]
     },
     "metadata": {
      "needs_background": "light"
     },
     "output_type": "display_data"
    }
   ],
   "source": [
    "plt.plot(FP_Rate_Test,TP_Rate_Test,label='Test, AUC='+str(AUC_Test),color='r')\n",
    "plt.xlabel('False Positive Rate Test')\n",
    "plt.ylabel('True Positive Rate Test')\n",
    "plt.title('Test Data ROC Curve')\n",
    "plt.legend(loc=4)\n",
    "plt.show"
   ]
  },
  {
   "cell_type": "code",
   "execution_count": 55,
   "id": "ab57129b",
   "metadata": {},
   "outputs": [
    {
     "name": "stdout",
     "output_type": "stream",
     "text": [
      "Difference Between AUC_Training and AUC_Test= 0.429645946990748\n"
     ]
    },
    {
     "data": {
      "text/plain": [
       "<function matplotlib.pyplot.show(close=None, block=None)>"
      ]
     },
     "execution_count": 55,
     "metadata": {},
     "output_type": "execute_result"
    },
    {
     "data": {
      "image/png": "[encoded data removed]",
      "text/plain": [
       "<Figure size 432x288 with 1 Axes>"
      ]
     },
     "metadata": {
      "needs_background": "light"
     },
     "output_type": "display_data"
    }
   ],
   "source": [
    "AUC_Difference=AUC_Train-AUC_Test\n",
    "print('Difference Between AUC_Training and AUC_Test=',AUC_Difference)\n",
    "plt.plot(FP_Rate_Train,TP_Rate_Train,label='Train, AUC='+str(AUC_Train),color='r')\n",
    "plt.plot(FP_Rate_Test,TP_Rate_Test,label='Test, AUC='+str(AUC_Test),color='b')\n",
    "plt.xlabel('False Positive Rate')\n",
    "plt.ylabel('True Positive Rate')\n",
    "plt.title('Difference Between Trainin,Test Data-ROC Curve')\n",
    "plt.legend(loc=4)\n",
    "plt.show"
   ]
  },
  {
   "cell_type": "markdown",
   "id": "e9021931",
   "metadata": {},
   "source": [
    "As we can see above, the difference between AUC_Training-AUC_Test=0.4299 is a high value. Also, AUC_Test is under 0.5, and it means that model is not able to distinguish between Class-1 and Class-2. For these reasons, we can say that model is not good."
   ]
  }
 ],
 "metadata": {
  "kernelspec": {
   "display_name": "Python 3 (ipykernel)",
   "language": "python",
   "name": "python3"
  },
  "language_info": {
   "codemirror_mode": {
    "name": "ipython",
    "version": 3
   },
   "file_extension": ".py",
   "mimetype": "text/x-python",
   "name": "python",
   "nbconvert_exporter": "python",
   "pygments_lexer": "ipython3",
   "version": "3.9.7"
  }
 },
 "nbformat": 4,
 "nbformat_minor": 5
}
