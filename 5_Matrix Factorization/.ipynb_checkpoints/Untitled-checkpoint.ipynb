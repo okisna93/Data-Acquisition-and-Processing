{
 "cells": [
  {
   "cell_type": "code",
   "execution_count": 61,
   "id": "f1e70eb2",
   "metadata": {},
   "outputs": [],
   "source": [
    "# ISMET OKAN CELIK CWID:10472265\n",
    "# Homework-6"
   ]
  },
  {
   "cell_type": "code",
   "execution_count": 62,
   "id": "8e79aa65",
   "metadata": {},
   "outputs": [],
   "source": [
    "import numpy as np\n",
    "\n",
    "def matrix_factor(R, P, Q, K, steps, alpha, beta):\n",
    "    for step in range(steps):\n",
    "        for i in range(len(R)):\n",
    "            for j in range(len(R[i])):\n",
    "                if R[i][j] > 0:\n",
    "                    \n",
    "                    error = R[i][j] - np.dot(P[i,:],Q[:,j])\n",
    "\n",
    "                    for k in range(K):\n",
    "\n",
    "                        Gradient1=(2 * error * Q[k][j] - beta * P[i][k])\n",
    "                        Gradient2=(2 * error * P[i][k] - beta * Q[k][j])\n",
    "                        \n",
    "                        P[i][k] = P[i][k] + alpha * Gradient1\n",
    "                        Q[k][j] = Q[k][j] + alpha * Gradient2\n",
    "\n",
    "    return np.dot(P,Q)"
   ]
  },
  {
   "cell_type": "code",
   "execution_count": 63,
   "id": "cbb64dcf",
   "metadata": {},
   "outputs": [
    {
     "data": {
      "text/plain": [
       "array([[4.98976305, 2.95093245, 3.70203646, 0.99907555],\n",
       "       [3.96804363, 2.35676043, 3.14660231, 0.99731205],\n",
       "       [1.05719027, 0.86114526, 5.53108792, 4.96318513],\n",
       "       [0.97098939, 0.76185735, 4.49517705, 3.97299093],\n",
       "       [1.66532768, 1.16841793, 4.92845397, 4.0300615 ]])"
      ]
     },
     "execution_count": 63,
     "metadata": {},
     "output_type": "execute_result"
    }
   ],
   "source": [
    "R=np.array([[5,3,0,1],\n",
    "            [4,0,0,1],\n",
    "            [1,1,0,5],\n",
    "            [1,0,0,4],\n",
    "            [0,1,5,4]])\n",
    "\n",
    "nRow, nCol =np.shape(R)\n",
    "\n",
    "K=2\n",
    "P=np.random.rand(nRow,K)\n",
    "Q=np.random.rand(K,nCol)\n",
    "\n",
    "steps=5000\n",
    "alpha=0.0002\n",
    "beta=0.02\n",
    "matrix_factor(R,P,Q,K,steps,alpha,beta)"
   ]
  },
  {
   "cell_type": "code",
   "execution_count": 64,
   "id": "1c5d17da",
   "metadata": {},
   "outputs": [
    {
     "data": {
      "text/plain": [
       "array([[4.09241401, 2.85254863, 6.90775411, 1.08065887, 1.92029413],\n",
       "       [4.96908051, 3.0748195 , 8.49080371, 0.97922711, 2.44811033],\n",
       "       [0.99895706, 1.91978895, 1.03585545, 5.0111664 , 3.95609685],\n",
       "       [1.01478272, 2.04082935, 1.13388427, 3.96604277, 2.73943112],\n",
       "       [2.99102884, 1.08895343, 4.96054206, 3.94856785, 5.88043597],\n",
       "       [4.91536202, 5.05241476, 7.93041823, 1.94434475, 1.04206555]])"
      ]
     },
     "execution_count": 64,
     "metadata": {},
     "output_type": "execute_result"
    }
   ],
   "source": [
    "R=np.array([[4,3,0,1,2],\n",
    "            [5,0,0,1,0],\n",
    "            [1,2,1,5,4],\n",
    "            [1,0,0,4,0],\n",
    "            [0,1,5,4,0],\n",
    "            [5,5,0,0,1]])\n",
    "\n",
    "nRow, nCol =np.shape(R)\n",
    "\n",
    "K=3\n",
    "P=np.random.rand(nRow,K)\n",
    "Q=np.random.rand(K,nCol)\n",
    "\n",
    "steps=10000\n",
    "alpha=0.0002\n",
    "beta=0.02\n",
    "\n",
    "matrix_factor(R, P, Q, K, steps, alpha, beta)"
   ]
  },
  {
   "cell_type": "code",
   "execution_count": null,
   "id": "a9620821",
   "metadata": {},
   "outputs": [],
   "source": []
  }
 ],
 "metadata": {
  "kernelspec": {
   "display_name": "Python 3 (ipykernel)",
   "language": "python",
   "name": "python3"
  },
  "language_info": {
   "codemirror_mode": {
    "name": "ipython",
    "version": 3
   },
   "file_extension": ".py",
   "mimetype": "text/x-python",
   "name": "python",
   "nbconvert_exporter": "python",
   "pygments_lexer": "ipython3",
   "version": "3.9.7"
  }
 },
 "nbformat": 4,
 "nbformat_minor": 5
}
