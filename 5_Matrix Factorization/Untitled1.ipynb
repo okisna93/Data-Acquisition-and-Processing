{
 "cells": [
  {
   "cell_type": "code",
   "execution_count": 1,
   "id": "619cf7da",
   "metadata": {},
   "outputs": [],
   "source": [
    "import numpy as np\n",
    "\n",
    "\n",
    "def matrix_factorization(R, P, Q, K, steps, alpha, beta):\n",
    "    \"\"\"\n",
    "    matrix factorization\n",
    "    R = rating matrix\n",
    "    P = User features matrix\n",
    "    Q = Item features matrix\n",
    "    K = latent features\n",
    "    steps = number of iterations\n",
    "    alpha = learning rate\n",
    "    beta = regularization parameter\n",
    "    \"\"\"\n",
    "    Q_t = Q.T\n",
    "    for step in range(steps):\n",
    "        for i, elem_i in enumerate(R):\n",
    "            for j, elem_j in enumerate(elem_i):\n",
    "                if elem_j <= 0:\n",
    "                    continue\n",
    "                e_i_j = elem_j - np.dot(P[i, :], Q_t[:, j])\n",
    "                for k in range(K):\n",
    "                    P[i][k] = P[i][k] + alpha * \\\n",
    "                        (2 * e_i_j * Q_t[k][j] - beta * P[i][k])\n",
    "                    Q_t[k][j] = Q_t[k][j] + alpha * \\\n",
    "                        (2 * e_i_j * P[i][k] - beta * Q_t[k][j])\n",
    "        err = 0.\n",
    "        for i, elem_i in enumerate(R):\n",
    "            for j, elem_j in enumerate(elem_i):\n",
    "                if elem_j <= 0:\n",
    "                    continue\n",
    "                err = err + (elem_j - np.dot(P[i, :], Q_t[:, j])) ** 2\n",
    "                for k in range(K):\n",
    "                    err = err + (beta / 2) * (P[i][k] ** 2 + Q_t[k][j] ** 2)\n",
    "        if err < 1e-4:\n",
    "            break\n",
    "\n",
    "    Q = Q_t.T\n",
    "    return P, Q"
   ]
  },
  {
   "cell_type": "code",
   "execution_count": 2,
   "id": "0ab3253a",
   "metadata": {},
   "outputs": [
    {
     "name": "stdout",
     "output_type": "stream",
     "text": [
      "[[5.04215805 2.81267361 5.28910893 0.99748362]\n",
      " [3.93210577 2.19676242 4.26594935 0.99962293]\n",
      " [1.10968976 0.68991176 4.18881452 4.96759827]\n",
      " [0.94848359 0.58562998 3.40718393 3.97420411]\n",
      " [2.47726403 1.43475984 4.85417682 4.03072275]]\n",
      "[[5 3 0 1]\n",
      " [4 0 0 1]\n",
      " [1 1 0 5]\n",
      " [1 0 0 4]\n",
      " [0 1 5 4]]\n",
      "[[4.97792269 2.97882346 5.81988675 1.00224446]\n",
      " [3.98081166 2.3966876  4.83797255 1.00065336]\n",
      " [1.01712572 0.95663199 5.58838458 4.97053032]\n",
      " [0.99196093 0.86973161 4.65072167 3.98155166]\n",
      " [1.30469791 1.05336985 4.97203428 3.99650429]]\n",
      "[[5 3 0 1]\n",
      " [4 0 0 1]\n",
      " [1 1 0 5]\n",
      " [1 0 0 4]\n",
      " [0 1 5 4]]\n"
     ]
    }
   ],
   "source": [
    "\"\"\"\n",
    "    test script\n",
    "    \"\"\"\n",
    "R = np.array([[5, 3, 0, 1],[4, 0, 0, 1],[1, 1, 0, 5],[1, 0, 0, 4],[0, 1, 5, 4],])\n",
    "\n",
    "nRow, nCol = len(R), len(R[0])\n",
    "K = 2\n",
    "P = np.random.rand(nRow, K)\n",
    "Q = np.random.rand(nCol, K)\n",
    "\n",
    "steps = 5000\n",
    "alpha = 0.0002\n",
    "beta = 0.02\n",
    "\n",
    "nP, nQ = matrix_factorization(R, P, Q, K, steps, alpha, beta)\n",
    "print(np.dot(nP, nQ.T))\n",
    "print(R)\n",
    "\n",
    "steps = 10000\n",
    "alpha = 0.0002\n",
    "beta = 0.02\n",
    "\n",
    "nP, nQ = matrix_factorization(R, P, Q, K, steps, alpha, beta)\n",
    "print(np.dot(nP, nQ.T))\n",
    "print(R)"
   ]
  },
  {
   "cell_type": "code",
   "execution_count": null,
   "id": "c9755deb",
   "metadata": {},
   "outputs": [],
   "source": []
  }
 ],
 "metadata": {
  "kernelspec": {
   "display_name": "Python 3 (ipykernel)",
   "language": "python",
   "name": "python3"
  },
  "language_info": {
   "codemirror_mode": {
    "name": "ipython",
    "version": 3
   },
   "file_extension": ".py",
   "mimetype": "text/x-python",
   "name": "python",
   "nbconvert_exporter": "python",
   "pygments_lexer": "ipython3",
   "version": "3.9.7"
  }
 },
 "nbformat": 4,
 "nbformat_minor": 5
}
