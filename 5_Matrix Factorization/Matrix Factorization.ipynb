{
 "cells": [
  {
   "cell_type": "code",
   "execution_count": 26,
   "id": "f1e70eb2",
   "metadata": {},
   "outputs": [],
   "source": [
    "# ISMET OKAN CELIK CWID:10472265\n",
    "# Homework-6"
   ]
  },
  {
   "cell_type": "code",
   "execution_count": 41,
   "id": "8e79aa65",
   "metadata": {},
   "outputs": [],
   "source": [
    "import numpy as np\n",
    "\n",
    "def matrix_factor(R, P, Q, K, steps, alpha, beta):\n",
    "    for step in range(steps):\n",
    "        for i in range(len(R)):\n",
    "            for j in range(len(R[i])):\n",
    "                if R[i][j] > 0:\n",
    "                    \n",
    "                    error = R[i][j] - np.dot(P[i,:],Q[:,j])\n",
    "\n",
    "                    for k in range(K):\n",
    "\n",
    "                        Gradient1=(2 * error * Q[k][j] - beta * P[i][k])\n",
    "                        Gradient2=(2 * error * P[i][k] - beta * Q[k][j])\n",
    "                        \n",
    "                        P[i][k] = P[i][k] + alpha * Gradient1\n",
    "                        Q[k][j] = Q[k][j] + alpha * Gradient2\n",
    "\n",
    "    return P,Q"
   ]
  },
  {
   "cell_type": "code",
   "execution_count": 61,
   "id": "cbb64dcf",
   "metadata": {},
   "outputs": [],
   "source": [
    "R=np.array([[5,3,0,1],\n",
    "            [4,0,0,1],\n",
    "            [1,1,0,5],\n",
    "            [1,0,0,4],\n",
    "            [0,1,5,4]])\n",
    "\n",
    "nRow, nCol =np.shape(R)\n",
    "\n",
    "K=2\n",
    "P=np.random.rand(nRow,K)\n",
    "Q=np.random.rand(K,nCol)\n",
    "\n",
    "steps=5000\n",
    "alpha=0.0002\n",
    "beta=0.02\n",
    "nP,nQ=matrix_factor(R,P,Q,K,steps,alpha,beta)"
   ]
  },
  {
   "cell_type": "code",
   "execution_count": 62,
   "id": "b138001c",
   "metadata": {},
   "outputs": [
    {
     "data": {
      "text/plain": [
       "array([[5.01251503, 2.88358879, 5.72358085, 0.99841092],\n",
       "       [3.9491545 , 2.27711736, 4.65029273, 0.99747176],\n",
       "       [1.09429696, 0.74789197, 4.42288605, 4.96644042],\n",
       "       [0.95405708, 0.64318265, 3.61845706, 3.97441095],\n",
       "       [2.17053854, 1.33833387, 4.8824778 , 4.02962678]])"
      ]
     },
     "execution_count": 62,
     "metadata": {},
     "output_type": "execute_result"
    }
   ],
   "source": [
    "np.dot(nP,nQ)"
   ]
  },
  {
   "cell_type": "code",
   "execution_count": 63,
   "id": "9b6c4af6",
   "metadata": {},
   "outputs": [
    {
     "data": {
      "text/plain": [
       "array([[5, 3, 0, 1],\n",
       "       [4, 0, 0, 1],\n",
       "       [1, 1, 0, 5],\n",
       "       [1, 0, 0, 4],\n",
       "       [0, 1, 5, 4]])"
      ]
     },
     "execution_count": 63,
     "metadata": {},
     "output_type": "execute_result"
    }
   ],
   "source": [
    "R"
   ]
  },
  {
   "cell_type": "code",
   "execution_count": 58,
   "id": "1c5d17da",
   "metadata": {},
   "outputs": [],
   "source": [
    "R=np.array([[4,3,0,1,2],\n",
    "            [5,0,0,1,0],\n",
    "            [1,2,1,5,4],\n",
    "            [1,0,0,4,0],\n",
    "            [0,1,5,4,0],\n",
    "            [5,5,0,0,1]])\n",
    "\n",
    "nRow, nCol =np.shape(R)\n",
    "\n",
    "K=3\n",
    "P=np.random.rand(nRow,K)\n",
    "Q=np.random.rand(K,nCol)\n",
    "\n",
    "steps=10000\n",
    "alpha=0.0002\n",
    "beta=0.02\n",
    "\n",
    "nP,nQ=matrix_factor(R, P, Q, K, steps, alpha, beta)"
   ]
  },
  {
   "cell_type": "code",
   "execution_count": 59,
   "id": "a9620821",
   "metadata": {},
   "outputs": [
    {
     "data": {
      "text/plain": [
       "array([[4.00393279, 2.96801337, 3.3495112 , 1.03261157, 1.96057978],\n",
       "       [4.97648818, 3.50768434, 4.27513264, 0.99350213, 2.29336459],\n",
       "       [1.00426565, 1.98493593, 1.01274581, 4.96844592, 3.98101392],\n",
       "       [0.99672298, 1.43692215, 1.30237308, 3.98485439, 3.44315635],\n",
       "       [2.96626042, 1.01373931, 4.97555751, 3.98072785, 5.2177704 ],\n",
       "       [4.97163129, 4.987712  , 2.43726713, 0.70521586, 1.01734922]])"
      ]
     },
     "execution_count": 59,
     "metadata": {},
     "output_type": "execute_result"
    }
   ],
   "source": [
    "np.dot(nP,nQ)"
   ]
  },
  {
   "cell_type": "code",
   "execution_count": 60,
   "id": "35ff4a6f",
   "metadata": {},
   "outputs": [
    {
     "data": {
      "text/plain": [
       "array([[4, 3, 0, 1, 2],\n",
       "       [5, 0, 0, 1, 0],\n",
       "       [1, 2, 1, 5, 4],\n",
       "       [1, 0, 0, 4, 0],\n",
       "       [0, 1, 5, 4, 0],\n",
       "       [5, 5, 0, 0, 1]])"
      ]
     },
     "execution_count": 60,
     "metadata": {},
     "output_type": "execute_result"
    }
   ],
   "source": [
    "R"
   ]
  },
  {
   "cell_type": "code",
   "execution_count": null,
   "id": "ce908099",
   "metadata": {},
   "outputs": [],
   "source": []
  }
 ],
 "metadata": {
  "kernelspec": {
   "display_name": "Python 3 (ipykernel)",
   "language": "python",
   "name": "python3"
  },
  "language_info": {
   "codemirror_mode": {
    "name": "ipython",
    "version": 3
   },
   "file_extension": ".py",
   "mimetype": "text/x-python",
   "name": "python",
   "nbconvert_exporter": "python",
   "pygments_lexer": "ipython3",
   "version": "3.9.7"
  }
 },
 "nbformat": 4,
 "nbformat_minor": 5
}
