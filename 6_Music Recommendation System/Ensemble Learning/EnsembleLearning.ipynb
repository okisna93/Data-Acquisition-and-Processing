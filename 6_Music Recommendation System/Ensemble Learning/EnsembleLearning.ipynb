{
 "cells": [
  {
   "cell_type": "code",
   "execution_count": 2,
   "id": "c74309ae",
   "metadata": {},
   "outputs": [],
   "source": [
    "import pandas as pd\n",
    "import numpy as np\n",
    "from sklearn import model_selection\n",
    "from sklearn.linear_model import LogisticRegression\n",
    "from sklearn.tree import DecisionTreeClassifier\n",
    "from sklearn.svm import SVC\n",
    "from sklearn.ensemble import VotingClassifier"
   ]
  },
  {
   "cell_type": "code",
   "execution_count": 5,
   "id": "8b816ac0",
   "metadata": {},
   "outputs": [
    {
     "data": {
      "text/plain": [
       "Index(['Sub_2_77585', 'Sub_3_84310', 'Sub_4_87863', 'Sub_5_87455',\n",
       "       'Sub_6_87866', 'Sub_7_87869', 'Sub_8_87871', 'Sub_9_87873',\n",
       "       'Sub_10_87871', 'Sub_11_88247', 'Sub_12_87205', 'Sub_13_86602',\n",
       "       'Sub_14_89658', 'Sub_15_61561', 'Sub_16_89210', 'Sub_17_49474',\n",
       "       'Sub_18_50804', 'Sub_20_84507', 'Sub_21_82108', 'Sub_22_82108',\n",
       "       'Sub_23_84398'],\n",
       "      dtype='object')"
      ]
     },
     "execution_count": 5,
     "metadata": {},
     "output_type": "execute_result"
    }
   ],
   "source": [
    "\n",
    "df = pd.read_csv('PREPARED_DATA_ENSEMBLING.csv')\n",
    "names =df.columns\n",
    "names=names[2:]\n",
    "names"
   ]
  },
  {
   "cell_type": "code",
   "execution_count": 6,
   "id": "8d4e33b0",
   "metadata": {},
   "outputs": [
    {
     "data": {
      "text/html": [
       "<div>\n",
       "<style scoped>\n",
       "    .dataframe tbody tr th:only-of-type {\n",
       "        vertical-align: middle;\n",
       "    }\n",
       "\n",
       "    .dataframe tbody tr th {\n",
       "        vertical-align: top;\n",
       "    }\n",
       "\n",
       "    .dataframe thead th {\n",
       "        text-align: right;\n",
       "    }\n",
       "</style>\n",
       "<table border=\"1\" class=\"dataframe\">\n",
       "  <thead>\n",
       "    <tr style=\"text-align: right;\">\n",
       "      <th></th>\n",
       "      <th>TrackID</th>\n",
       "      <th>Sub_1_87733</th>\n",
       "      <th>Sub_2_77585</th>\n",
       "      <th>Sub_3_84310</th>\n",
       "      <th>Sub_4_87863</th>\n",
       "      <th>Sub_5_87455</th>\n",
       "      <th>Sub_6_87866</th>\n",
       "      <th>Sub_7_87869</th>\n",
       "      <th>Sub_8_87871</th>\n",
       "      <th>Sub_9_87873</th>\n",
       "      <th>...</th>\n",
       "      <th>Sub_13_86602</th>\n",
       "      <th>Sub_14_89658</th>\n",
       "      <th>Sub_15_61561</th>\n",
       "      <th>Sub_16_89210</th>\n",
       "      <th>Sub_17_49474</th>\n",
       "      <th>Sub_18_50804</th>\n",
       "      <th>Sub_20_84507</th>\n",
       "      <th>Sub_21_82108</th>\n",
       "      <th>Sub_22_82108</th>\n",
       "      <th>Sub_23_84398</th>\n",
       "    </tr>\n",
       "  </thead>\n",
       "  <tbody>\n",
       "    <tr>\n",
       "      <th>0</th>\n",
       "      <td>199810_208019</td>\n",
       "      <td>-1.0</td>\n",
       "      <td>-1</td>\n",
       "      <td>-1</td>\n",
       "      <td>-1.0</td>\n",
       "      <td>-1.0</td>\n",
       "      <td>-1.0</td>\n",
       "      <td>-1.0</td>\n",
       "      <td>-1.0</td>\n",
       "      <td>-1.0</td>\n",
       "      <td>...</td>\n",
       "      <td>-1.0</td>\n",
       "      <td>-1.0</td>\n",
       "      <td>1.0</td>\n",
       "      <td>-1.0</td>\n",
       "      <td>1.0</td>\n",
       "      <td>1.0</td>\n",
       "      <td>-1</td>\n",
       "      <td>-1</td>\n",
       "      <td>-1</td>\n",
       "      <td>-1</td>\n",
       "    </tr>\n",
       "    <tr>\n",
       "      <th>1</th>\n",
       "      <td>199810_74139</td>\n",
       "      <td>-1.0</td>\n",
       "      <td>-1</td>\n",
       "      <td>-1</td>\n",
       "      <td>-1.0</td>\n",
       "      <td>-1.0</td>\n",
       "      <td>-1.0</td>\n",
       "      <td>-1.0</td>\n",
       "      <td>-1.0</td>\n",
       "      <td>-1.0</td>\n",
       "      <td>...</td>\n",
       "      <td>-1.0</td>\n",
       "      <td>-1.0</td>\n",
       "      <td>1.0</td>\n",
       "      <td>-1.0</td>\n",
       "      <td>1.0</td>\n",
       "      <td>-1.0</td>\n",
       "      <td>-1</td>\n",
       "      <td>-1</td>\n",
       "      <td>-1</td>\n",
       "      <td>-1</td>\n",
       "    </tr>\n",
       "    <tr>\n",
       "      <th>2</th>\n",
       "      <td>199810_9903</td>\n",
       "      <td>-1.0</td>\n",
       "      <td>-1</td>\n",
       "      <td>-1</td>\n",
       "      <td>-1.0</td>\n",
       "      <td>-1.0</td>\n",
       "      <td>-1.0</td>\n",
       "      <td>-1.0</td>\n",
       "      <td>-1.0</td>\n",
       "      <td>-1.0</td>\n",
       "      <td>...</td>\n",
       "      <td>-1.0</td>\n",
       "      <td>-1.0</td>\n",
       "      <td>1.0</td>\n",
       "      <td>-1.0</td>\n",
       "      <td>1.0</td>\n",
       "      <td>-1.0</td>\n",
       "      <td>-1</td>\n",
       "      <td>-1</td>\n",
       "      <td>-1</td>\n",
       "      <td>-1</td>\n",
       "    </tr>\n",
       "    <tr>\n",
       "      <th>3</th>\n",
       "      <td>199810_242681</td>\n",
       "      <td>-1.0</td>\n",
       "      <td>-1</td>\n",
       "      <td>-1</td>\n",
       "      <td>-1.0</td>\n",
       "      <td>-1.0</td>\n",
       "      <td>-1.0</td>\n",
       "      <td>-1.0</td>\n",
       "      <td>-1.0</td>\n",
       "      <td>-1.0</td>\n",
       "      <td>...</td>\n",
       "      <td>-1.0</td>\n",
       "      <td>-1.0</td>\n",
       "      <td>1.0</td>\n",
       "      <td>-1.0</td>\n",
       "      <td>-1.0</td>\n",
       "      <td>1.0</td>\n",
       "      <td>1</td>\n",
       "      <td>1</td>\n",
       "      <td>1</td>\n",
       "      <td>1</td>\n",
       "    </tr>\n",
       "    <tr>\n",
       "      <th>4</th>\n",
       "      <td>199810_18515</td>\n",
       "      <td>1.0</td>\n",
       "      <td>-1</td>\n",
       "      <td>1</td>\n",
       "      <td>-1.0</td>\n",
       "      <td>-1.0</td>\n",
       "      <td>-1.0</td>\n",
       "      <td>-1.0</td>\n",
       "      <td>-1.0</td>\n",
       "      <td>-1.0</td>\n",
       "      <td>...</td>\n",
       "      <td>-1.0</td>\n",
       "      <td>-1.0</td>\n",
       "      <td>1.0</td>\n",
       "      <td>1.0</td>\n",
       "      <td>1.0</td>\n",
       "      <td>1.0</td>\n",
       "      <td>1</td>\n",
       "      <td>1</td>\n",
       "      <td>1</td>\n",
       "      <td>1</td>\n",
       "    </tr>\n",
       "    <tr>\n",
       "      <th>...</th>\n",
       "      <td>...</td>\n",
       "      <td>...</td>\n",
       "      <td>...</td>\n",
       "      <td>...</td>\n",
       "      <td>...</td>\n",
       "      <td>...</td>\n",
       "      <td>...</td>\n",
       "      <td>...</td>\n",
       "      <td>...</td>\n",
       "      <td>...</td>\n",
       "      <td>...</td>\n",
       "      <td>...</td>\n",
       "      <td>...</td>\n",
       "      <td>...</td>\n",
       "      <td>...</td>\n",
       "      <td>...</td>\n",
       "      <td>...</td>\n",
       "      <td>...</td>\n",
       "      <td>...</td>\n",
       "      <td>...</td>\n",
       "      <td>...</td>\n",
       "    </tr>\n",
       "    <tr>\n",
       "      <th>119995</th>\n",
       "      <td>249010_72192</td>\n",
       "      <td>-1.0</td>\n",
       "      <td>-1</td>\n",
       "      <td>-1</td>\n",
       "      <td>-1.0</td>\n",
       "      <td>-1.0</td>\n",
       "      <td>-1.0</td>\n",
       "      <td>-1.0</td>\n",
       "      <td>-1.0</td>\n",
       "      <td>-1.0</td>\n",
       "      <td>...</td>\n",
       "      <td>-1.0</td>\n",
       "      <td>-1.0</td>\n",
       "      <td>1.0</td>\n",
       "      <td>-1.0</td>\n",
       "      <td>1.0</td>\n",
       "      <td>1.0</td>\n",
       "      <td>-1</td>\n",
       "      <td>-1</td>\n",
       "      <td>-1</td>\n",
       "      <td>-1</td>\n",
       "    </tr>\n",
       "    <tr>\n",
       "      <th>119996</th>\n",
       "      <td>249010_86104</td>\n",
       "      <td>-1.0</td>\n",
       "      <td>-1</td>\n",
       "      <td>-1</td>\n",
       "      <td>-1.0</td>\n",
       "      <td>-1.0</td>\n",
       "      <td>-1.0</td>\n",
       "      <td>-1.0</td>\n",
       "      <td>-1.0</td>\n",
       "      <td>-1.0</td>\n",
       "      <td>...</td>\n",
       "      <td>-1.0</td>\n",
       "      <td>-1.0</td>\n",
       "      <td>1.0</td>\n",
       "      <td>-1.0</td>\n",
       "      <td>1.0</td>\n",
       "      <td>1.0</td>\n",
       "      <td>-1</td>\n",
       "      <td>-1</td>\n",
       "      <td>-1</td>\n",
       "      <td>-1</td>\n",
       "    </tr>\n",
       "    <tr>\n",
       "      <th>119997</th>\n",
       "      <td>249010_186634</td>\n",
       "      <td>1.0</td>\n",
       "      <td>1</td>\n",
       "      <td>1</td>\n",
       "      <td>1.0</td>\n",
       "      <td>1.0</td>\n",
       "      <td>1.0</td>\n",
       "      <td>1.0</td>\n",
       "      <td>1.0</td>\n",
       "      <td>1.0</td>\n",
       "      <td>...</td>\n",
       "      <td>-1.0</td>\n",
       "      <td>1.0</td>\n",
       "      <td>1.0</td>\n",
       "      <td>1.0</td>\n",
       "      <td>1.0</td>\n",
       "      <td>1.0</td>\n",
       "      <td>1</td>\n",
       "      <td>1</td>\n",
       "      <td>1</td>\n",
       "      <td>1</td>\n",
       "    </tr>\n",
       "    <tr>\n",
       "      <th>119998</th>\n",
       "      <td>249010_293818</td>\n",
       "      <td>-1.0</td>\n",
       "      <td>-1</td>\n",
       "      <td>-1</td>\n",
       "      <td>-1.0</td>\n",
       "      <td>-1.0</td>\n",
       "      <td>-1.0</td>\n",
       "      <td>-1.0</td>\n",
       "      <td>-1.0</td>\n",
       "      <td>-1.0</td>\n",
       "      <td>...</td>\n",
       "      <td>-1.0</td>\n",
       "      <td>-1.0</td>\n",
       "      <td>1.0</td>\n",
       "      <td>-1.0</td>\n",
       "      <td>1.0</td>\n",
       "      <td>-1.0</td>\n",
       "      <td>1</td>\n",
       "      <td>1</td>\n",
       "      <td>1</td>\n",
       "      <td>1</td>\n",
       "    </tr>\n",
       "    <tr>\n",
       "      <th>119999</th>\n",
       "      <td>249010_262811</td>\n",
       "      <td>1.0</td>\n",
       "      <td>1</td>\n",
       "      <td>1</td>\n",
       "      <td>1.0</td>\n",
       "      <td>1.0</td>\n",
       "      <td>1.0</td>\n",
       "      <td>1.0</td>\n",
       "      <td>1.0</td>\n",
       "      <td>1.0</td>\n",
       "      <td>...</td>\n",
       "      <td>-1.0</td>\n",
       "      <td>1.0</td>\n",
       "      <td>1.0</td>\n",
       "      <td>1.0</td>\n",
       "      <td>1.0</td>\n",
       "      <td>1.0</td>\n",
       "      <td>1</td>\n",
       "      <td>1</td>\n",
       "      <td>1</td>\n",
       "      <td>1</td>\n",
       "    </tr>\n",
       "  </tbody>\n",
       "</table>\n",
       "<p>120000 rows × 23 columns</p>\n",
       "</div>"
      ],
      "text/plain": [
       "              TrackID  Sub_1_87733  Sub_2_77585  Sub_3_84310  Sub_4_87863  \\\n",
       "0       199810_208019         -1.0           -1           -1         -1.0   \n",
       "1        199810_74139         -1.0           -1           -1         -1.0   \n",
       "2         199810_9903         -1.0           -1           -1         -1.0   \n",
       "3       199810_242681         -1.0           -1           -1         -1.0   \n",
       "4        199810_18515          1.0           -1            1         -1.0   \n",
       "...               ...          ...          ...          ...          ...   \n",
       "119995   249010_72192         -1.0           -1           -1         -1.0   \n",
       "119996   249010_86104         -1.0           -1           -1         -1.0   \n",
       "119997  249010_186634          1.0            1            1          1.0   \n",
       "119998  249010_293818         -1.0           -1           -1         -1.0   \n",
       "119999  249010_262811          1.0            1            1          1.0   \n",
       "\n",
       "        Sub_5_87455  Sub_6_87866  Sub_7_87869  Sub_8_87871  Sub_9_87873  ...  \\\n",
       "0              -1.0         -1.0         -1.0         -1.0         -1.0  ...   \n",
       "1              -1.0         -1.0         -1.0         -1.0         -1.0  ...   \n",
       "2              -1.0         -1.0         -1.0         -1.0         -1.0  ...   \n",
       "3              -1.0         -1.0         -1.0         -1.0         -1.0  ...   \n",
       "4              -1.0         -1.0         -1.0         -1.0         -1.0  ...   \n",
       "...             ...          ...          ...          ...          ...  ...   \n",
       "119995         -1.0         -1.0         -1.0         -1.0         -1.0  ...   \n",
       "119996         -1.0         -1.0         -1.0         -1.0         -1.0  ...   \n",
       "119997          1.0          1.0          1.0          1.0          1.0  ...   \n",
       "119998         -1.0         -1.0         -1.0         -1.0         -1.0  ...   \n",
       "119999          1.0          1.0          1.0          1.0          1.0  ...   \n",
       "\n",
       "        Sub_13_86602  Sub_14_89658  Sub_15_61561  Sub_16_89210  Sub_17_49474  \\\n",
       "0               -1.0          -1.0           1.0          -1.0           1.0   \n",
       "1               -1.0          -1.0           1.0          -1.0           1.0   \n",
       "2               -1.0          -1.0           1.0          -1.0           1.0   \n",
       "3               -1.0          -1.0           1.0          -1.0          -1.0   \n",
       "4               -1.0          -1.0           1.0           1.0           1.0   \n",
       "...              ...           ...           ...           ...           ...   \n",
       "119995          -1.0          -1.0           1.0          -1.0           1.0   \n",
       "119996          -1.0          -1.0           1.0          -1.0           1.0   \n",
       "119997          -1.0           1.0           1.0           1.0           1.0   \n",
       "119998          -1.0          -1.0           1.0          -1.0           1.0   \n",
       "119999          -1.0           1.0           1.0           1.0           1.0   \n",
       "\n",
       "        Sub_18_50804  Sub_20_84507  Sub_21_82108  Sub_22_82108  Sub_23_84398  \n",
       "0                1.0            -1            -1            -1            -1  \n",
       "1               -1.0            -1            -1            -1            -1  \n",
       "2               -1.0            -1            -1            -1            -1  \n",
       "3                1.0             1             1             1             1  \n",
       "4                1.0             1             1             1             1  \n",
       "...              ...           ...           ...           ...           ...  \n",
       "119995           1.0            -1            -1            -1            -1  \n",
       "119996           1.0            -1            -1            -1            -1  \n",
       "119997           1.0             1             1             1             1  \n",
       "119998          -1.0             1             1             1             1  \n",
       "119999           1.0             1             1             1             1  \n",
       "\n",
       "[120000 rows x 23 columns]"
      ]
     },
     "execution_count": 6,
     "metadata": {},
     "output_type": "execute_result"
    }
   ],
   "source": [
    "df"
   ]
  },
  {
   "cell_type": "code",
   "execution_count": 16,
   "id": "eefa40e6",
   "metadata": {},
   "outputs": [
    {
     "data": {
      "text/plain": [
       "21"
      ]
     },
     "execution_count": 16,
     "metadata": {},
     "output_type": "execute_result"
    }
   ],
   "source": [
    "S = df[names].values\n",
    "\n",
    "len(np.array(S))\n",
    "len(S[0])"
   ]
  },
  {
   "cell_type": "code",
   "execution_count": 13,
   "id": "865d28ae",
   "metadata": {},
   "outputs": [
    {
     "data": {
      "text/plain": [
       "22"
      ]
     },
     "execution_count": 13,
     "metadata": {},
     "output_type": "execute_result"
    }
   ],
   "source": [
    "score_list=['87733', '77585', '84310', '87863',\n",
    "       '87455', '87866', '87869', '87871',\n",
    "       '87873', '87871', '88247', '87205',\n",
    "       '86602', '89658', '61561', '89210',\n",
    "       '49474', '50804','84507',\n",
    "       '82108', '82108', '84398']   \n",
    "scores=[]\n",
    "for i in score_list:\n",
    "    score=int(i)/100000\n",
    "    scores.append(score)\n",
    "len(scores)"
   ]
  },
  {
   "cell_type": "code",
   "execution_count": 14,
   "id": "7f78c0b5",
   "metadata": {},
   "outputs": [
    {
     "ename": "ValueError",
     "evalue": "shapes (21,21) and (22,) not aligned: 21 (dim 1) != 22 (dim 0)",
     "output_type": "error",
     "traceback": [
      "\u001b[1;31m---------------------------------------------------------------------------\u001b[0m",
      "\u001b[1;31mValueError\u001b[0m                                Traceback (most recent call last)",
      "\u001b[1;32m~\\AppData\\Local\\Temp/ipykernel_77028/722763022.py\u001b[0m in \u001b[0;36m<module>\u001b[1;34m\u001b[0m\n\u001b[0;32m     13\u001b[0m \u001b[1;31m# Generate a_LS = (S(transpose) * S)^-1 * N(2P_i - 1)\u001b[0m\u001b[1;33m\u001b[0m\u001b[1;33m\u001b[0m\u001b[0m\n\u001b[0;32m     14\u001b[0m \u001b[1;31m# a_LS is the Least Squares solution\u001b[0m\u001b[1;33m\u001b[0m\u001b[1;33m\u001b[0m\u001b[0m\n\u001b[1;32m---> 15\u001b[1;33m \u001b[0ma_LS\u001b[0m \u001b[1;33m=\u001b[0m \u001b[0mnp\u001b[0m\u001b[1;33m.\u001b[0m\u001b[0mdot\u001b[0m\u001b[1;33m(\u001b[0m\u001b[0mST_S_inv\u001b[0m\u001b[1;33m,\u001b[0m \u001b[0mST_x\u001b[0m\u001b[1;33m)\u001b[0m\u001b[1;33m\u001b[0m\u001b[1;33m\u001b[0m\u001b[0m\n\u001b[0m",
      "\u001b[1;32m<__array_function__ internals>\u001b[0m in \u001b[0;36mdot\u001b[1;34m(*args, **kwargs)\u001b[0m\n",
      "\u001b[1;31mValueError\u001b[0m: shapes (21,21) and (22,) not aligned: 21 (dim 1) != 22 (dim 0)"
     ]
    }
   ],
   "source": [
    "N = len(S)    # 120,000 rows in this case\n",
    "ST_x = []\n",
    "\n",
    "# Generate S(transpose) * x -> N(2P_i - 1)\n",
    "ST_x = [N * (2 * P - 1) for P in scores]    # list comprehension\n",
    "\n",
    "# Generate S(transpose) * S\n",
    "ST_S = np.dot(S.T, S).astype('float') + np.eye(S.shape[1]) * (10 ** -6)    # to prevent singular matrices\n",
    "\n",
    "# Generate (S(transpose) * S)^-1\n",
    "ST_S_inv = np.linalg.inv(ST_S)\n",
    "\n",
    "# Generate a_LS = (S(transpose) * S)^-1 * N(2P_i - 1) \n",
    "# a_LS is the Least Squares solution\n",
    "a_LS = np.dot(ST_S_inv, ST_x)"
   ]
  },
  {
   "cell_type": "code",
   "execution_count": 13,
   "id": "a31d80c2",
   "metadata": {},
   "outputs": [
    {
     "data": {
      "text/plain": [
       "array([ 1.38965385e+10, -1.04587570e+10,  5.68126470e+09,  1.42083730e+10,\n",
       "        1.32287944e+10,  1.42148587e+10,  1.42223263e+10,  1.42272179e+10,\n",
       "        1.42335165e+10,  1.42282279e+10,  1.51300234e+10,  1.26286822e+10,\n",
       "        1.11826873e+10,  1.85161219e+10, -4.89160008e+10,  1.74407407e+10,\n",
       "       -7.79248317e+10, -7.47337614e+10,  6.15413113e+09,  6.15416078e+09,\n",
       "        3.96535890e+08,  3.96569049e+08,  5.89258053e+09])"
      ]
     },
     "execution_count": 13,
     "metadata": {},
     "output_type": "execute_result"
    }
   ],
   "source": [
    "a_LS"
   ]
  },
  {
   "cell_type": "code",
   "execution_count": 14,
   "id": "3c96ed30",
   "metadata": {},
   "outputs": [],
   "source": [
    "s_ensemble = np.dot(S, a_LS)"
   ]
  },
  {
   "cell_type": "code",
   "execution_count": 15,
   "id": "4e490802",
   "metadata": {},
   "outputs": [
    {
     "data": {
      "text/plain": [
       "array([-0.63887024, -0.63887024, -0.63887024, ..., -0.63887024,\n",
       "       -0.63887024, -0.63887024])"
      ]
     },
     "execution_count": 15,
     "metadata": {},
     "output_type": "execute_result"
    }
   ],
   "source": [
    "s_ensemble"
   ]
  },
  {
   "cell_type": "code",
   "execution_count": 16,
   "id": "aa606ec5",
   "metadata": {},
   "outputs": [
    {
     "data": {
      "text/plain": [
       "120000"
      ]
     },
     "execution_count": 16,
     "metadata": {},
     "output_type": "execute_result"
    }
   ],
   "source": [
    "s_ensemble_len = len(s_ensemble)    # store length of s_ensemble\n",
    "s_ensemble_len"
   ]
  },
  {
   "cell_type": "code",
   "execution_count": 17,
   "id": "a4a39fe8",
   "metadata": {},
   "outputs": [],
   "source": [
    "final_predictions = np.zeros(s_ensemble_len)    # initialize final solution with list of zeroes"
   ]
  },
  {
   "cell_type": "code",
   "execution_count": 18,
   "id": "7238e67a",
   "metadata": {},
   "outputs": [],
   "source": [
    "# Loop through all 6 tracks for each user to get top 3 for each user\n",
    "for index in range(s_ensemble_len // 6):    # floor division\n",
    "    # Threshold is the third element in the sorted array\n",
    "    user_score_threshold = np.sort(s_ensemble[index * 6 : index * 6 + 6])[2]    # sort the 6 values for each user and grab the third element\n",
    "    for index_user in range(6):\n",
    "        if s_ensemble[index * 6 + index_user] > user_score_threshold:\n",
    "            final_predictions[index * 6 + index_user] = 1    # set top 3 to 1 (other 3 will be 0)"
   ]
  },
  {
   "cell_type": "code",
   "execution_count": 19,
   "id": "69f7c091",
   "metadata": {},
   "outputs": [
    {
     "ename": "NameError",
     "evalue": "name 'solutions_df' is not defined",
     "output_type": "error",
     "traceback": [
      "\u001b[1;31m---------------------------------------------------------------------------\u001b[0m",
      "\u001b[1;31mNameError\u001b[0m                                 Traceback (most recent call last)",
      "\u001b[1;32m~\\AppData\\Local\\Temp/ipykernel_68228/1167174230.py\u001b[0m in \u001b[0;36m<module>\u001b[1;34m\u001b[0m\n\u001b[0;32m      1\u001b[0m \u001b[1;31m# Generate the final prediction df\u001b[0m\u001b[1;33m\u001b[0m\u001b[1;33m\u001b[0m\u001b[0m\n\u001b[1;32m----> 2\u001b[1;33m \u001b[0mfinal_predictions_df\u001b[0m \u001b[1;33m=\u001b[0m \u001b[0mpd\u001b[0m\u001b[1;33m.\u001b[0m\u001b[0mDataFrame\u001b[0m\u001b[1;33m(\u001b[0m\u001b[0msolutions_df\u001b[0m\u001b[1;33m.\u001b[0m\u001b[0miloc\u001b[0m\u001b[1;33m[\u001b[0m\u001b[1;33m:\u001b[0m\u001b[1;33m,\u001b[0m\u001b[1;36m0\u001b[0m\u001b[1;33m]\u001b[0m\u001b[1;33m)\u001b[0m    \u001b[1;31m# make new df using first column of solutions_df\u001b[0m\u001b[1;33m\u001b[0m\u001b[1;33m\u001b[0m\u001b[0m\n\u001b[0m\u001b[0;32m      3\u001b[0m \u001b[0mfinal_predictions_df\u001b[0m\u001b[1;33m[\u001b[0m\u001b[1;34m'Predictor'\u001b[0m\u001b[1;33m]\u001b[0m \u001b[1;33m=\u001b[0m \u001b[0mnp\u001b[0m\u001b[1;33m.\u001b[0m\u001b[0marray\u001b[0m\u001b[1;33m(\u001b[0m\u001b[0mfinal_predictions\u001b[0m\u001b[1;33m,\u001b[0m \u001b[0mdtype\u001b[0m\u001b[1;33m=\u001b[0m\u001b[0mint\u001b[0m\u001b[1;33m)\u001b[0m\u001b[1;33m\u001b[0m\u001b[1;33m\u001b[0m\u001b[0m\n",
      "\u001b[1;31mNameError\u001b[0m: name 'solutions_df' is not defined"
     ]
    }
   ],
   "source": [
    "# Generate the final prediction df\n",
    "final_predictions_df = pd.DataFrame(solutions_df.iloc[:,0])    # make new df using first column of solutions_df\n",
    "final_predictions_df['Predictor'] = np.array(final_predictions, dtype=int)"
   ]
  },
  {
   "cell_type": "code",
   "execution_count": 73,
   "id": "59eb18aa",
   "metadata": {},
   "outputs": [],
   "source": [
    "prediction_df=pd.DataFrame()\n",
    "prediction_df['TrackID']=df['TrackID']"
   ]
  },
  {
   "cell_type": "code",
   "execution_count": 74,
   "id": "927e83a6",
   "metadata": {},
   "outputs": [],
   "source": [
    "prediction_df['Predictor']=final_predictions_df['Predictor']"
   ]
  },
  {
   "cell_type": "code",
   "execution_count": 77,
   "id": "14f0dd3a",
   "metadata": {},
   "outputs": [],
   "source": [
    "prediction_df.to_csv('Ensembling_Learning.csv')"
   ]
  },
  {
   "cell_type": "code",
   "execution_count": null,
   "id": "54f65bf6",
   "metadata": {},
   "outputs": [],
   "source": []
  }
 ],
 "metadata": {
  "kernelspec": {
   "display_name": "Python 3 (ipykernel)",
   "language": "python",
   "name": "python3"
  },
  "language_info": {
   "codemirror_mode": {
    "name": "ipython",
    "version": 3
   },
   "file_extension": ".py",
   "mimetype": "text/x-python",
   "name": "python",
   "nbconvert_exporter": "python",
   "pygments_lexer": "ipython3",
   "version": "3.9.7"
  }
 },
 "nbformat": 4,
 "nbformat_minor": 5
}
