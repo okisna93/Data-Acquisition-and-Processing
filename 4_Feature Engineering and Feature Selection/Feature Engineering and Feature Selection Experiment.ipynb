{
 "cells": [
  {
   "cell_type": "markdown",
   "id": "8220304c",
   "metadata": {},
   "source": [
    "##### Ismet Okan Celik CWID: 10472265\n",
    "##### I pledge my honor that I have abided by the Stevens Honor System."
   ]
  },
  {
   "cell_type": "code",
   "execution_count": 1,
   "id": "e5e2d0eb",
   "metadata": {},
   "outputs": [],
   "source": [
    "import pandas as pd\n",
    "import numpy as np\n",
    "import matplotlib.pyplot as plt\n",
    "from sklearn import metrics\n",
    "from sklearn.linear_model import LogisticRegression\n",
    "from sklearn.feature_selection import RFE\n",
    "from sklearn.model_selection import train_test_split"
   ]
  },
  {
   "cell_type": "code",
   "execution_count": 2,
   "id": "faac6de6",
   "metadata": {},
   "outputs": [
    {
     "data": {
      "text/html": [
       "<div>\n",
       "<style scoped>\n",
       "    .dataframe tbody tr th:only-of-type {\n",
       "        vertical-align: middle;\n",
       "    }\n",
       "\n",
       "    .dataframe tbody tr th {\n",
       "        vertical-align: top;\n",
       "    }\n",
       "\n",
       "    .dataframe thead th {\n",
       "        text-align: right;\n",
       "    }\n",
       "</style>\n",
       "<table border=\"1\" class=\"dataframe\">\n",
       "  <thead>\n",
       "    <tr style=\"text-align: right;\">\n",
       "      <th></th>\n",
       "      <th>0</th>\n",
       "      <th>1</th>\n",
       "      <th>2</th>\n",
       "      <th>3</th>\n",
       "      <th>4</th>\n",
       "      <th>5</th>\n",
       "      <th>6</th>\n",
       "      <th>7</th>\n",
       "      <th>8</th>\n",
       "      <th>9</th>\n",
       "      <th>...</th>\n",
       "      <th>914</th>\n",
       "      <th>915</th>\n",
       "      <th>916</th>\n",
       "      <th>917</th>\n",
       "      <th>918</th>\n",
       "      <th>919</th>\n",
       "      <th>920</th>\n",
       "      <th>921</th>\n",
       "      <th>922</th>\n",
       "      <th>923</th>\n",
       "    </tr>\n",
       "  </thead>\n",
       "  <tbody>\n",
       "    <tr>\n",
       "      <th>0</th>\n",
       "      <td>1.85050</td>\n",
       "      <td>0.44413</td>\n",
       "      <td>-0.26072</td>\n",
       "      <td>-0.92156</td>\n",
       "      <td>-0.52009</td>\n",
       "      <td>2.73230</td>\n",
       "      <td>-1.5232</td>\n",
       "      <td>-1.2479</td>\n",
       "      <td>1.4870</td>\n",
       "      <td>-0.52449</td>\n",
       "      <td>...</td>\n",
       "      <td>-0.403160</td>\n",
       "      <td>-0.555010</td>\n",
       "      <td>-0.590640</td>\n",
       "      <td>-0.631990</td>\n",
       "      <td>-0.717270</td>\n",
       "      <td>-0.643510</td>\n",
       "      <td>-0.807630</td>\n",
       "      <td>-0.27966</td>\n",
       "      <td>-0.160250</td>\n",
       "      <td>1</td>\n",
       "    </tr>\n",
       "    <tr>\n",
       "      <th>1</th>\n",
       "      <td>2.13930</td>\n",
       "      <td>0.67815</td>\n",
       "      <td>-0.34487</td>\n",
       "      <td>-0.93527</td>\n",
       "      <td>-0.52009</td>\n",
       "      <td>3.08680</td>\n",
       "      <td>-1.5549</td>\n",
       "      <td>-1.2048</td>\n",
       "      <td>1.4753</td>\n",
       "      <td>-0.41132</td>\n",
       "      <td>...</td>\n",
       "      <td>-1.182500</td>\n",
       "      <td>1.527000</td>\n",
       "      <td>0.267590</td>\n",
       "      <td>2.798700</td>\n",
       "      <td>0.147000</td>\n",
       "      <td>2.835500</td>\n",
       "      <td>0.153120</td>\n",
       "      <td>0.80599</td>\n",
       "      <td>0.859200</td>\n",
       "      <td>1</td>\n",
       "    </tr>\n",
       "    <tr>\n",
       "      <th>2</th>\n",
       "      <td>2.19670</td>\n",
       "      <td>0.63249</td>\n",
       "      <td>-0.28908</td>\n",
       "      <td>-0.89806</td>\n",
       "      <td>-0.52009</td>\n",
       "      <td>3.08970</td>\n",
       "      <td>-1.5624</td>\n",
       "      <td>-1.1764</td>\n",
       "      <td>1.5184</td>\n",
       "      <td>-0.37138</td>\n",
       "      <td>...</td>\n",
       "      <td>0.258950</td>\n",
       "      <td>-0.537660</td>\n",
       "      <td>1.899500</td>\n",
       "      <td>0.568590</td>\n",
       "      <td>-0.992550</td>\n",
       "      <td>0.192200</td>\n",
       "      <td>-0.031013</td>\n",
       "      <td>0.69062</td>\n",
       "      <td>1.500700</td>\n",
       "      <td>1</td>\n",
       "    </tr>\n",
       "    <tr>\n",
       "      <th>3</th>\n",
       "      <td>2.21590</td>\n",
       "      <td>0.68735</td>\n",
       "      <td>-0.31650</td>\n",
       "      <td>-0.90001</td>\n",
       "      <td>-0.52009</td>\n",
       "      <td>3.15650</td>\n",
       "      <td>-1.5627</td>\n",
       "      <td>-1.0686</td>\n",
       "      <td>1.5353</td>\n",
       "      <td>-0.34309</td>\n",
       "      <td>...</td>\n",
       "      <td>1.780200</td>\n",
       "      <td>2.820300</td>\n",
       "      <td>0.268560</td>\n",
       "      <td>-0.150870</td>\n",
       "      <td>0.241210</td>\n",
       "      <td>-0.171270</td>\n",
       "      <td>0.292480</td>\n",
       "      <td>1.05210</td>\n",
       "      <td>-0.389050</td>\n",
       "      <td>1</td>\n",
       "    </tr>\n",
       "    <tr>\n",
       "      <th>4</th>\n",
       "      <td>2.26450</td>\n",
       "      <td>0.69541</td>\n",
       "      <td>-0.31650</td>\n",
       "      <td>-0.93331</td>\n",
       "      <td>-0.52009</td>\n",
       "      <td>3.09840</td>\n",
       "      <td>-1.5769</td>\n",
       "      <td>-1.1232</td>\n",
       "      <td>1.4557</td>\n",
       "      <td>-0.32478</td>\n",
       "      <td>...</td>\n",
       "      <td>-0.991740</td>\n",
       "      <td>-0.520880</td>\n",
       "      <td>-0.426940</td>\n",
       "      <td>0.506380</td>\n",
       "      <td>0.355670</td>\n",
       "      <td>-0.004882</td>\n",
       "      <td>-0.669040</td>\n",
       "      <td>0.43659</td>\n",
       "      <td>0.230740</td>\n",
       "      <td>0</td>\n",
       "    </tr>\n",
       "    <tr>\n",
       "      <th>...</th>\n",
       "      <td>...</td>\n",
       "      <td>...</td>\n",
       "      <td>...</td>\n",
       "      <td>...</td>\n",
       "      <td>...</td>\n",
       "      <td>...</td>\n",
       "      <td>...</td>\n",
       "      <td>...</td>\n",
       "      <td>...</td>\n",
       "      <td>...</td>\n",
       "      <td>...</td>\n",
       "      <td>...</td>\n",
       "      <td>...</td>\n",
       "      <td>...</td>\n",
       "      <td>...</td>\n",
       "      <td>...</td>\n",
       "      <td>...</td>\n",
       "      <td>...</td>\n",
       "      <td>...</td>\n",
       "      <td>...</td>\n",
       "      <td>...</td>\n",
       "    </tr>\n",
       "    <tr>\n",
       "      <th>5917</th>\n",
       "      <td>-0.49460</td>\n",
       "      <td>0.25691</td>\n",
       "      <td>1.60670</td>\n",
       "      <td>1.64210</td>\n",
       "      <td>1.92240</td>\n",
       "      <td>0.24546</td>\n",
       "      <td>1.9545</td>\n",
       "      <td>1.6000</td>\n",
       "      <td>1.6307</td>\n",
       "      <td>2.14820</td>\n",
       "      <td>...</td>\n",
       "      <td>-0.132260</td>\n",
       "      <td>-0.004755</td>\n",
       "      <td>-0.801210</td>\n",
       "      <td>0.042059</td>\n",
       "      <td>-0.406010</td>\n",
       "      <td>0.091662</td>\n",
       "      <td>0.730800</td>\n",
       "      <td>0.45714</td>\n",
       "      <td>0.151720</td>\n",
       "      <td>1</td>\n",
       "    </tr>\n",
       "    <tr>\n",
       "      <th>5918</th>\n",
       "      <td>-0.48429</td>\n",
       "      <td>0.29911</td>\n",
       "      <td>1.63510</td>\n",
       "      <td>1.67340</td>\n",
       "      <td>1.92240</td>\n",
       "      <td>0.26870</td>\n",
       "      <td>1.9817</td>\n",
       "      <td>1.6059</td>\n",
       "      <td>1.6307</td>\n",
       "      <td>2.15980</td>\n",
       "      <td>...</td>\n",
       "      <td>1.373600</td>\n",
       "      <td>-0.004755</td>\n",
       "      <td>0.982660</td>\n",
       "      <td>0.094923</td>\n",
       "      <td>1.378600</td>\n",
       "      <td>1.367900</td>\n",
       "      <td>1.516800</td>\n",
       "      <td>-0.14857</td>\n",
       "      <td>0.169040</td>\n",
       "      <td>1</td>\n",
       "    </tr>\n",
       "    <tr>\n",
       "      <th>5919</th>\n",
       "      <td>-0.43715</td>\n",
       "      <td>0.28530</td>\n",
       "      <td>1.66250</td>\n",
       "      <td>1.68120</td>\n",
       "      <td>1.92240</td>\n",
       "      <td>0.29775</td>\n",
       "      <td>2.0059</td>\n",
       "      <td>1.6073</td>\n",
       "      <td>1.6424</td>\n",
       "      <td>2.20810</td>\n",
       "      <td>...</td>\n",
       "      <td>-0.898300</td>\n",
       "      <td>-0.004755</td>\n",
       "      <td>-0.693790</td>\n",
       "      <td>1.147100</td>\n",
       "      <td>0.633700</td>\n",
       "      <td>0.520360</td>\n",
       "      <td>-1.208600</td>\n",
       "      <td>0.54000</td>\n",
       "      <td>0.759190</td>\n",
       "      <td>1</td>\n",
       "    </tr>\n",
       "    <tr>\n",
       "      <th>5920</th>\n",
       "      <td>-0.47545</td>\n",
       "      <td>0.31983</td>\n",
       "      <td>1.60670</td>\n",
       "      <td>1.71850</td>\n",
       "      <td>1.92240</td>\n",
       "      <td>0.26289</td>\n",
       "      <td>2.0425</td>\n",
       "      <td>1.6059</td>\n",
       "      <td>1.6816</td>\n",
       "      <td>2.20140</td>\n",
       "      <td>...</td>\n",
       "      <td>-0.971120</td>\n",
       "      <td>-0.004755</td>\n",
       "      <td>0.982660</td>\n",
       "      <td>-0.987020</td>\n",
       "      <td>-0.979740</td>\n",
       "      <td>-0.977890</td>\n",
       "      <td>0.984770</td>\n",
       "      <td>-0.87906</td>\n",
       "      <td>-0.865510</td>\n",
       "      <td>1</td>\n",
       "    </tr>\n",
       "    <tr>\n",
       "      <th>5921</th>\n",
       "      <td>-0.46514</td>\n",
       "      <td>0.28339</td>\n",
       "      <td>1.60670</td>\n",
       "      <td>1.73220</td>\n",
       "      <td>1.92240</td>\n",
       "      <td>0.26579</td>\n",
       "      <td>2.0516</td>\n",
       "      <td>1.6146</td>\n",
       "      <td>1.6660</td>\n",
       "      <td>2.23140</td>\n",
       "      <td>...</td>\n",
       "      <td>0.003648</td>\n",
       "      <td>-0.004755</td>\n",
       "      <td>0.000621</td>\n",
       "      <td>-0.001171</td>\n",
       "      <td>-0.002969</td>\n",
       "      <td>-0.004982</td>\n",
       "      <td>-0.001137</td>\n",
       "      <td>-0.01269</td>\n",
       "      <td>0.006641</td>\n",
       "      <td>1</td>\n",
       "    </tr>\n",
       "  </tbody>\n",
       "</table>\n",
       "<p>5922 rows × 924 columns</p>\n",
       "</div>"
      ],
      "text/plain": [
       "          0        1        2        3        4        5       6       7    \\\n",
       "0     1.85050  0.44413 -0.26072 -0.92156 -0.52009  2.73230 -1.5232 -1.2479   \n",
       "1     2.13930  0.67815 -0.34487 -0.93527 -0.52009  3.08680 -1.5549 -1.2048   \n",
       "2     2.19670  0.63249 -0.28908 -0.89806 -0.52009  3.08970 -1.5624 -1.1764   \n",
       "3     2.21590  0.68735 -0.31650 -0.90001 -0.52009  3.15650 -1.5627 -1.0686   \n",
       "4     2.26450  0.69541 -0.31650 -0.93331 -0.52009  3.09840 -1.5769 -1.1232   \n",
       "...       ...      ...      ...      ...      ...      ...     ...     ...   \n",
       "5917 -0.49460  0.25691  1.60670  1.64210  1.92240  0.24546  1.9545  1.6000   \n",
       "5918 -0.48429  0.29911  1.63510  1.67340  1.92240  0.26870  1.9817  1.6059   \n",
       "5919 -0.43715  0.28530  1.66250  1.68120  1.92240  0.29775  2.0059  1.6073   \n",
       "5920 -0.47545  0.31983  1.60670  1.71850  1.92240  0.26289  2.0425  1.6059   \n",
       "5921 -0.46514  0.28339  1.60670  1.73220  1.92240  0.26579  2.0516  1.6146   \n",
       "\n",
       "         8        9    ...       914       915       916       917       918  \\\n",
       "0     1.4870 -0.52449  ... -0.403160 -0.555010 -0.590640 -0.631990 -0.717270   \n",
       "1     1.4753 -0.41132  ... -1.182500  1.527000  0.267590  2.798700  0.147000   \n",
       "2     1.5184 -0.37138  ...  0.258950 -0.537660  1.899500  0.568590 -0.992550   \n",
       "3     1.5353 -0.34309  ...  1.780200  2.820300  0.268560 -0.150870  0.241210   \n",
       "4     1.4557 -0.32478  ... -0.991740 -0.520880 -0.426940  0.506380  0.355670   \n",
       "...      ...      ...  ...       ...       ...       ...       ...       ...   \n",
       "5917  1.6307  2.14820  ... -0.132260 -0.004755 -0.801210  0.042059 -0.406010   \n",
       "5918  1.6307  2.15980  ...  1.373600 -0.004755  0.982660  0.094923  1.378600   \n",
       "5919  1.6424  2.20810  ... -0.898300 -0.004755 -0.693790  1.147100  0.633700   \n",
       "5920  1.6816  2.20140  ... -0.971120 -0.004755  0.982660 -0.987020 -0.979740   \n",
       "5921  1.6660  2.23140  ...  0.003648 -0.004755  0.000621 -0.001171 -0.002969   \n",
       "\n",
       "           919       920      921       922  923  \n",
       "0    -0.643510 -0.807630 -0.27966 -0.160250    1  \n",
       "1     2.835500  0.153120  0.80599  0.859200    1  \n",
       "2     0.192200 -0.031013  0.69062  1.500700    1  \n",
       "3    -0.171270  0.292480  1.05210 -0.389050    1  \n",
       "4    -0.004882 -0.669040  0.43659  0.230740    0  \n",
       "...        ...       ...      ...       ...  ...  \n",
       "5917  0.091662  0.730800  0.45714  0.151720    1  \n",
       "5918  1.367900  1.516800 -0.14857  0.169040    1  \n",
       "5919  0.520360 -1.208600  0.54000  0.759190    1  \n",
       "5920 -0.977890  0.984770 -0.87906 -0.865510    1  \n",
       "5921 -0.004982 -0.001137 -0.01269  0.006641    1  \n",
       "\n",
       "[5922 rows x 924 columns]"
      ]
     },
     "execution_count": 2,
     "metadata": {},
     "output_type": "execute_result"
    }
   ],
   "source": [
    "data=pd.read_csv('dataSet_2.csv',header=None)\n",
    "data"
   ]
  },
  {
   "cell_type": "code",
   "execution_count": 3,
   "id": "487e8d37",
   "metadata": {},
   "outputs": [],
   "source": [
    "predict=data.iloc[:,0:923]\n",
    "response=data[923]"
   ]
  },
  {
   "cell_type": "code",
   "execution_count": 4,
   "id": "75d67ff6",
   "metadata": {},
   "outputs": [
    {
     "name": "stdout",
     "output_type": "stream",
     "text": [
      "X_Train--->>(Number of Row, Number of Column)= (4500, 923)\n",
      "Y_Train--->>(Number of Row, Number of Column)= (1422, 923)\n",
      "X_Test--->>(Number of Row, Number of Column)= (4500,)\n",
      "Y_Test--->>(Number of Row, Number of Column)= (1422,)\n"
     ]
    }
   ],
   "source": [
    "x_train, x_test, y_train, y_test=train_test_split(predict, response, test_size=0.24,random_state=0,shuffle=False)\n",
    "print('X_Train--->>(Number of Row, Number of Column)=',np.shape(x_train))\n",
    "print('Y_Train--->>(Number of Row, Number of Column)=',np.shape(x_test))\n",
    "print('X_Test--->>(Number of Row, Number of Column)=',np.shape(y_train))\n",
    "print('Y_Test--->>(Number of Row, Number of Column)=',np.shape(y_test))"
   ]
  },
  {
   "cell_type": "code",
   "execution_count": 5,
   "id": "fd1de23b",
   "metadata": {},
   "outputs": [],
   "source": [
    "#Training with Original Matrix\n",
    "\n",
    "model=LogisticRegression(solver='liblinear',C=1.0,random_state=0)\n",
    "model_fit=model.fit(x_train,y_train)\n",
    "\n",
    "prob_pred_train=model_fit.predict_proba(x_train)[:,1]\n",
    "\n",
    "FP_Rate_Train,TP_Rate_Train,_=metrics.roc_curve(y_train,prob_pred_train)\n",
    "AUC_Train=metrics.roc_auc_score(y_train,prob_pred_train)"
   ]
  },
  {
   "cell_type": "code",
   "execution_count": 6,
   "id": "ea622ec1",
   "metadata": {},
   "outputs": [],
   "source": [
    "#Testing with Original Matrix\n",
    "\n",
    "prob_pred_test=model_fit.predict_proba(x_test)[:,1]\n",
    "\n",
    "FP_Rate_Test,TP_Rate_Test,_=metrics.roc_curve(y_test,prob_pred_test)\n",
    "AUC_Test=metrics.roc_auc_score(y_test,prob_pred_test)"
   ]
  },
  {
   "cell_type": "code",
   "execution_count": 7,
   "id": "923beb6b",
   "metadata": {},
   "outputs": [
    {
     "name": "stdout",
     "output_type": "stream",
     "text": [
      "Differance Between AUC_Train and AUC_Test= 0.12983034366637003\n"
     ]
    },
    {
     "data": {
      "text/plain": [
       "<function matplotlib.pyplot.show(close=None, block=None)>"
      ]
     },
     "execution_count": 7,
     "metadata": {},
     "output_type": "execute_result"
    },
    {
     "data": {
      "image/png": "[encoded data removed]",
      "text/plain": [
       "<Figure size 432x288 with 1 Axes>"
      ]
     },
     "metadata": {
      "needs_background": "light"
     },
     "output_type": "display_data"
    }
   ],
   "source": [
    "# Plotting ROC for Training and Testing with Original Matrix\n",
    "\n",
    "differance1=AUC_Train-AUC_Test\n",
    "print('Differance Between AUC_Train and AUC_Test=',differance1)\n",
    "plt.plot(FP_Rate_Train,TP_Rate_Train,label='HW4, AUC_Train='+str(AUC_Train),color='r')\n",
    "plt.plot(FP_Rate_Test,TP_Rate_Test,label='HW4, AUC_Test='+str(AUC_Test),color='b')\n",
    "plt.xlabel('False Positive Rate')\n",
    "plt.ylabel('True Positive Rate')\n",
    "plt.title('ROC Curve')\n",
    "plt.legend(loc=4)\n",
    "plt.show"
   ]
  },
  {
   "cell_type": "code",
   "execution_count": 97,
   "id": "0a162ef6",
   "metadata": {},
   "outputs": [
    {
     "name": "stdout",
     "output_type": "stream",
     "text": [
      "Fitting estimator with 923 features.\n",
      "Fitting estimator with 913 features.\n",
      "Fitting estimator with 903 features.\n",
      "Fitting estimator with 893 features.\n",
      "Fitting estimator with 883 features.\n",
      "Fitting estimator with 873 features.\n",
      "Fitting estimator with 863 features.\n",
      "Fitting estimator with 853 features.\n",
      "Fitting estimator with 843 features.\n",
      "Fitting estimator with 833 features.\n",
      "Fitting estimator with 823 features.\n",
      "Fitting estimator with 813 features.\n",
      "Fitting estimator with 803 features.\n",
      "Fitting estimator with 793 features.\n",
      "Fitting estimator with 783 features.\n",
      "Fitting estimator with 773 features.\n",
      "Fitting estimator with 763 features.\n",
      "Fitting estimator with 753 features.\n",
      "Fitting estimator with 743 features.\n",
      "Fitting estimator with 733 features.\n",
      "Fitting estimator with 723 features.\n",
      "Fitting estimator with 713 features.\n",
      "Fitting estimator with 703 features.\n",
      "Fitting estimator with 693 features.\n",
      "Fitting estimator with 683 features.\n",
      "Fitting estimator with 673 features.\n",
      "Fitting estimator with 663 features.\n",
      "Fitting estimator with 653 features.\n",
      "Fitting estimator with 643 features.\n",
      "Fitting estimator with 633 features.\n",
      "Fitting estimator with 623 features.\n",
      "Fitting estimator with 613 features.\n",
      "Fitting estimator with 603 features.\n",
      "Fitting estimator with 593 features.\n",
      "Fitting estimator with 583 features.\n",
      "Fitting estimator with 573 features.\n",
      "Fitting estimator with 563 features.\n",
      "Fitting estimator with 553 features.\n",
      "Fitting estimator with 543 features.\n",
      "Fitting estimator with 533 features.\n",
      "Fitting estimator with 523 features.\n",
      "Fitting estimator with 513 features.\n",
      "Fitting estimator with 503 features.\n",
      "Fitting estimator with 493 features.\n",
      "Fitting estimator with 483 features.\n",
      "Fitting estimator with 473 features.\n",
      "Fitting estimator with 463 features.\n",
      "Fitting estimator with 453 features.\n",
      "Fitting estimator with 443 features.\n",
      "Fitting estimator with 433 features.\n",
      "Fitting estimator with 423 features.\n",
      "Fitting estimator with 413 features.\n",
      "Fitting estimator with 403 features.\n",
      "Fitting estimator with 393 features.\n",
      "Fitting estimator with 383 features.\n",
      "Fitting estimator with 373 features.\n",
      "Fitting estimator with 363 features.\n",
      "Fitting estimator with 353 features.\n",
      "Fitting estimator with 343 features.\n",
      "Fitting estimator with 333 features.\n",
      "Fitting estimator with 323 features.\n",
      "Fitting estimator with 313 features.\n",
      "Fitting estimator with 303 features.\n",
      "Fitting estimator with 293 features.\n",
      "Fitting estimator with 283 features.\n",
      "Fitting estimator with 273 features.\n",
      "Fitting estimator with 263 features.\n",
      "Fitting estimator with 253 features.\n",
      "Fitting estimator with 243 features.\n",
      "Fitting estimator with 233 features.\n",
      "Fitting estimator with 223 features.\n",
      "Fitting estimator with 213 features.\n",
      "Fitting estimator with 203 features.\n",
      "Fitting estimator with 193 features.\n",
      "Fitting estimator with 183 features.\n",
      "Fitting estimator with 173 features.\n",
      "Fitting estimator with 163 features.\n",
      "Fitting estimator with 153 features.\n",
      "Fitting estimator with 143 features.\n",
      "Fitting estimator with 133 features.\n",
      "Fitting estimator with 123 features.\n",
      "Fitting estimator with 113 features.\n",
      "Fitting estimator with 103 features.\n",
      "Fitting estimator with 93 features.\n",
      "Fitting estimator with 83 features.\n",
      "Fitting estimator with 73 features.\n",
      "Fitting estimator with 63 features.\n",
      "Fitting estimator with 53 features.\n",
      "Fitting estimator with 43 features.\n",
      "Fitting estimator with 33 features.\n",
      "Fitting estimator with 23 features.\n",
      "Fitting estimator with 13 features.\n"
     ]
    }
   ],
   "source": [
    "# Feature Selection From Original Data by Using Recursive Feature Elimination (RFE)\n",
    "\n",
    "rfe_selector=RFE(estimator=LogisticRegression(solver='liblinear',C=1.0,random_state=0),n_features_to_select=10,step=10,verbose=10);\n",
    "rfe_selector=rfe_selector.fit(x_train,y_train);\n",
    "rfe_support=rfe_selector.get_support();\n",
    "rfe_feature=x_train.loc[:,rfe_support].columns.tolist();"
   ]
  },
  {
   "cell_type": "code",
   "execution_count": 98,
   "id": "04068191",
   "metadata": {},
   "outputs": [
    {
     "data": {
      "text/html": [
       "<div>\n",
       "<style scoped>\n",
       "    .dataframe tbody tr th:only-of-type {\n",
       "        vertical-align: middle;\n",
       "    }\n",
       "\n",
       "    .dataframe tbody tr th {\n",
       "        vertical-align: top;\n",
       "    }\n",
       "\n",
       "    .dataframe thead th {\n",
       "        text-align: right;\n",
       "    }\n",
       "</style>\n",
       "<table border=\"1\" class=\"dataframe\">\n",
       "  <thead>\n",
       "    <tr style=\"text-align: right;\">\n",
       "      <th></th>\n",
       "      <th>9</th>\n",
       "      <th>10</th>\n",
       "      <th>14</th>\n",
       "      <th>31</th>\n",
       "      <th>67</th>\n",
       "      <th>334</th>\n",
       "      <th>348</th>\n",
       "      <th>369</th>\n",
       "      <th>370</th>\n",
       "      <th>824</th>\n",
       "    </tr>\n",
       "  </thead>\n",
       "  <tbody>\n",
       "    <tr>\n",
       "      <th>0</th>\n",
       "      <td>-0.52449</td>\n",
       "      <td>0.092423</td>\n",
       "      <td>0.128900</td>\n",
       "      <td>0.33626</td>\n",
       "      <td>0.80399</td>\n",
       "      <td>0.718540</td>\n",
       "      <td>-1.22810</td>\n",
       "      <td>3.130600</td>\n",
       "      <td>-0.262270</td>\n",
       "      <td>0.19500</td>\n",
       "    </tr>\n",
       "    <tr>\n",
       "      <th>1</th>\n",
       "      <td>-0.41132</td>\n",
       "      <td>0.097491</td>\n",
       "      <td>0.126020</td>\n",
       "      <td>0.69238</td>\n",
       "      <td>0.86677</td>\n",
       "      <td>0.939780</td>\n",
       "      <td>-0.79481</td>\n",
       "      <td>3.442700</td>\n",
       "      <td>-0.172230</td>\n",
       "      <td>0.05466</td>\n",
       "    </tr>\n",
       "    <tr>\n",
       "      <th>2</th>\n",
       "      <td>-0.37138</td>\n",
       "      <td>0.050184</td>\n",
       "      <td>0.082772</td>\n",
       "      <td>0.68583</td>\n",
       "      <td>0.86258</td>\n",
       "      <td>0.004308</td>\n",
       "      <td>-0.42913</td>\n",
       "      <td>0.161190</td>\n",
       "      <td>0.007712</td>\n",
       "      <td>-0.87080</td>\n",
       "    </tr>\n",
       "    <tr>\n",
       "      <th>3</th>\n",
       "      <td>-0.34309</td>\n",
       "      <td>0.070458</td>\n",
       "      <td>0.077006</td>\n",
       "      <td>0.70112</td>\n",
       "      <td>0.87514</td>\n",
       "      <td>0.102430</td>\n",
       "      <td>-0.23053</td>\n",
       "      <td>0.250020</td>\n",
       "      <td>0.614220</td>\n",
       "      <td>-0.09877</td>\n",
       "    </tr>\n",
       "    <tr>\n",
       "      <th>4</th>\n",
       "      <td>-0.32478</td>\n",
       "      <td>0.018083</td>\n",
       "      <td>0.071239</td>\n",
       "      <td>0.70549</td>\n",
       "      <td>0.83747</td>\n",
       "      <td>-0.020251</td>\n",
       "      <td>-0.19732</td>\n",
       "      <td>0.316050</td>\n",
       "      <td>0.500950</td>\n",
       "      <td>-0.10414</td>\n",
       "    </tr>\n",
       "    <tr>\n",
       "      <th>...</th>\n",
       "      <td>...</td>\n",
       "      <td>...</td>\n",
       "      <td>...</td>\n",
       "      <td>...</td>\n",
       "      <td>...</td>\n",
       "      <td>...</td>\n",
       "      <td>...</td>\n",
       "      <td>...</td>\n",
       "      <td>...</td>\n",
       "      <td>...</td>\n",
       "    </tr>\n",
       "    <tr>\n",
       "      <th>4495</th>\n",
       "      <td>0.86844</td>\n",
       "      <td>1.197400</td>\n",
       "      <td>1.397400</td>\n",
       "      <td>0.77322</td>\n",
       "      <td>1.13880</td>\n",
       "      <td>-1.048900</td>\n",
       "      <td>-1.25250</td>\n",
       "      <td>-0.759570</td>\n",
       "      <td>-0.390140</td>\n",
       "      <td>-0.46121</td>\n",
       "    </tr>\n",
       "    <tr>\n",
       "      <th>4496</th>\n",
       "      <td>0.84847</td>\n",
       "      <td>1.167000</td>\n",
       "      <td>1.354200</td>\n",
       "      <td>0.74263</td>\n",
       "      <td>1.09700</td>\n",
       "      <td>-0.779230</td>\n",
       "      <td>-0.64141</td>\n",
       "      <td>-0.059978</td>\n",
       "      <td>-0.120240</td>\n",
       "      <td>-1.47020</td>\n",
       "    </tr>\n",
       "    <tr>\n",
       "      <th>4497</th>\n",
       "      <td>0.83182</td>\n",
       "      <td>1.151800</td>\n",
       "      <td>1.354200</td>\n",
       "      <td>0.72078</td>\n",
       "      <td>1.07390</td>\n",
       "      <td>-0.656960</td>\n",
       "      <td>-0.18379</td>\n",
       "      <td>-0.533220</td>\n",
       "      <td>-0.348900</td>\n",
       "      <td>0.04782</td>\n",
       "    </tr>\n",
       "    <tr>\n",
       "      <th>4498</th>\n",
       "      <td>0.80520</td>\n",
       "      <td>1.129800</td>\n",
       "      <td>1.345500</td>\n",
       "      <td>0.67709</td>\n",
       "      <td>1.03840</td>\n",
       "      <td>-0.534780</td>\n",
       "      <td>0.09119</td>\n",
       "      <td>-0.842820</td>\n",
       "      <td>-0.744600</td>\n",
       "      <td>-0.39424</td>\n",
       "    </tr>\n",
       "    <tr>\n",
       "      <th>4499</th>\n",
       "      <td>0.80353</td>\n",
       "      <td>1.094300</td>\n",
       "      <td>1.316700</td>\n",
       "      <td>0.62028</td>\n",
       "      <td>1.00280</td>\n",
       "      <td>0.175530</td>\n",
       "      <td>0.15233</td>\n",
       "      <td>-0.595740</td>\n",
       "      <td>-0.328510</td>\n",
       "      <td>-1.24280</td>\n",
       "    </tr>\n",
       "  </tbody>\n",
       "</table>\n",
       "<p>4500 rows × 10 columns</p>\n",
       "</div>"
      ],
      "text/plain": [
       "          9         10        14       31       67        334      348  \\\n",
       "0    -0.52449  0.092423  0.128900  0.33626  0.80399  0.718540 -1.22810   \n",
       "1    -0.41132  0.097491  0.126020  0.69238  0.86677  0.939780 -0.79481   \n",
       "2    -0.37138  0.050184  0.082772  0.68583  0.86258  0.004308 -0.42913   \n",
       "3    -0.34309  0.070458  0.077006  0.70112  0.87514  0.102430 -0.23053   \n",
       "4    -0.32478  0.018083  0.071239  0.70549  0.83747 -0.020251 -0.19732   \n",
       "...       ...       ...       ...      ...      ...       ...      ...   \n",
       "4495  0.86844  1.197400  1.397400  0.77322  1.13880 -1.048900 -1.25250   \n",
       "4496  0.84847  1.167000  1.354200  0.74263  1.09700 -0.779230 -0.64141   \n",
       "4497  0.83182  1.151800  1.354200  0.72078  1.07390 -0.656960 -0.18379   \n",
       "4498  0.80520  1.129800  1.345500  0.67709  1.03840 -0.534780  0.09119   \n",
       "4499  0.80353  1.094300  1.316700  0.62028  1.00280  0.175530  0.15233   \n",
       "\n",
       "           369       370      824  \n",
       "0     3.130600 -0.262270  0.19500  \n",
       "1     3.442700 -0.172230  0.05466  \n",
       "2     0.161190  0.007712 -0.87080  \n",
       "3     0.250020  0.614220 -0.09877  \n",
       "4     0.316050  0.500950 -0.10414  \n",
       "...        ...       ...      ...  \n",
       "4495 -0.759570 -0.390140 -0.46121  \n",
       "4496 -0.059978 -0.120240 -1.47020  \n",
       "4497 -0.533220 -0.348900  0.04782  \n",
       "4498 -0.842820 -0.744600 -0.39424  \n",
       "4499 -0.595740 -0.328510 -1.24280  \n",
       "\n",
       "[4500 rows x 10 columns]"
      ]
     },
     "execution_count": 98,
     "metadata": {},
     "output_type": "execute_result"
    }
   ],
   "source": [
    "#Selected Features From Original Matrix\n",
    "selected_original_train=x_train[rfe_feature]\n",
    "selected_original_test=x_test[rfe_feature]\n",
    "selected_original_train"
   ]
  },
  {
   "cell_type": "code",
   "execution_count": 99,
   "id": "e8c2fa40",
   "metadata": {},
   "outputs": [
    {
     "name": "stdout",
     "output_type": "stream",
     "text": [
      "Shape of all Predictor Train Matrix\n",
      "(Number of Row, Number of Column)= (4498, 933) \n",
      "\n",
      "Shape of all Predictor Test Matrix\n",
      "(Number of Row, Number of Column)= (1420, 933)\n"
     ]
    },
    {
     "name": "stderr",
     "output_type": "stream",
     "text": [
      "C:\\Users\\okanc\\AppData\\Local\\Temp/ipykernel_13196/380629413.py:4: FutureWarning: Calling a ufunc on non-aligned DataFrames (or DataFrame/Series combination). Currently, the indices are ignored and the result takes the index/columns of the first DataFrame. In the future , the DataFrames/Series will be aligned before applying the ufunc.\n",
      "Convert one of the arguments to a NumPy array (eg 'ufunc(df1, np.asarray(df2)') to keep the current behaviour, or align manually (eg 'df1, df2 = df1.align(df2)') before passing to the ufunc to obtain the future behaviour and silence this warning.\n",
      "  new_predictor_train=np.subtract(x_train[2:4500],x_train[1:4499])\n",
      "C:\\Users\\okanc\\AppData\\Local\\Temp/ipykernel_13196/380629413.py:5: FutureWarning: Calling a ufunc on non-aligned DataFrames (or DataFrame/Series combination). Currently, the indices are ignored and the result takes the index/columns of the first DataFrame. In the future , the DataFrames/Series will be aligned before applying the ufunc.\n",
      "Convert one of the arguments to a NumPy array (eg 'ufunc(df1, np.asarray(df2)') to keep the current behaviour, or align manually (eg 'df1, df2 = df1.align(df2)') before passing to the ufunc to obtain the future behaviour and silence this warning.\n",
      "  new_predictor_train=np.divide(new_predictor_train,x_train[1:4499])\n",
      "C:\\Users\\okanc\\AppData\\Local\\Temp/ipykernel_13196/380629413.py:10: FutureWarning: Calling a ufunc on non-aligned DataFrames (or DataFrame/Series combination). Currently, the indices are ignored and the result takes the index/columns of the first DataFrame. In the future , the DataFrames/Series will be aligned before applying the ufunc.\n",
      "Convert one of the arguments to a NumPy array (eg 'ufunc(df1, np.asarray(df2)') to keep the current behaviour, or align manually (eg 'df1, df2 = df1.align(df2)') before passing to the ufunc to obtain the future behaviour and silence this warning.\n",
      "  new_predictor_test=np.subtract(x_test[2:1422],x_test[1:1421])\n",
      "C:\\Users\\okanc\\AppData\\Local\\Temp/ipykernel_13196/380629413.py:11: FutureWarning: Calling a ufunc on non-aligned DataFrames (or DataFrame/Series combination). Currently, the indices are ignored and the result takes the index/columns of the first DataFrame. In the future , the DataFrames/Series will be aligned before applying the ufunc.\n",
      "Convert one of the arguments to a NumPy array (eg 'ufunc(df1, np.asarray(df2)') to keep the current behaviour, or align manually (eg 'df1, df2 = df1.align(df2)') before passing to the ufunc to obtain the future behaviour and silence this warning.\n",
      "  new_predictor_test=np.divide(new_predictor_test,x_test[1:1421])\n"
     ]
    }
   ],
   "source": [
    "''' Generating new predictor matrix by using [X(t)- X(t-1)]/X(t-1) and adding this matrix\n",
    "to the 10 selected features from original data'''\n",
    "\n",
    "new_predictor_train=np.subtract(x_train[2:4500],x_train[1:4499])\n",
    "new_predictor_train=np.divide(new_predictor_train,x_train[1:4499])\n",
    "all_predictor_train=pd.concat([selected_original_train[2:4500],new_predictor_train],axis=1,ignore_index=True)\n",
    "\n",
    "new_response_train=y_train[2:4500]\n",
    "\n",
    "new_predictor_test=np.subtract(x_test[2:1422],x_test[1:1421])\n",
    "new_predictor_test=np.divide(new_predictor_test,x_test[1:1421])\n",
    "all_predictor_test=pd.concat([selected_original_test[2:1422],new_predictor_test],axis=1,ignore_index=True)\n",
    "\n",
    "new_response_test=y_test[2:4500]\n",
    "\n",
    "print('Shape of all Predictor Train Matrix')\n",
    "print('(Number of Row, Number of Column)=',np.shape(all_predictor_train),'\\n')\n",
    "\n",
    "print('Shape of all Predictor Test Matrix')\n",
    "print('(Number of Row, Number of Column)=',np.shape(all_predictor_test))"
   ]
  },
  {
   "cell_type": "code",
   "execution_count": 100,
   "id": "7e5b4b16",
   "metadata": {},
   "outputs": [
    {
     "name": "stderr",
     "output_type": "stream",
     "text": [
      "C:\\Users\\okanc\\anaconda3\\lib\\site-packages\\sklearn\\svm\\_base.py:985: ConvergenceWarning: Liblinear failed to converge, increase the number of iterations.\n",
      "  warnings.warn(\"Liblinear failed to converge, increase \"\n"
     ]
    }
   ],
   "source": [
    "model_new=LogisticRegression(solver='liblinear',C=1.0,random_state=0)\n",
    "model_fit_new=model.fit(all_predictor_train,new_response_train)\n",
    "\n",
    "prob_pred_train_new=model_fit_new.predict_proba(all_predictor_train)[:,1]"
   ]
  },
  {
   "cell_type": "code",
   "execution_count": 101,
   "id": "4fb9793d",
   "metadata": {},
   "outputs": [],
   "source": [
    "# Testing with New Matrix(Selected 10 Fetures From Original Matrix + New Generated Features)\n",
    "\n",
    "prob_pred_test_new=model_fit_new.predict_proba(all_predictor_test)[:,1]\n",
    "\n",
    "FP_Rate_Test_new,TP_Rate_Test_new,_=metrics.roc_curve(new_response_test,prob_pred_test_new)\n",
    "AUC_Test_new=metrics.roc_auc_score(new_response_test,prob_pred_test_new)"
   ]
  },
  {
   "cell_type": "code",
   "execution_count": 102,
   "id": "20a0410d",
   "metadata": {},
   "outputs": [
    {
     "name": "stdout",
     "output_type": "stream",
     "text": [
      "Differance Between New AUC_Train and AUC_Test= 0.40195735554462997\n"
     ]
    },
    {
     "data": {
      "text/plain": [
       "<function matplotlib.pyplot.show(close=None, block=None)>"
      ]
     },
     "execution_count": 102,
     "metadata": {},
     "output_type": "execute_result"
    },
    {
     "data": {
      "image/png": "[encoded data removed]",
      "text/plain": [
       "<Figure size 432x288 with 1 Axes>"
      ]
     },
     "metadata": {
      "needs_background": "light"
     },
     "output_type": "display_data"
    }
   ],
   "source": [
    "# Plotting ROC - Training and Testing for New Matrix\n",
    "\n",
    "differance_new=AUC_Train_new-AUC_Test_new\n",
    "print('Differance Between New AUC_Train and AUC_Test=',differance_new)\n",
    "plt.plot(FP_Rate_Train_new,TP_Rate_Train_new,label='HW4, AUC_Train='+str(AUC_Train_new),color='r')\n",
    "plt.plot(FP_Rate_Test_new,TP_Rate_Test_new,label='HW4, AUC_Test='+str(AUC_Test_new),color='b')\n",
    "plt.xlabel('False Positive Rate')\n",
    "plt.ylabel('True Positive Rate')\n",
    "plt.title('ROC Curve')\n",
    "plt.legend(loc=4)\n",
    "plt.show"
   ]
  },
  {
   "cell_type": "markdown",
   "id": "8eefcc48",
   "metadata": {},
   "source": [
    "We can see how the new generated matrix affected the AUC_Train and AUC_Test. The difference between them got bigger and the AUC_Test value decreased drastically. Model performance with testing data is bad."
   ]
  },
  {
   "cell_type": "code",
   "execution_count": 103,
   "id": "c87d91a0",
   "metadata": {
    "scrolled": false
   },
   "outputs": [
    {
     "name": "stdout",
     "output_type": "stream",
     "text": [
      "Fitting estimator with 933 features.\n"
     ]
    },
    {
     "name": "stderr",
     "output_type": "stream",
     "text": [
      "C:\\Users\\okanc\\anaconda3\\lib\\site-packages\\sklearn\\svm\\_base.py:985: ConvergenceWarning: Liblinear failed to converge, increase the number of iterations.\n",
      "  warnings.warn(\"Liblinear failed to converge, increase \"\n"
     ]
    },
    {
     "name": "stdout",
     "output_type": "stream",
     "text": [
      "Fitting estimator with 923 features.\n"
     ]
    },
    {
     "name": "stderr",
     "output_type": "stream",
     "text": [
      "C:\\Users\\okanc\\anaconda3\\lib\\site-packages\\sklearn\\svm\\_base.py:985: ConvergenceWarning: Liblinear failed to converge, increase the number of iterations.\n",
      "  warnings.warn(\"Liblinear failed to converge, increase \"\n"
     ]
    },
    {
     "name": "stdout",
     "output_type": "stream",
     "text": [
      "Fitting estimator with 913 features.\n"
     ]
    },
    {
     "name": "stderr",
     "output_type": "stream",
     "text": [
      "C:\\Users\\okanc\\anaconda3\\lib\\site-packages\\sklearn\\svm\\_base.py:985: ConvergenceWarning: Liblinear failed to converge, increase the number of iterations.\n",
      "  warnings.warn(\"Liblinear failed to converge, increase \"\n"
     ]
    },
    {
     "name": "stdout",
     "output_type": "stream",
     "text": [
      "Fitting estimator with 903 features.\n"
     ]
    },
    {
     "name": "stderr",
     "output_type": "stream",
     "text": [
      "C:\\Users\\okanc\\anaconda3\\lib\\site-packages\\sklearn\\svm\\_base.py:985: ConvergenceWarning: Liblinear failed to converge, increase the number of iterations.\n",
      "  warnings.warn(\"Liblinear failed to converge, increase \"\n"
     ]
    },
    {
     "name": "stdout",
     "output_type": "stream",
     "text": [
      "Fitting estimator with 893 features.\n"
     ]
    },
    {
     "name": "stderr",
     "output_type": "stream",
     "text": [
      "C:\\Users\\okanc\\anaconda3\\lib\\site-packages\\sklearn\\svm\\_base.py:985: ConvergenceWarning: Liblinear failed to converge, increase the number of iterations.\n",
      "  warnings.warn(\"Liblinear failed to converge, increase \"\n"
     ]
    },
    {
     "name": "stdout",
     "output_type": "stream",
     "text": [
      "Fitting estimator with 883 features.\n"
     ]
    },
    {
     "name": "stderr",
     "output_type": "stream",
     "text": [
      "C:\\Users\\okanc\\anaconda3\\lib\\site-packages\\sklearn\\svm\\_base.py:985: ConvergenceWarning: Liblinear failed to converge, increase the number of iterations.\n",
      "  warnings.warn(\"Liblinear failed to converge, increase \"\n"
     ]
    },
    {
     "name": "stdout",
     "output_type": "stream",
     "text": [
      "Fitting estimator with 873 features.\n"
     ]
    },
    {
     "name": "stderr",
     "output_type": "stream",
     "text": [
      "C:\\Users\\okanc\\anaconda3\\lib\\site-packages\\sklearn\\svm\\_base.py:985: ConvergenceWarning: Liblinear failed to converge, increase the number of iterations.\n",
      "  warnings.warn(\"Liblinear failed to converge, increase \"\n"
     ]
    },
    {
     "name": "stdout",
     "output_type": "stream",
     "text": [
      "Fitting estimator with 863 features.\n"
     ]
    },
    {
     "name": "stderr",
     "output_type": "stream",
     "text": [
      "C:\\Users\\okanc\\anaconda3\\lib\\site-packages\\sklearn\\svm\\_base.py:985: ConvergenceWarning: Liblinear failed to converge, increase the number of iterations.\n",
      "  warnings.warn(\"Liblinear failed to converge, increase \"\n"
     ]
    },
    {
     "name": "stdout",
     "output_type": "stream",
     "text": [
      "Fitting estimator with 853 features.\n"
     ]
    },
    {
     "name": "stderr",
     "output_type": "stream",
     "text": [
      "C:\\Users\\okanc\\anaconda3\\lib\\site-packages\\sklearn\\svm\\_base.py:985: ConvergenceWarning: Liblinear failed to converge, increase the number of iterations.\n",
      "  warnings.warn(\"Liblinear failed to converge, increase \"\n"
     ]
    },
    {
     "name": "stdout",
     "output_type": "stream",
     "text": [
      "Fitting estimator with 843 features.\n"
     ]
    },
    {
     "name": "stderr",
     "output_type": "stream",
     "text": [
      "C:\\Users\\okanc\\anaconda3\\lib\\site-packages\\sklearn\\svm\\_base.py:985: ConvergenceWarning: Liblinear failed to converge, increase the number of iterations.\n",
      "  warnings.warn(\"Liblinear failed to converge, increase \"\n"
     ]
    },
    {
     "name": "stdout",
     "output_type": "stream",
     "text": [
      "Fitting estimator with 833 features.\n"
     ]
    },
    {
     "name": "stderr",
     "output_type": "stream",
     "text": [
      "C:\\Users\\okanc\\anaconda3\\lib\\site-packages\\sklearn\\svm\\_base.py:985: ConvergenceWarning: Liblinear failed to converge, increase the number of iterations.\n",
      "  warnings.warn(\"Liblinear failed to converge, increase \"\n"
     ]
    },
    {
     "name": "stdout",
     "output_type": "stream",
     "text": [
      "Fitting estimator with 823 features.\n"
     ]
    },
    {
     "name": "stderr",
     "output_type": "stream",
     "text": [
      "C:\\Users\\okanc\\anaconda3\\lib\\site-packages\\sklearn\\svm\\_base.py:985: ConvergenceWarning: Liblinear failed to converge, increase the number of iterations.\n",
      "  warnings.warn(\"Liblinear failed to converge, increase \"\n"
     ]
    },
    {
     "name": "stdout",
     "output_type": "stream",
     "text": [
      "Fitting estimator with 813 features.\n"
     ]
    },
    {
     "name": "stderr",
     "output_type": "stream",
     "text": [
      "C:\\Users\\okanc\\anaconda3\\lib\\site-packages\\sklearn\\svm\\_base.py:985: ConvergenceWarning: Liblinear failed to converge, increase the number of iterations.\n",
      "  warnings.warn(\"Liblinear failed to converge, increase \"\n"
     ]
    },
    {
     "name": "stdout",
     "output_type": "stream",
     "text": [
      "Fitting estimator with 803 features.\n"
     ]
    },
    {
     "name": "stderr",
     "output_type": "stream",
     "text": [
      "C:\\Users\\okanc\\anaconda3\\lib\\site-packages\\sklearn\\svm\\_base.py:985: ConvergenceWarning: Liblinear failed to converge, increase the number of iterations.\n",
      "  warnings.warn(\"Liblinear failed to converge, increase \"\n"
     ]
    },
    {
     "name": "stdout",
     "output_type": "stream",
     "text": [
      "Fitting estimator with 793 features.\n"
     ]
    },
    {
     "name": "stderr",
     "output_type": "stream",
     "text": [
      "C:\\Users\\okanc\\anaconda3\\lib\\site-packages\\sklearn\\svm\\_base.py:985: ConvergenceWarning: Liblinear failed to converge, increase the number of iterations.\n",
      "  warnings.warn(\"Liblinear failed to converge, increase \"\n"
     ]
    },
    {
     "name": "stdout",
     "output_type": "stream",
     "text": [
      "Fitting estimator with 783 features.\n"
     ]
    },
    {
     "name": "stderr",
     "output_type": "stream",
     "text": [
      "C:\\Users\\okanc\\anaconda3\\lib\\site-packages\\sklearn\\svm\\_base.py:985: ConvergenceWarning: Liblinear failed to converge, increase the number of iterations.\n",
      "  warnings.warn(\"Liblinear failed to converge, increase \"\n"
     ]
    },
    {
     "name": "stdout",
     "output_type": "stream",
     "text": [
      "Fitting estimator with 773 features.\n"
     ]
    },
    {
     "name": "stderr",
     "output_type": "stream",
     "text": [
      "C:\\Users\\okanc\\anaconda3\\lib\\site-packages\\sklearn\\svm\\_base.py:985: ConvergenceWarning: Liblinear failed to converge, increase the number of iterations.\n",
      "  warnings.warn(\"Liblinear failed to converge, increase \"\n"
     ]
    },
    {
     "name": "stdout",
     "output_type": "stream",
     "text": [
      "Fitting estimator with 763 features.\n"
     ]
    },
    {
     "name": "stderr",
     "output_type": "stream",
     "text": [
      "C:\\Users\\okanc\\anaconda3\\lib\\site-packages\\sklearn\\svm\\_base.py:985: ConvergenceWarning: Liblinear failed to converge, increase the number of iterations.\n",
      "  warnings.warn(\"Liblinear failed to converge, increase \"\n"
     ]
    },
    {
     "name": "stdout",
     "output_type": "stream",
     "text": [
      "Fitting estimator with 753 features.\n"
     ]
    },
    {
     "name": "stderr",
     "output_type": "stream",
     "text": [
      "C:\\Users\\okanc\\anaconda3\\lib\\site-packages\\sklearn\\svm\\_base.py:985: ConvergenceWarning: Liblinear failed to converge, increase the number of iterations.\n",
      "  warnings.warn(\"Liblinear failed to converge, increase \"\n"
     ]
    },
    {
     "name": "stdout",
     "output_type": "stream",
     "text": [
      "Fitting estimator with 743 features.\n"
     ]
    },
    {
     "name": "stderr",
     "output_type": "stream",
     "text": [
      "C:\\Users\\okanc\\anaconda3\\lib\\site-packages\\sklearn\\svm\\_base.py:985: ConvergenceWarning: Liblinear failed to converge, increase the number of iterations.\n",
      "  warnings.warn(\"Liblinear failed to converge, increase \"\n"
     ]
    },
    {
     "name": "stdout",
     "output_type": "stream",
     "text": [
      "Fitting estimator with 733 features.\n"
     ]
    },
    {
     "name": "stderr",
     "output_type": "stream",
     "text": [
      "C:\\Users\\okanc\\anaconda3\\lib\\site-packages\\sklearn\\svm\\_base.py:985: ConvergenceWarning: Liblinear failed to converge, increase the number of iterations.\n",
      "  warnings.warn(\"Liblinear failed to converge, increase \"\n"
     ]
    },
    {
     "name": "stdout",
     "output_type": "stream",
     "text": [
      "Fitting estimator with 723 features.\n"
     ]
    },
    {
     "name": "stderr",
     "output_type": "stream",
     "text": [
      "C:\\Users\\okanc\\anaconda3\\lib\\site-packages\\sklearn\\svm\\_base.py:985: ConvergenceWarning: Liblinear failed to converge, increase the number of iterations.\n",
      "  warnings.warn(\"Liblinear failed to converge, increase \"\n"
     ]
    },
    {
     "name": "stdout",
     "output_type": "stream",
     "text": [
      "Fitting estimator with 713 features.\n"
     ]
    },
    {
     "name": "stderr",
     "output_type": "stream",
     "text": [
      "C:\\Users\\okanc\\anaconda3\\lib\\site-packages\\sklearn\\svm\\_base.py:985: ConvergenceWarning: Liblinear failed to converge, increase the number of iterations.\n",
      "  warnings.warn(\"Liblinear failed to converge, increase \"\n"
     ]
    },
    {
     "name": "stdout",
     "output_type": "stream",
     "text": [
      "Fitting estimator with 703 features.\n"
     ]
    },
    {
     "name": "stderr",
     "output_type": "stream",
     "text": [
      "C:\\Users\\okanc\\anaconda3\\lib\\site-packages\\sklearn\\svm\\_base.py:985: ConvergenceWarning: Liblinear failed to converge, increase the number of iterations.\n",
      "  warnings.warn(\"Liblinear failed to converge, increase \"\n"
     ]
    },
    {
     "name": "stdout",
     "output_type": "stream",
     "text": [
      "Fitting estimator with 693 features.\n"
     ]
    },
    {
     "name": "stderr",
     "output_type": "stream",
     "text": [
      "C:\\Users\\okanc\\anaconda3\\lib\\site-packages\\sklearn\\svm\\_base.py:985: ConvergenceWarning: Liblinear failed to converge, increase the number of iterations.\n",
      "  warnings.warn(\"Liblinear failed to converge, increase \"\n"
     ]
    },
    {
     "name": "stdout",
     "output_type": "stream",
     "text": [
      "Fitting estimator with 683 features.\n"
     ]
    },
    {
     "name": "stderr",
     "output_type": "stream",
     "text": [
      "C:\\Users\\okanc\\anaconda3\\lib\\site-packages\\sklearn\\svm\\_base.py:985: ConvergenceWarning: Liblinear failed to converge, increase the number of iterations.\n",
      "  warnings.warn(\"Liblinear failed to converge, increase \"\n"
     ]
    },
    {
     "name": "stdout",
     "output_type": "stream",
     "text": [
      "Fitting estimator with 673 features.\n"
     ]
    },
    {
     "name": "stderr",
     "output_type": "stream",
     "text": [
      "C:\\Users\\okanc\\anaconda3\\lib\\site-packages\\sklearn\\svm\\_base.py:985: ConvergenceWarning: Liblinear failed to converge, increase the number of iterations.\n",
      "  warnings.warn(\"Liblinear failed to converge, increase \"\n"
     ]
    },
    {
     "name": "stdout",
     "output_type": "stream",
     "text": [
      "Fitting estimator with 663 features.\n"
     ]
    },
    {
     "name": "stderr",
     "output_type": "stream",
     "text": [
      "C:\\Users\\okanc\\anaconda3\\lib\\site-packages\\sklearn\\svm\\_base.py:985: ConvergenceWarning: Liblinear failed to converge, increase the number of iterations.\n",
      "  warnings.warn(\"Liblinear failed to converge, increase \"\n"
     ]
    },
    {
     "name": "stdout",
     "output_type": "stream",
     "text": [
      "Fitting estimator with 653 features.\n"
     ]
    },
    {
     "name": "stderr",
     "output_type": "stream",
     "text": [
      "C:\\Users\\okanc\\anaconda3\\lib\\site-packages\\sklearn\\svm\\_base.py:985: ConvergenceWarning: Liblinear failed to converge, increase the number of iterations.\n",
      "  warnings.warn(\"Liblinear failed to converge, increase \"\n"
     ]
    },
    {
     "name": "stdout",
     "output_type": "stream",
     "text": [
      "Fitting estimator with 643 features.\n"
     ]
    },
    {
     "name": "stderr",
     "output_type": "stream",
     "text": [
      "C:\\Users\\okanc\\anaconda3\\lib\\site-packages\\sklearn\\svm\\_base.py:985: ConvergenceWarning: Liblinear failed to converge, increase the number of iterations.\n",
      "  warnings.warn(\"Liblinear failed to converge, increase \"\n"
     ]
    },
    {
     "name": "stdout",
     "output_type": "stream",
     "text": [
      "Fitting estimator with 633 features.\n"
     ]
    },
    {
     "name": "stderr",
     "output_type": "stream",
     "text": [
      "C:\\Users\\okanc\\anaconda3\\lib\\site-packages\\sklearn\\svm\\_base.py:985: ConvergenceWarning: Liblinear failed to converge, increase the number of iterations.\n",
      "  warnings.warn(\"Liblinear failed to converge, increase \"\n"
     ]
    },
    {
     "name": "stdout",
     "output_type": "stream",
     "text": [
      "Fitting estimator with 623 features.\n"
     ]
    },
    {
     "name": "stderr",
     "output_type": "stream",
     "text": [
      "C:\\Users\\okanc\\anaconda3\\lib\\site-packages\\sklearn\\svm\\_base.py:985: ConvergenceWarning: Liblinear failed to converge, increase the number of iterations.\n",
      "  warnings.warn(\"Liblinear failed to converge, increase \"\n"
     ]
    },
    {
     "name": "stdout",
     "output_type": "stream",
     "text": [
      "Fitting estimator with 613 features.\n"
     ]
    },
    {
     "name": "stderr",
     "output_type": "stream",
     "text": [
      "C:\\Users\\okanc\\anaconda3\\lib\\site-packages\\sklearn\\svm\\_base.py:985: ConvergenceWarning: Liblinear failed to converge, increase the number of iterations.\n",
      "  warnings.warn(\"Liblinear failed to converge, increase \"\n"
     ]
    },
    {
     "name": "stdout",
     "output_type": "stream",
     "text": [
      "Fitting estimator with 603 features.\n"
     ]
    },
    {
     "name": "stderr",
     "output_type": "stream",
     "text": [
      "C:\\Users\\okanc\\anaconda3\\lib\\site-packages\\sklearn\\svm\\_base.py:985: ConvergenceWarning: Liblinear failed to converge, increase the number of iterations.\n",
      "  warnings.warn(\"Liblinear failed to converge, increase \"\n"
     ]
    },
    {
     "name": "stdout",
     "output_type": "stream",
     "text": [
      "Fitting estimator with 593 features.\n"
     ]
    },
    {
     "name": "stderr",
     "output_type": "stream",
     "text": [
      "C:\\Users\\okanc\\anaconda3\\lib\\site-packages\\sklearn\\svm\\_base.py:985: ConvergenceWarning: Liblinear failed to converge, increase the number of iterations.\n",
      "  warnings.warn(\"Liblinear failed to converge, increase \"\n"
     ]
    },
    {
     "name": "stdout",
     "output_type": "stream",
     "text": [
      "Fitting estimator with 583 features.\n"
     ]
    },
    {
     "name": "stderr",
     "output_type": "stream",
     "text": [
      "C:\\Users\\okanc\\anaconda3\\lib\\site-packages\\sklearn\\svm\\_base.py:985: ConvergenceWarning: Liblinear failed to converge, increase the number of iterations.\n",
      "  warnings.warn(\"Liblinear failed to converge, increase \"\n"
     ]
    },
    {
     "name": "stdout",
     "output_type": "stream",
     "text": [
      "Fitting estimator with 573 features.\n"
     ]
    },
    {
     "name": "stderr",
     "output_type": "stream",
     "text": [
      "C:\\Users\\okanc\\anaconda3\\lib\\site-packages\\sklearn\\svm\\_base.py:985: ConvergenceWarning: Liblinear failed to converge, increase the number of iterations.\n",
      "  warnings.warn(\"Liblinear failed to converge, increase \"\n"
     ]
    },
    {
     "name": "stdout",
     "output_type": "stream",
     "text": [
      "Fitting estimator with 563 features.\n"
     ]
    },
    {
     "name": "stderr",
     "output_type": "stream",
     "text": [
      "C:\\Users\\okanc\\anaconda3\\lib\\site-packages\\sklearn\\svm\\_base.py:985: ConvergenceWarning: Liblinear failed to converge, increase the number of iterations.\n",
      "  warnings.warn(\"Liblinear failed to converge, increase \"\n"
     ]
    },
    {
     "name": "stdout",
     "output_type": "stream",
     "text": [
      "Fitting estimator with 553 features.\n"
     ]
    },
    {
     "name": "stderr",
     "output_type": "stream",
     "text": [
      "C:\\Users\\okanc\\anaconda3\\lib\\site-packages\\sklearn\\svm\\_base.py:985: ConvergenceWarning: Liblinear failed to converge, increase the number of iterations.\n",
      "  warnings.warn(\"Liblinear failed to converge, increase \"\n"
     ]
    },
    {
     "name": "stdout",
     "output_type": "stream",
     "text": [
      "Fitting estimator with 543 features.\n"
     ]
    },
    {
     "name": "stderr",
     "output_type": "stream",
     "text": [
      "C:\\Users\\okanc\\anaconda3\\lib\\site-packages\\sklearn\\svm\\_base.py:985: ConvergenceWarning: Liblinear failed to converge, increase the number of iterations.\n",
      "  warnings.warn(\"Liblinear failed to converge, increase \"\n"
     ]
    },
    {
     "name": "stdout",
     "output_type": "stream",
     "text": [
      "Fitting estimator with 533 features.\n"
     ]
    },
    {
     "name": "stderr",
     "output_type": "stream",
     "text": [
      "C:\\Users\\okanc\\anaconda3\\lib\\site-packages\\sklearn\\svm\\_base.py:985: ConvergenceWarning: Liblinear failed to converge, increase the number of iterations.\n",
      "  warnings.warn(\"Liblinear failed to converge, increase \"\n"
     ]
    },
    {
     "name": "stdout",
     "output_type": "stream",
     "text": [
      "Fitting estimator with 523 features.\n"
     ]
    },
    {
     "name": "stderr",
     "output_type": "stream",
     "text": [
      "C:\\Users\\okanc\\anaconda3\\lib\\site-packages\\sklearn\\svm\\_base.py:985: ConvergenceWarning: Liblinear failed to converge, increase the number of iterations.\n",
      "  warnings.warn(\"Liblinear failed to converge, increase \"\n"
     ]
    },
    {
     "name": "stdout",
     "output_type": "stream",
     "text": [
      "Fitting estimator with 513 features.\n"
     ]
    },
    {
     "name": "stderr",
     "output_type": "stream",
     "text": [
      "C:\\Users\\okanc\\anaconda3\\lib\\site-packages\\sklearn\\svm\\_base.py:985: ConvergenceWarning: Liblinear failed to converge, increase the number of iterations.\n",
      "  warnings.warn(\"Liblinear failed to converge, increase \"\n"
     ]
    },
    {
     "name": "stdout",
     "output_type": "stream",
     "text": [
      "Fitting estimator with 503 features.\n"
     ]
    },
    {
     "name": "stderr",
     "output_type": "stream",
     "text": [
      "C:\\Users\\okanc\\anaconda3\\lib\\site-packages\\sklearn\\svm\\_base.py:985: ConvergenceWarning: Liblinear failed to converge, increase the number of iterations.\n",
      "  warnings.warn(\"Liblinear failed to converge, increase \"\n"
     ]
    },
    {
     "name": "stdout",
     "output_type": "stream",
     "text": [
      "Fitting estimator with 493 features.\n"
     ]
    },
    {
     "name": "stderr",
     "output_type": "stream",
     "text": [
      "C:\\Users\\okanc\\anaconda3\\lib\\site-packages\\sklearn\\svm\\_base.py:985: ConvergenceWarning: Liblinear failed to converge, increase the number of iterations.\n",
      "  warnings.warn(\"Liblinear failed to converge, increase \"\n"
     ]
    },
    {
     "name": "stdout",
     "output_type": "stream",
     "text": [
      "Fitting estimator with 483 features.\n"
     ]
    },
    {
     "name": "stderr",
     "output_type": "stream",
     "text": [
      "C:\\Users\\okanc\\anaconda3\\lib\\site-packages\\sklearn\\svm\\_base.py:985: ConvergenceWarning: Liblinear failed to converge, increase the number of iterations.\n",
      "  warnings.warn(\"Liblinear failed to converge, increase \"\n"
     ]
    },
    {
     "name": "stdout",
     "output_type": "stream",
     "text": [
      "Fitting estimator with 473 features.\n"
     ]
    },
    {
     "name": "stderr",
     "output_type": "stream",
     "text": [
      "C:\\Users\\okanc\\anaconda3\\lib\\site-packages\\sklearn\\svm\\_base.py:985: ConvergenceWarning: Liblinear failed to converge, increase the number of iterations.\n",
      "  warnings.warn(\"Liblinear failed to converge, increase \"\n"
     ]
    },
    {
     "name": "stdout",
     "output_type": "stream",
     "text": [
      "Fitting estimator with 463 features.\n"
     ]
    },
    {
     "name": "stderr",
     "output_type": "stream",
     "text": [
      "C:\\Users\\okanc\\anaconda3\\lib\\site-packages\\sklearn\\svm\\_base.py:985: ConvergenceWarning: Liblinear failed to converge, increase the number of iterations.\n",
      "  warnings.warn(\"Liblinear failed to converge, increase \"\n"
     ]
    },
    {
     "name": "stdout",
     "output_type": "stream",
     "text": [
      "Fitting estimator with 453 features.\n"
     ]
    },
    {
     "name": "stderr",
     "output_type": "stream",
     "text": [
      "C:\\Users\\okanc\\anaconda3\\lib\\site-packages\\sklearn\\svm\\_base.py:985: ConvergenceWarning: Liblinear failed to converge, increase the number of iterations.\n",
      "  warnings.warn(\"Liblinear failed to converge, increase \"\n"
     ]
    },
    {
     "name": "stdout",
     "output_type": "stream",
     "text": [
      "Fitting estimator with 443 features.\n"
     ]
    },
    {
     "name": "stderr",
     "output_type": "stream",
     "text": [
      "C:\\Users\\okanc\\anaconda3\\lib\\site-packages\\sklearn\\svm\\_base.py:985: ConvergenceWarning: Liblinear failed to converge, increase the number of iterations.\n",
      "  warnings.warn(\"Liblinear failed to converge, increase \"\n"
     ]
    },
    {
     "name": "stdout",
     "output_type": "stream",
     "text": [
      "Fitting estimator with 433 features.\n"
     ]
    },
    {
     "name": "stderr",
     "output_type": "stream",
     "text": [
      "C:\\Users\\okanc\\anaconda3\\lib\\site-packages\\sklearn\\svm\\_base.py:985: ConvergenceWarning: Liblinear failed to converge, increase the number of iterations.\n",
      "  warnings.warn(\"Liblinear failed to converge, increase \"\n"
     ]
    },
    {
     "name": "stdout",
     "output_type": "stream",
     "text": [
      "Fitting estimator with 423 features.\n"
     ]
    },
    {
     "name": "stderr",
     "output_type": "stream",
     "text": [
      "C:\\Users\\okanc\\anaconda3\\lib\\site-packages\\sklearn\\svm\\_base.py:985: ConvergenceWarning: Liblinear failed to converge, increase the number of iterations.\n",
      "  warnings.warn(\"Liblinear failed to converge, increase \"\n"
     ]
    },
    {
     "name": "stdout",
     "output_type": "stream",
     "text": [
      "Fitting estimator with 413 features.\n"
     ]
    },
    {
     "name": "stderr",
     "output_type": "stream",
     "text": [
      "C:\\Users\\okanc\\anaconda3\\lib\\site-packages\\sklearn\\svm\\_base.py:985: ConvergenceWarning: Liblinear failed to converge, increase the number of iterations.\n",
      "  warnings.warn(\"Liblinear failed to converge, increase \"\n"
     ]
    },
    {
     "name": "stdout",
     "output_type": "stream",
     "text": [
      "Fitting estimator with 403 features.\n"
     ]
    },
    {
     "name": "stderr",
     "output_type": "stream",
     "text": [
      "C:\\Users\\okanc\\anaconda3\\lib\\site-packages\\sklearn\\svm\\_base.py:985: ConvergenceWarning: Liblinear failed to converge, increase the number of iterations.\n",
      "  warnings.warn(\"Liblinear failed to converge, increase \"\n"
     ]
    },
    {
     "name": "stdout",
     "output_type": "stream",
     "text": [
      "Fitting estimator with 393 features.\n"
     ]
    },
    {
     "name": "stderr",
     "output_type": "stream",
     "text": [
      "C:\\Users\\okanc\\anaconda3\\lib\\site-packages\\sklearn\\svm\\_base.py:985: ConvergenceWarning: Liblinear failed to converge, increase the number of iterations.\n",
      "  warnings.warn(\"Liblinear failed to converge, increase \"\n"
     ]
    },
    {
     "name": "stdout",
     "output_type": "stream",
     "text": [
      "Fitting estimator with 383 features.\n"
     ]
    },
    {
     "name": "stderr",
     "output_type": "stream",
     "text": [
      "C:\\Users\\okanc\\anaconda3\\lib\\site-packages\\sklearn\\svm\\_base.py:985: ConvergenceWarning: Liblinear failed to converge, increase the number of iterations.\n",
      "  warnings.warn(\"Liblinear failed to converge, increase \"\n"
     ]
    },
    {
     "name": "stdout",
     "output_type": "stream",
     "text": [
      "Fitting estimator with 373 features.\n"
     ]
    },
    {
     "name": "stderr",
     "output_type": "stream",
     "text": [
      "C:\\Users\\okanc\\anaconda3\\lib\\site-packages\\sklearn\\svm\\_base.py:985: ConvergenceWarning: Liblinear failed to converge, increase the number of iterations.\n",
      "  warnings.warn(\"Liblinear failed to converge, increase \"\n"
     ]
    },
    {
     "name": "stdout",
     "output_type": "stream",
     "text": [
      "Fitting estimator with 363 features.\n"
     ]
    },
    {
     "name": "stderr",
     "output_type": "stream",
     "text": [
      "C:\\Users\\okanc\\anaconda3\\lib\\site-packages\\sklearn\\svm\\_base.py:985: ConvergenceWarning: Liblinear failed to converge, increase the number of iterations.\n",
      "  warnings.warn(\"Liblinear failed to converge, increase \"\n"
     ]
    },
    {
     "name": "stdout",
     "output_type": "stream",
     "text": [
      "Fitting estimator with 353 features.\n"
     ]
    },
    {
     "name": "stderr",
     "output_type": "stream",
     "text": [
      "C:\\Users\\okanc\\anaconda3\\lib\\site-packages\\sklearn\\svm\\_base.py:985: ConvergenceWarning: Liblinear failed to converge, increase the number of iterations.\n",
      "  warnings.warn(\"Liblinear failed to converge, increase \"\n"
     ]
    },
    {
     "name": "stdout",
     "output_type": "stream",
     "text": [
      "Fitting estimator with 343 features.\n"
     ]
    },
    {
     "name": "stderr",
     "output_type": "stream",
     "text": [
      "C:\\Users\\okanc\\anaconda3\\lib\\site-packages\\sklearn\\svm\\_base.py:985: ConvergenceWarning: Liblinear failed to converge, increase the number of iterations.\n",
      "  warnings.warn(\"Liblinear failed to converge, increase \"\n"
     ]
    },
    {
     "name": "stdout",
     "output_type": "stream",
     "text": [
      "Fitting estimator with 333 features.\n"
     ]
    },
    {
     "name": "stderr",
     "output_type": "stream",
     "text": [
      "C:\\Users\\okanc\\anaconda3\\lib\\site-packages\\sklearn\\svm\\_base.py:985: ConvergenceWarning: Liblinear failed to converge, increase the number of iterations.\n",
      "  warnings.warn(\"Liblinear failed to converge, increase \"\n"
     ]
    },
    {
     "name": "stdout",
     "output_type": "stream",
     "text": [
      "Fitting estimator with 323 features.\n"
     ]
    },
    {
     "name": "stderr",
     "output_type": "stream",
     "text": [
      "C:\\Users\\okanc\\anaconda3\\lib\\site-packages\\sklearn\\svm\\_base.py:985: ConvergenceWarning: Liblinear failed to converge, increase the number of iterations.\n",
      "  warnings.warn(\"Liblinear failed to converge, increase \"\n"
     ]
    },
    {
     "name": "stdout",
     "output_type": "stream",
     "text": [
      "Fitting estimator with 313 features.\n"
     ]
    },
    {
     "name": "stderr",
     "output_type": "stream",
     "text": [
      "C:\\Users\\okanc\\anaconda3\\lib\\site-packages\\sklearn\\svm\\_base.py:985: ConvergenceWarning: Liblinear failed to converge, increase the number of iterations.\n",
      "  warnings.warn(\"Liblinear failed to converge, increase \"\n"
     ]
    },
    {
     "name": "stdout",
     "output_type": "stream",
     "text": [
      "Fitting estimator with 303 features.\n"
     ]
    },
    {
     "name": "stderr",
     "output_type": "stream",
     "text": [
      "C:\\Users\\okanc\\anaconda3\\lib\\site-packages\\sklearn\\svm\\_base.py:985: ConvergenceWarning: Liblinear failed to converge, increase the number of iterations.\n",
      "  warnings.warn(\"Liblinear failed to converge, increase \"\n"
     ]
    },
    {
     "name": "stdout",
     "output_type": "stream",
     "text": [
      "Fitting estimator with 293 features.\n"
     ]
    },
    {
     "name": "stderr",
     "output_type": "stream",
     "text": [
      "C:\\Users\\okanc\\anaconda3\\lib\\site-packages\\sklearn\\svm\\_base.py:985: ConvergenceWarning: Liblinear failed to converge, increase the number of iterations.\n",
      "  warnings.warn(\"Liblinear failed to converge, increase \"\n"
     ]
    },
    {
     "name": "stdout",
     "output_type": "stream",
     "text": [
      "Fitting estimator with 283 features.\n"
     ]
    },
    {
     "name": "stderr",
     "output_type": "stream",
     "text": [
      "C:\\Users\\okanc\\anaconda3\\lib\\site-packages\\sklearn\\svm\\_base.py:985: ConvergenceWarning: Liblinear failed to converge, increase the number of iterations.\n",
      "  warnings.warn(\"Liblinear failed to converge, increase \"\n"
     ]
    },
    {
     "name": "stdout",
     "output_type": "stream",
     "text": [
      "Fitting estimator with 273 features.\n"
     ]
    },
    {
     "name": "stderr",
     "output_type": "stream",
     "text": [
      "C:\\Users\\okanc\\anaconda3\\lib\\site-packages\\sklearn\\svm\\_base.py:985: ConvergenceWarning: Liblinear failed to converge, increase the number of iterations.\n",
      "  warnings.warn(\"Liblinear failed to converge, increase \"\n"
     ]
    },
    {
     "name": "stdout",
     "output_type": "stream",
     "text": [
      "Fitting estimator with 263 features.\n"
     ]
    },
    {
     "name": "stderr",
     "output_type": "stream",
     "text": [
      "C:\\Users\\okanc\\anaconda3\\lib\\site-packages\\sklearn\\svm\\_base.py:985: ConvergenceWarning: Liblinear failed to converge, increase the number of iterations.\n",
      "  warnings.warn(\"Liblinear failed to converge, increase \"\n"
     ]
    },
    {
     "name": "stdout",
     "output_type": "stream",
     "text": [
      "Fitting estimator with 253 features.\n"
     ]
    },
    {
     "name": "stderr",
     "output_type": "stream",
     "text": [
      "C:\\Users\\okanc\\anaconda3\\lib\\site-packages\\sklearn\\svm\\_base.py:985: ConvergenceWarning: Liblinear failed to converge, increase the number of iterations.\n",
      "  warnings.warn(\"Liblinear failed to converge, increase \"\n"
     ]
    },
    {
     "name": "stdout",
     "output_type": "stream",
     "text": [
      "Fitting estimator with 243 features.\n"
     ]
    },
    {
     "name": "stderr",
     "output_type": "stream",
     "text": [
      "C:\\Users\\okanc\\anaconda3\\lib\\site-packages\\sklearn\\svm\\_base.py:985: ConvergenceWarning: Liblinear failed to converge, increase the number of iterations.\n",
      "  warnings.warn(\"Liblinear failed to converge, increase \"\n"
     ]
    },
    {
     "name": "stdout",
     "output_type": "stream",
     "text": [
      "Fitting estimator with 233 features.\n"
     ]
    },
    {
     "name": "stderr",
     "output_type": "stream",
     "text": [
      "C:\\Users\\okanc\\anaconda3\\lib\\site-packages\\sklearn\\svm\\_base.py:985: ConvergenceWarning: Liblinear failed to converge, increase the number of iterations.\n",
      "  warnings.warn(\"Liblinear failed to converge, increase \"\n"
     ]
    },
    {
     "name": "stdout",
     "output_type": "stream",
     "text": [
      "Fitting estimator with 223 features.\n"
     ]
    },
    {
     "name": "stderr",
     "output_type": "stream",
     "text": [
      "C:\\Users\\okanc\\anaconda3\\lib\\site-packages\\sklearn\\svm\\_base.py:985: ConvergenceWarning: Liblinear failed to converge, increase the number of iterations.\n",
      "  warnings.warn(\"Liblinear failed to converge, increase \"\n"
     ]
    },
    {
     "name": "stdout",
     "output_type": "stream",
     "text": [
      "Fitting estimator with 213 features.\n"
     ]
    },
    {
     "name": "stderr",
     "output_type": "stream",
     "text": [
      "C:\\Users\\okanc\\anaconda3\\lib\\site-packages\\sklearn\\svm\\_base.py:985: ConvergenceWarning: Liblinear failed to converge, increase the number of iterations.\n",
      "  warnings.warn(\"Liblinear failed to converge, increase \"\n"
     ]
    },
    {
     "name": "stdout",
     "output_type": "stream",
     "text": [
      "Fitting estimator with 203 features.\n"
     ]
    },
    {
     "name": "stderr",
     "output_type": "stream",
     "text": [
      "C:\\Users\\okanc\\anaconda3\\lib\\site-packages\\sklearn\\svm\\_base.py:985: ConvergenceWarning: Liblinear failed to converge, increase the number of iterations.\n",
      "  warnings.warn(\"Liblinear failed to converge, increase \"\n"
     ]
    },
    {
     "name": "stdout",
     "output_type": "stream",
     "text": [
      "Fitting estimator with 193 features.\n"
     ]
    },
    {
     "name": "stderr",
     "output_type": "stream",
     "text": [
      "C:\\Users\\okanc\\anaconda3\\lib\\site-packages\\sklearn\\svm\\_base.py:985: ConvergenceWarning: Liblinear failed to converge, increase the number of iterations.\n",
      "  warnings.warn(\"Liblinear failed to converge, increase \"\n"
     ]
    },
    {
     "name": "stdout",
     "output_type": "stream",
     "text": [
      "Fitting estimator with 183 features.\n"
     ]
    },
    {
     "name": "stderr",
     "output_type": "stream",
     "text": [
      "C:\\Users\\okanc\\anaconda3\\lib\\site-packages\\sklearn\\svm\\_base.py:985: ConvergenceWarning: Liblinear failed to converge, increase the number of iterations.\n",
      "  warnings.warn(\"Liblinear failed to converge, increase \"\n"
     ]
    },
    {
     "name": "stdout",
     "output_type": "stream",
     "text": [
      "Fitting estimator with 173 features.\n"
     ]
    },
    {
     "name": "stderr",
     "output_type": "stream",
     "text": [
      "C:\\Users\\okanc\\anaconda3\\lib\\site-packages\\sklearn\\svm\\_base.py:985: ConvergenceWarning: Liblinear failed to converge, increase the number of iterations.\n",
      "  warnings.warn(\"Liblinear failed to converge, increase \"\n"
     ]
    },
    {
     "name": "stdout",
     "output_type": "stream",
     "text": [
      "Fitting estimator with 163 features.\n"
     ]
    },
    {
     "name": "stderr",
     "output_type": "stream",
     "text": [
      "C:\\Users\\okanc\\anaconda3\\lib\\site-packages\\sklearn\\svm\\_base.py:985: ConvergenceWarning: Liblinear failed to converge, increase the number of iterations.\n",
      "  warnings.warn(\"Liblinear failed to converge, increase \"\n"
     ]
    },
    {
     "name": "stdout",
     "output_type": "stream",
     "text": [
      "Fitting estimator with 153 features.\n"
     ]
    },
    {
     "name": "stderr",
     "output_type": "stream",
     "text": [
      "C:\\Users\\okanc\\anaconda3\\lib\\site-packages\\sklearn\\svm\\_base.py:985: ConvergenceWarning: Liblinear failed to converge, increase the number of iterations.\n",
      "  warnings.warn(\"Liblinear failed to converge, increase \"\n"
     ]
    },
    {
     "name": "stdout",
     "output_type": "stream",
     "text": [
      "Fitting estimator with 143 features.\n",
      "Fitting estimator with 133 features.\n",
      "Fitting estimator with 123 features.\n"
     ]
    },
    {
     "name": "stderr",
     "output_type": "stream",
     "text": [
      "C:\\Users\\okanc\\anaconda3\\lib\\site-packages\\sklearn\\svm\\_base.py:985: ConvergenceWarning: Liblinear failed to converge, increase the number of iterations.\n",
      "  warnings.warn(\"Liblinear failed to converge, increase \"\n"
     ]
    },
    {
     "name": "stdout",
     "output_type": "stream",
     "text": [
      "Fitting estimator with 113 features.\n",
      "Fitting estimator with 103 features.\n",
      "Fitting estimator with 93 features.\n",
      "Fitting estimator with 83 features.\n",
      "Fitting estimator with 73 features.\n",
      "Fitting estimator with 63 features.\n",
      "Fitting estimator with 53 features.\n",
      "Fitting estimator with 43 features.\n",
      "Fitting estimator with 33 features.\n",
      "Fitting estimator with 23 features.\n"
     ]
    }
   ],
   "source": [
    "''' Feature Selection From New Matrix (Selected 10 Fetures From Original Matrix + New Generated Features) \n",
    "by Using Recursive Feature Elimination (RFE).This time 20 Features are Selected'''\n",
    "\n",
    "rfe_selector=RFE(estimator=LogisticRegression(solver='liblinear',C=1.0,random_state=0),n_features_to_select=20,step=10,verbose=10);\n",
    "rfe_selector=rfe_selector.fit(all_predictor_train,new_response_train);\n",
    "rfe_support=rfe_selector.get_support();\n",
    "rfe_feature=all_predictor_train.loc[:,rfe_support].columns.tolist();"
   ]
  },
  {
   "cell_type": "code",
   "execution_count": 104,
   "id": "c9b3d4fc",
   "metadata": {},
   "outputs": [
    {
     "data": {
      "text/html": [
       "<div>\n",
       "<style scoped>\n",
       "    .dataframe tbody tr th:only-of-type {\n",
       "        vertical-align: middle;\n",
       "    }\n",
       "\n",
       "    .dataframe tbody tr th {\n",
       "        vertical-align: top;\n",
       "    }\n",
       "\n",
       "    .dataframe thead th {\n",
       "        text-align: right;\n",
       "    }\n",
       "</style>\n",
       "<table border=\"1\" class=\"dataframe\">\n",
       "  <thead>\n",
       "    <tr style=\"text-align: right;\">\n",
       "      <th></th>\n",
       "      <th>0</th>\n",
       "      <th>5</th>\n",
       "      <th>6</th>\n",
       "      <th>7</th>\n",
       "      <th>8</th>\n",
       "      <th>9</th>\n",
       "      <th>10</th>\n",
       "      <th>22</th>\n",
       "      <th>26</th>\n",
       "      <th>39</th>\n",
       "      <th>43</th>\n",
       "      <th>44</th>\n",
       "      <th>46</th>\n",
       "      <th>55</th>\n",
       "      <th>59</th>\n",
       "      <th>60</th>\n",
       "      <th>65</th>\n",
       "      <th>70</th>\n",
       "      <th>74</th>\n",
       "      <th>78</th>\n",
       "    </tr>\n",
       "  </thead>\n",
       "  <tbody>\n",
       "    <tr>\n",
       "      <th>2</th>\n",
       "      <td>-0.37138</td>\n",
       "      <td>0.004308</td>\n",
       "      <td>-0.42913</td>\n",
       "      <td>0.161190</td>\n",
       "      <td>0.007712</td>\n",
       "      <td>-0.87080</td>\n",
       "      <td>0.026831</td>\n",
       "      <td>-0.000000</td>\n",
       "      <td>-0.005378</td>\n",
       "      <td>-0.000000</td>\n",
       "      <td>0.554651</td>\n",
       "      <td>0.018707</td>\n",
       "      <td>0.018282</td>\n",
       "      <td>0.100086</td>\n",
       "      <td>0.093490</td>\n",
       "      <td>-0.023091</td>\n",
       "      <td>1.738122</td>\n",
       "      <td>-0.047961</td>\n",
       "      <td>-0.083103</td>\n",
       "      <td>0.045341</td>\n",
       "    </tr>\n",
       "    <tr>\n",
       "      <th>3</th>\n",
       "      <td>-0.34309</td>\n",
       "      <td>0.102430</td>\n",
       "      <td>-0.23053</td>\n",
       "      <td>0.250020</td>\n",
       "      <td>0.614220</td>\n",
       "      <td>-0.09877</td>\n",
       "      <td>0.008740</td>\n",
       "      <td>-0.065934</td>\n",
       "      <td>-0.007179</td>\n",
       "      <td>-0.000000</td>\n",
       "      <td>0.050059</td>\n",
       "      <td>-0.039789</td>\n",
       "      <td>-0.060792</td>\n",
       "      <td>0.000456</td>\n",
       "      <td>0.141898</td>\n",
       "      <td>-0.037403</td>\n",
       "      <td>-0.793494</td>\n",
       "      <td>-0.020156</td>\n",
       "      <td>-0.056204</td>\n",
       "      <td>0.051029</td>\n",
       "    </tr>\n",
       "    <tr>\n",
       "      <th>4</th>\n",
       "      <td>-0.32478</td>\n",
       "      <td>-0.020251</td>\n",
       "      <td>-0.19732</td>\n",
       "      <td>0.316050</td>\n",
       "      <td>0.500950</td>\n",
       "      <td>-0.10414</td>\n",
       "      <td>0.021932</td>\n",
       "      <td>-0.028249</td>\n",
       "      <td>-0.001784</td>\n",
       "      <td>-0.000000</td>\n",
       "      <td>-0.017882</td>\n",
       "      <td>0.082887</td>\n",
       "      <td>0.054429</td>\n",
       "      <td>-0.061667</td>\n",
       "      <td>0.020698</td>\n",
       "      <td>-0.005756</td>\n",
       "      <td>-0.000000</td>\n",
       "      <td>-0.027437</td>\n",
       "      <td>0.041310</td>\n",
       "      <td>0.000000</td>\n",
       "    </tr>\n",
       "    <tr>\n",
       "      <th>5</th>\n",
       "      <td>-0.33477</td>\n",
       "      <td>0.371970</td>\n",
       "      <td>0.69930</td>\n",
       "      <td>0.915790</td>\n",
       "      <td>0.905200</td>\n",
       "      <td>-0.16757</td>\n",
       "      <td>-0.021462</td>\n",
       "      <td>-0.184111</td>\n",
       "      <td>0.010818</td>\n",
       "      <td>-0.000000</td>\n",
       "      <td>-0.218493</td>\n",
       "      <td>0.002945</td>\n",
       "      <td>0.066980</td>\n",
       "      <td>-0.003951</td>\n",
       "      <td>-0.055534</td>\n",
       "      <td>-0.010584</td>\n",
       "      <td>1.536932</td>\n",
       "      <td>0.010576</td>\n",
       "      <td>0.043198</td>\n",
       "      <td>-0.082537</td>\n",
       "    </tr>\n",
       "    <tr>\n",
       "      <th>6</th>\n",
       "      <td>-0.37305</td>\n",
       "      <td>1.256600</td>\n",
       "      <td>0.33464</td>\n",
       "      <td>1.339800</td>\n",
       "      <td>1.378800</td>\n",
       "      <td>-1.24620</td>\n",
       "      <td>0.004648</td>\n",
       "      <td>-0.166274</td>\n",
       "      <td>-0.007166</td>\n",
       "      <td>-0.000000</td>\n",
       "      <td>-0.124249</td>\n",
       "      <td>0.058698</td>\n",
       "      <td>0.033995</td>\n",
       "      <td>0.008421</td>\n",
       "      <td>0.010166</td>\n",
       "      <td>-0.007863</td>\n",
       "      <td>1.817538</td>\n",
       "      <td>0.013958</td>\n",
       "      <td>0.036927</td>\n",
       "      <td>-0.042418</td>\n",
       "    </tr>\n",
       "    <tr>\n",
       "      <th>...</th>\n",
       "      <td>...</td>\n",
       "      <td>...</td>\n",
       "      <td>...</td>\n",
       "      <td>...</td>\n",
       "      <td>...</td>\n",
       "      <td>...</td>\n",
       "      <td>...</td>\n",
       "      <td>...</td>\n",
       "      <td>...</td>\n",
       "      <td>...</td>\n",
       "      <td>...</td>\n",
       "      <td>...</td>\n",
       "      <td>...</td>\n",
       "      <td>...</td>\n",
       "      <td>...</td>\n",
       "      <td>...</td>\n",
       "      <td>...</td>\n",
       "      <td>...</td>\n",
       "      <td>...</td>\n",
       "      <td>...</td>\n",
       "    </tr>\n",
       "    <tr>\n",
       "      <th>4495</th>\n",
       "      <td>0.86844</td>\n",
       "      <td>-1.048900</td>\n",
       "      <td>-1.25250</td>\n",
       "      <td>-0.759570</td>\n",
       "      <td>-0.390140</td>\n",
       "      <td>-0.46121</td>\n",
       "      <td>-0.120108</td>\n",
       "      <td>-0.014022</td>\n",
       "      <td>0.000000</td>\n",
       "      <td>0.000000</td>\n",
       "      <td>0.010017</td>\n",
       "      <td>-0.019001</td>\n",
       "      <td>-0.013323</td>\n",
       "      <td>-0.050971</td>\n",
       "      <td>0.001992</td>\n",
       "      <td>-0.014963</td>\n",
       "      <td>-0.016508</td>\n",
       "      <td>-0.035342</td>\n",
       "      <td>0.015259</td>\n",
       "      <td>-0.064800</td>\n",
       "    </tr>\n",
       "    <tr>\n",
       "      <th>4496</th>\n",
       "      <td>0.84847</td>\n",
       "      <td>-0.779230</td>\n",
       "      <td>-0.64141</td>\n",
       "      <td>-0.059978</td>\n",
       "      <td>-0.120240</td>\n",
       "      <td>-1.47020</td>\n",
       "      <td>-0.409495</td>\n",
       "      <td>-0.008888</td>\n",
       "      <td>0.000000</td>\n",
       "      <td>0.000000</td>\n",
       "      <td>-0.024786</td>\n",
       "      <td>-0.006485</td>\n",
       "      <td>-0.072600</td>\n",
       "      <td>-0.012620</td>\n",
       "      <td>0.044315</td>\n",
       "      <td>-0.030381</td>\n",
       "      <td>-0.022381</td>\n",
       "      <td>-0.031966</td>\n",
       "      <td>-0.011972</td>\n",
       "      <td>-0.104044</td>\n",
       "    </tr>\n",
       "    <tr>\n",
       "      <th>4497</th>\n",
       "      <td>0.83182</td>\n",
       "      <td>-0.656960</td>\n",
       "      <td>-0.18379</td>\n",
       "      <td>-0.533220</td>\n",
       "      <td>-0.348900</td>\n",
       "      <td>0.04782</td>\n",
       "      <td>-0.693489</td>\n",
       "      <td>-0.012555</td>\n",
       "      <td>0.000000</td>\n",
       "      <td>-1.082239</td>\n",
       "      <td>-0.050816</td>\n",
       "      <td>-0.017262</td>\n",
       "      <td>-0.027323</td>\n",
       "      <td>-0.079983</td>\n",
       "      <td>0.047224</td>\n",
       "      <td>-0.028930</td>\n",
       "      <td>-0.028616</td>\n",
       "      <td>-0.037847</td>\n",
       "      <td>-0.010657</td>\n",
       "      <td>-0.251465</td>\n",
       "    </tr>\n",
       "    <tr>\n",
       "      <th>4498</th>\n",
       "      <td>0.80520</td>\n",
       "      <td>-0.534780</td>\n",
       "      <td>0.09119</td>\n",
       "      <td>-0.842820</td>\n",
       "      <td>-0.744600</td>\n",
       "      <td>-0.39424</td>\n",
       "      <td>-1.914422</td>\n",
       "      <td>-0.019967</td>\n",
       "      <td>0.000000</td>\n",
       "      <td>-0.000000</td>\n",
       "      <td>-0.053554</td>\n",
       "      <td>-0.013196</td>\n",
       "      <td>0.037441</td>\n",
       "      <td>-0.139087</td>\n",
       "      <td>0.051897</td>\n",
       "      <td>0.026400</td>\n",
       "      <td>-0.005892</td>\n",
       "      <td>-0.022087</td>\n",
       "      <td>-0.002606</td>\n",
       "      <td>-0.180967</td>\n",
       "    </tr>\n",
       "    <tr>\n",
       "      <th>4499</th>\n",
       "      <td>0.80353</td>\n",
       "      <td>0.175530</td>\n",
       "      <td>0.15233</td>\n",
       "      <td>-0.595740</td>\n",
       "      <td>-0.328510</td>\n",
       "      <td>-1.24280</td>\n",
       "      <td>-0.000000</td>\n",
       "      <td>0.011120</td>\n",
       "      <td>0.052320</td>\n",
       "      <td>-0.000000</td>\n",
       "      <td>0.016972</td>\n",
       "      <td>-0.053578</td>\n",
       "      <td>-0.115466</td>\n",
       "      <td>-0.052476</td>\n",
       "      <td>0.010425</td>\n",
       "      <td>-0.055819</td>\n",
       "      <td>-0.035561</td>\n",
       "      <td>-0.065273</td>\n",
       "      <td>-0.010190</td>\n",
       "      <td>0.000000</td>\n",
       "    </tr>\n",
       "  </tbody>\n",
       "</table>\n",
       "<p>4498 rows × 20 columns</p>\n",
       "</div>"
      ],
      "text/plain": [
       "           0         5        6         7         8        9         10  \\\n",
       "2    -0.37138  0.004308 -0.42913  0.161190  0.007712 -0.87080  0.026831   \n",
       "3    -0.34309  0.102430 -0.23053  0.250020  0.614220 -0.09877  0.008740   \n",
       "4    -0.32478 -0.020251 -0.19732  0.316050  0.500950 -0.10414  0.021932   \n",
       "5    -0.33477  0.371970  0.69930  0.915790  0.905200 -0.16757 -0.021462   \n",
       "6    -0.37305  1.256600  0.33464  1.339800  1.378800 -1.24620  0.004648   \n",
       "...       ...       ...      ...       ...       ...      ...       ...   \n",
       "4495  0.86844 -1.048900 -1.25250 -0.759570 -0.390140 -0.46121 -0.120108   \n",
       "4496  0.84847 -0.779230 -0.64141 -0.059978 -0.120240 -1.47020 -0.409495   \n",
       "4497  0.83182 -0.656960 -0.18379 -0.533220 -0.348900  0.04782 -0.693489   \n",
       "4498  0.80520 -0.534780  0.09119 -0.842820 -0.744600 -0.39424 -1.914422   \n",
       "4499  0.80353  0.175530  0.15233 -0.595740 -0.328510 -1.24280 -0.000000   \n",
       "\n",
       "            22        26        39        43        44        46        55  \\\n",
       "2    -0.000000 -0.005378 -0.000000  0.554651  0.018707  0.018282  0.100086   \n",
       "3    -0.065934 -0.007179 -0.000000  0.050059 -0.039789 -0.060792  0.000456   \n",
       "4    -0.028249 -0.001784 -0.000000 -0.017882  0.082887  0.054429 -0.061667   \n",
       "5    -0.184111  0.010818 -0.000000 -0.218493  0.002945  0.066980 -0.003951   \n",
       "6    -0.166274 -0.007166 -0.000000 -0.124249  0.058698  0.033995  0.008421   \n",
       "...        ...       ...       ...       ...       ...       ...       ...   \n",
       "4495 -0.014022  0.000000  0.000000  0.010017 -0.019001 -0.013323 -0.050971   \n",
       "4496 -0.008888  0.000000  0.000000 -0.024786 -0.006485 -0.072600 -0.012620   \n",
       "4497 -0.012555  0.000000 -1.082239 -0.050816 -0.017262 -0.027323 -0.079983   \n",
       "4498 -0.019967  0.000000 -0.000000 -0.053554 -0.013196  0.037441 -0.139087   \n",
       "4499  0.011120  0.052320 -0.000000  0.016972 -0.053578 -0.115466 -0.052476   \n",
       "\n",
       "            59        60        65        70        74        78  \n",
       "2     0.093490 -0.023091  1.738122 -0.047961 -0.083103  0.045341  \n",
       "3     0.141898 -0.037403 -0.793494 -0.020156 -0.056204  0.051029  \n",
       "4     0.020698 -0.005756 -0.000000 -0.027437  0.041310  0.000000  \n",
       "5    -0.055534 -0.010584  1.536932  0.010576  0.043198 -0.082537  \n",
       "6     0.010166 -0.007863  1.817538  0.013958  0.036927 -0.042418  \n",
       "...        ...       ...       ...       ...       ...       ...  \n",
       "4495  0.001992 -0.014963 -0.016508 -0.035342  0.015259 -0.064800  \n",
       "4496  0.044315 -0.030381 -0.022381 -0.031966 -0.011972 -0.104044  \n",
       "4497  0.047224 -0.028930 -0.028616 -0.037847 -0.010657 -0.251465  \n",
       "4498  0.051897  0.026400 -0.005892 -0.022087 -0.002606 -0.180967  \n",
       "4499  0.010425 -0.055819 -0.035561 -0.065273 -0.010190  0.000000  \n",
       "\n",
       "[4498 rows x 20 columns]"
      ]
     },
     "execution_count": 104,
     "metadata": {},
     "output_type": "execute_result"
    }
   ],
   "source": [
    "# New Selected Features From New Matrix\n",
    "all_predictor_train=all_predictor_train[rfe_feature]\n",
    "all_predictor_test=all_predictor_test[rfe_feature]\n",
    "all_predictor_train[rfe_feature]"
   ]
  },
  {
   "cell_type": "code",
   "execution_count": 105,
   "id": "9671acf7",
   "metadata": {},
   "outputs": [],
   "source": [
    "# Training with New Selected Features\n",
    "\n",
    "model_new=LogisticRegression(solver='liblinear',C=1.0,random_state=0)\n",
    "model_fit_new=model.fit(all_predictor_train,new_response_train)\n",
    "\n",
    "prob_pred_train_new=model_fit_new.predict_proba(all_predictor_train)[:,1]\n",
    "\n",
    "FP_Rate_Train_new,TP_Rate_Train_new,_=metrics.roc_curve(new_response_train,prob_pred_train_new)\n",
    "AUC_Train_new=metrics.roc_auc_score(new_response_train,prob_pred_train_new)"
   ]
  },
  {
   "cell_type": "code",
   "execution_count": 106,
   "id": "9ebec74e",
   "metadata": {},
   "outputs": [],
   "source": [
    "# Testing with New Selected Features\n",
    "\n",
    "prob_pred_test_new=model_fit_new.predict_proba(all_predictor_test)[:,1]\n",
    "\n",
    "FP_Rate_Test_new,TP_Rate_Test_new,_=metrics.roc_curve(new_response_test,prob_pred_test_new)\n",
    "AUC_Test_new=metrics.roc_auc_score(new_response_test,prob_pred_test_new)"
   ]
  },
  {
   "cell_type": "code",
   "execution_count": 107,
   "id": "fc655730",
   "metadata": {},
   "outputs": [
    {
     "name": "stdout",
     "output_type": "stream",
     "text": [
      "Differance Between New AUC_Train and AUC_Test= 0.017607355544629888\n"
     ]
    },
    {
     "data": {
      "text/plain": [
       "<function matplotlib.pyplot.show(close=None, block=None)>"
      ]
     },
     "execution_count": 107,
     "metadata": {},
     "output_type": "execute_result"
    },
    {
     "data": {
      "image/png": "[encoded data removed]",
      "text/plain": [
       "<Figure size 432x288 with 1 Axes>"
      ]
     },
     "metadata": {
      "needs_background": "light"
     },
     "output_type": "display_data"
    }
   ],
   "source": [
    "# Plotting ROC for New Selected Features\n",
    "\n",
    "differance_new=AUC_Train_new-AUC_Test_new\n",
    "print('Differance Between New AUC_Train and AUC_Test=',differance_new)\n",
    "plt.plot(FP_Rate_Train_new,TP_Rate_Train_new,label='HW4, AUC_Train='+str(AUC_Train_new),color='r')\n",
    "plt.plot(FP_Rate_Test_new,TP_Rate_Test_new,label='HW4, AUC_Test='+str(AUC_Test_new),color='b')\n",
    "plt.xlabel('False Positive Rate')\n",
    "plt.ylabel('True Positive Rate')\n",
    "plt.title('ROC Curve')\n",
    "plt.legend(loc=4)\n",
    "plt.show"
   ]
  },
  {
   "cell_type": "markdown",
   "id": "a3cad4e0",
   "metadata": {},
   "source": [
    "As we can see on the graph, the difference between AUC_Train and AUC_Test is 0.017607355544629888; it is really small after the new feature selection.\n",
    "\n",
    "The new predictor matrix has affected the feature selection; we can see that the last feature selection first 6 columns are from original data, and the rest of the 14 columns are from the newly generated matrix. When we compare the three graphs, we can see that the last performance is way better than the other two. Because in the last part we elaminated most of the irrelavent columns and because of that our model performed better.\n",
    "\n",
    "##### Training and Testing:\n",
    "1-Original Data ---->> AUC_Train - AUC_Test=0.12983034366637003\n",
    "\n",
    "2-New Matrix (Original Data + Generated Matrix) ---->> AUC_Train - AUC_Test= 0.40244435932705347\n",
    "\n",
    "3-Selected Features From New Matrix---->>AUC_Train - AUC_Test= 0.017607355544629888\n",
    "\n",
    "We reached the high accuracy by the help of feature engineering and feature selection.\n"
   ]
  }
 ],
 "metadata": {
  "kernelspec": {
   "display_name": "Python 3 (ipykernel)",
   "language": "python",
   "name": "python3"
  },
  "language_info": {
   "codemirror_mode": {
    "name": "ipython",
    "version": 3
   },
   "file_extension": ".py",
   "mimetype": "text/x-python",
   "name": "python",
   "nbconvert_exporter": "python",
   "pygments_lexer": "ipython3",
   "version": "3.9.7"
  }
 },
 "nbformat": 4,
 "nbformat_minor": 5
}
